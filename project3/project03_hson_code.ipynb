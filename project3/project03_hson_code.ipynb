{
 "cells": [
  {
   "cell_type": "markdown",
   "metadata": {},
   "source": [
    "### ECE 763 Project 3 Babysitting the training of DNN"
   ]
  },
  {
   "cell_type": "markdown",
   "metadata": {},
   "source": [
    "                                                                                   Rachel Hyo Son"
   ]
  },
  {
   "cell_type": "code",
   "execution_count": 1,
   "metadata": {},
   "outputs": [],
   "source": [
    "import torch\n",
    "import torchvision\n",
    "from torchvision import transforms\n",
    "from torchvision.datasets import ImageFolder\n",
    "from torch.utils.data import DataLoader\n",
    "from torchvision.transforms import ToTensor,Resize,Normalize\n",
    "%matplotlib inline\n",
    "import numpy as np\n",
    "import os\n",
    "import torch.nn as nn\n",
    "import matplotlib.pyplot as plt\n",
    "import cv2\n",
    "from time import time"
   ]
  },
  {
   "cell_type": "code",
   "execution_count": 2,
   "metadata": {},
   "outputs": [
    {
     "data": {
      "text/plain": [
       "'C:\\\\Users\\\\Rache\\\\Documents\\\\GitHub\\\\ECE 763\\\\hson_project03\\\\00.psudo'"
      ]
     },
     "execution_count": 2,
     "metadata": {},
     "output_type": "execute_result"
    }
   ],
   "source": [
    "os.getcwd()"
   ]
  },
  {
   "cell_type": "code",
   "execution_count": 3,
   "metadata": {},
   "outputs": [],
   "source": [
    "root_dir='./main_dir'"
   ]
  },
  {
   "cell_type": "markdown",
   "metadata": {},
   "source": [
    "**Using `CIFAR10` dataset to build my model**"
   ]
  },
  {
   "cell_type": "code",
   "execution_count": 4,
   "metadata": {},
   "outputs": [
    {
     "name": "stdout",
     "output_type": "stream",
     "text": [
      "Files already downloaded and verified\n",
      "Files already downloaded and verified\n"
     ]
    }
   ],
   "source": [
    "import torchvision.transforms as transforms\n",
    "transform = transforms.Compose(\n",
    "    [transforms.ToTensor(),\n",
    "     transforms.Normalize((0.5, 0.5, 0.5), (0.5, 0.5, 0.5))])\n",
    "\n",
    "trainset = torchvision.datasets.CIFAR10(root='./data', train=True,\n",
    "                                        download=True, transform=transform)\n",
    "trainloader = torch.utils.data.DataLoader(trainset, batch_size=4,\n",
    "                                          shuffle=True, num_workers=2)\n",
    "\n",
    "testset = torchvision.datasets.CIFAR10(root='./data', train=False,\n",
    "                                       download=True, transform=transform)\n",
    "testloader = torch.utils.data.DataLoader(testset, batch_size=4,\n",
    "                                         shuffle=False, num_workers=2)\n",
    "\n",
    "classes = ('plane', 'car', 'bird', 'cat',\n",
    "           'deer', 'dog', 'frog', 'horse', 'ship', 'truck')"
   ]
  },
  {
   "cell_type": "code",
   "execution_count": 5,
   "metadata": {},
   "outputs": [
    {
     "data": {
      "text/plain": [
       "Dataset CIFAR10\n",
       "    Number of datapoints: 50000\n",
       "    Root location: ./data\n",
       "    Split: Train\n",
       "    StandardTransform\n",
       "Transform: Compose(\n",
       "               ToTensor()\n",
       "               Normalize(mean=(0.5, 0.5, 0.5), std=(0.5, 0.5, 0.5))\n",
       "           )"
      ]
     },
     "execution_count": 5,
     "metadata": {},
     "output_type": "execute_result"
    }
   ],
   "source": [
    "trainset"
   ]
  },
  {
   "cell_type": "code",
   "execution_count": 6,
   "metadata": {},
   "outputs": [
    {
     "name": "stdout",
     "output_type": "stream",
     "text": [
      "cuda:0\n"
     ]
    }
   ],
   "source": [
    "device = torch.device(\"cuda:0\" if torch.cuda.is_available() else \"cpu\")\n",
    "\n",
    "# Assuming that we are on a CUDA machine, this should print a CUDA device:\n",
    "\n",
    "print(device)"
   ]
  },
  {
   "cell_type": "code",
   "execution_count": 7,
   "metadata": {},
   "outputs": [
    {
     "name": "stdout",
     "output_type": "stream",
     "text": [
      "torch.Size([4, 3, 32, 32])\n",
      "torch.Size([4])\n"
     ]
    }
   ],
   "source": [
    "dataiter = iter(trainloader)\n",
    "images, labels = dataiter.next()\n",
    "\n",
    "print(images.shape) # batch size , # of channel, # pixelsize, pixel size \n",
    "print(labels.shape)"
   ]
  },
  {
   "cell_type": "code",
   "execution_count": 8,
   "metadata": {},
   "outputs": [],
   "source": [
    "def imshow(img):\n",
    "    img = img / 2 + 0.5     # unnormalize\n",
    "    npimg = img.numpy()\n",
    "    plt.imshow(np.transpose(npimg, (1, 2, 0)))\n",
    "    plt.show()"
   ]
  },
  {
   "cell_type": "code",
   "execution_count": 9,
   "metadata": {},
   "outputs": [
    {
     "data": {
      "image/png": "[encoded data removed]",
      "text/plain": [
       "<Figure size 432x288 with 1 Axes>"
      ]
     },
     "metadata": {
      "needs_background": "light"
     },
     "output_type": "display_data"
    },
    {
     "name": "stdout",
     "output_type": "stream",
     "text": [
      " bird   car  ship   cat\n"
     ]
    }
   ],
   "source": [
    "imshow(torchvision.utils.make_grid(images))\n",
    "# print labels\n",
    "print(' '.join('%5s' % classes[labels[j]] for j in range(4)))"
   ]
  },
  {
   "cell_type": "code",
   "execution_count": 10,
   "metadata": {},
   "outputs": [],
   "source": [
    "inputSize = 32*32*3\n",
    "outputSize = 10\n",
    "hiddenSize = 50"
   ]
  },
  {
   "cell_type": "markdown",
   "metadata": {},
   "source": [
    "parameter : `requires_grad` want gradients with respect to weights"
   ]
  },
  {
   "cell_type": "markdown",
   "metadata": {},
   "source": [
    "**pytorch.autograd** provides classes and functions implementing automatic differentiation of arbitrary scalar valued functions. It requires minimal changes to the existing code - you only need to declare Tensor s for which gradients should be computed with the `requires_grad=True` keyword."
   ]
  },
  {
   "cell_type": "code",
   "execution_count": 11,
   "metadata": {},
   "outputs": [],
   "source": [
    "W1 = torch.randn(inputSize, hiddenSize, requires_grad=True)\n",
    "#W1.requires_grad_()\n",
    "W2 = torch.randn(hiddenSize,outputSize, requires_grad=True)\n",
    "#W2.requires_grad_()"
   ]
  },
  {
   "cell_type": "markdown",
   "metadata": {},
   "source": [
    "#### Active Function"
   ]
  },
  {
   "cell_type": "code",
   "execution_count": 12,
   "metadata": {},
   "outputs": [],
   "source": [
    "from torch.nn import Sigmoid\n",
    "sigmoid = Sigmoid()"
   ]
  },
  {
   "cell_type": "code",
   "execution_count": 13,
   "metadata": {},
   "outputs": [],
   "source": [
    "def model_Sigmoid(X):\n",
    "    z  = torch.matmul(X, W1)\n",
    "    z2 = sigmoid(z)\n",
    "    z3 = torch.matmul(z2,W2)\n",
    "    #o  = sigmoid(z3)\n",
    "    return z3"
   ]
  },
  {
   "cell_type": "markdown",
   "metadata": {},
   "source": [
    "Rectified Linear unit (ReLU) are commonly used since they are relatively robust to the vanishing/exploding gradient issues"
   ]
  },
  {
   "cell_type": "code",
   "execution_count": 14,
   "metadata": {},
   "outputs": [],
   "source": [
    "def model_Relu(X):\n",
    "    z  = torch.matmul(X, W1)\n",
    "    z2 = z.clamp(min=0)\n",
    "    z3 = torch.matmul(z2,W2)\n",
    "    #o  = sigmoid(z3)\n",
    "    return z3"
   ]
  },
  {
   "cell_type": "markdown",
   "metadata": {},
   "source": [
    "#### Loss Function "
   ]
  },
  {
   "cell_type": "markdown",
   "metadata": {},
   "source": [
    "- Measures the cross-entropy between the predicted and the actual value. \n",
    "- x is the probability of the true label and y is the probability of predicted label \n",
    "- cross-entropy as a loss function is used to learn the probability distribution of the data. cross entropy gives a greater penalty when incorrect predictions are predicted with high confidence"
   ]
  },
  {
   "cell_type": "code",
   "execution_count": 15,
   "metadata": {},
   "outputs": [],
   "source": [
    "criterion = nn.CrossEntropyLoss()"
   ]
  },
  {
   "cell_type": "markdown",
   "metadata": {},
   "source": [
    "#### Training loop\n",
    "- `loss.backward()`: updates the gradients of the model (`weight`)\n",
    "- `with torch.no_grad()`: use gradients to update the `weight`\n",
    "- `grad.zero_()`: set the gradients to zero, so that get ready for the next\n"
   ]
  },
  {
   "cell_type": "code",
   "execution_count": 16,
   "metadata": {},
   "outputs": [
    {
     "name": "stderr",
     "output_type": "stream",
     "text": [
      "C:\\Users\\Rache\\Anaconda3\\lib\\site-packages\\ipykernel_launcher.py:8: UserWarning: To copy construct from a tensor, it is recommended to use sourceTensor.clone().detach() or sourceTensor.clone().detach().requires_grad_(True), rather than torch.tensor(sourceTensor).\n",
      "  \n"
     ]
    }
   ],
   "source": [
    "time0 = time()\n",
    "lr = 0.5 # learning rate\n",
    "for i, data in enumerate(trainloader, 0):\n",
    "    running_loss = 0\n",
    "    # get the inputs; data is a list of [inputs, labels]\n",
    "    inputs, labels = data\n",
    "    X = torch.reshape(inputs,(-1,32*32*3))\n",
    "    x = torch.tensor(X)\n",
    "    output = model_Sigmoid(x)   \n",
    "    \n",
    "    loss = criterion(output,labels)\n",
    "    loss.backward() ## updates the gradients of the model weights \n",
    "    \n",
    "    running_loss += loss.item()\n",
    "    with torch.no_grad():\n",
    "        W1 -=  W1.grad *lr\n",
    "        W2 -=  W2.grad *lr\n",
    "        W1.grad.zero_()\n",
    "        W2.grad.zero_()   \n",
    "    #print(f' Loss : {running_loss/len(trainloader)}')\n",
    "#print(f' Training Time : {(time()-time0)/60}')"
   ]
  },
  {
   "cell_type": "code",
   "execution_count": 17,
   "metadata": {},
   "outputs": [
    {
     "data": {
      "text/plain": [
       "torch.Size([4, 3072])"
      ]
     },
     "execution_count": 17,
     "metadata": {},
     "output_type": "execute_result"
    }
   ],
   "source": [
    "X.size()"
   ]
  },
  {
   "cell_type": "code",
   "execution_count": 18,
   "metadata": {},
   "outputs": [
    {
     "data": {
      "text/plain": [
       "tensor([2, 2, 6, 3])"
      ]
     },
     "execution_count": 18,
     "metadata": {},
     "output_type": "execute_result"
    }
   ],
   "source": [
    "labels"
   ]
  },
  {
   "cell_type": "markdown",
   "metadata": {},
   "source": [
    "#### loop over the dataset multiple times using `epoch`"
   ]
  },
  {
   "cell_type": "code",
   "execution_count": 19,
   "metadata": {},
   "outputs": [
    {
     "name": "stderr",
     "output_type": "stream",
     "text": [
      "C:\\Users\\Rache\\Anaconda3\\lib\\site-packages\\ipykernel_launcher.py:9: UserWarning: To copy construct from a tensor, it is recommended to use sourceTensor.clone().detach() or sourceTensor.clone().detach().requires_grad_(True), rather than torch.tensor(sourceTensor).\n",
      "  if __name__ == '__main__':\n"
     ]
    },
    {
     "name": "stdout",
     "output_type": "stream",
     "text": [
      "Epoch:1,loss:2.57\n",
      "Epoch:1,loss:2.53\n",
      "Epoch:1,loss:2.53\n",
      "Epoch:1,loss:2.55\n",
      "Epoch:1,loss:2.50\n",
      "Epoch:1,loss:2.49\n",
      "Epoch:2,loss:2.49\n",
      "Epoch:2,loss:2.48\n",
      "Epoch:2,loss:2.46\n",
      "Epoch:2,loss:2.45\n",
      "Epoch:2,loss:2.41\n",
      "Epoch:2,loss:2.44\n",
      "Epoch:3,loss:2.43\n",
      "Epoch:3,loss:2.41\n",
      "Epoch:3,loss:2.45\n",
      "Epoch:3,loss:2.41\n",
      "Epoch:3,loss:2.42\n",
      "Epoch:3,loss:2.43\n",
      "Finished Training\n"
     ]
    }
   ],
   "source": [
    "for epoch in range(3):\n",
    "    running_loss = 0.0\n",
    "    lr = 0.5 # learning rate\n",
    "    for i, data in enumerate(trainloader, 0):\n",
    "    \n",
    "        # get the inputs; data is a list of [inputs, labels]\n",
    "        inputs, labels = data\n",
    "        X = inputs.reshape(-1,32*32*3)\n",
    "        x = torch.tensor(X)\n",
    "        output = model_Sigmoid(x)   \n",
    "    \n",
    "        loss = criterion(output,labels)\n",
    "        loss.backward() ## updates the gradients of the model weights \n",
    "    \n",
    "        with torch.no_grad():\n",
    "            W1 -=  W1.grad *lr\n",
    "            W2 -=  W2.grad *lr\n",
    "            W1.grad.zero_()\n",
    "            W2.grad.zero_()\n",
    "        # print statistics\n",
    "        running_loss += loss.item()\n",
    "        if i % 2000 == 1999:    # print every 2000 mini-batches\n",
    "            #print('[%d, %5d] loss: %.3f' %\n",
    "                 # (epoch + 1, i + 1, running_loss / 2000))\n",
    "            print(f'Epoch:{epoch+1},loss:{running_loss/2000:.2f}')\n",
    "            running_loss = 0.0\n",
    "\n",
    "print('Finished Training')"
   ]
  },
  {
   "cell_type": "markdown",
   "metadata": {},
   "source": [
    "####  Model-1: activation function with Sigmoid"
   ]
  },
  {
   "cell_type": "code",
   "execution_count": 20,
   "metadata": {},
   "outputs": [],
   "source": [
    "inputSize = 32*32*3\n",
    "outputSize = 10\n",
    "hiddenSize_1 = 100"
   ]
  },
  {
   "cell_type": "code",
   "execution_count": 21,
   "metadata": {},
   "outputs": [
    {
     "name": "stdout",
     "output_type": "stream",
     "text": [
      "Sequential(\n",
      "  (0): Linear(in_features=3072, out_features=50, bias=True)\n",
      "  (1): Sigmoid()\n",
      "  (2): Linear(in_features=50, out_features=10, bias=True)\n",
      ")\n"
     ]
    }
   ],
   "source": [
    "model = torch.nn.Sequential(\n",
    "    torch.nn.Linear(inputSize,hiddenSize),\n",
    "    torch.nn.Sigmoid(),\n",
    "    torch.nn.Linear(hiddenSize,outputSize))\n",
    "print(model)"
   ]
  },
  {
   "cell_type": "code",
   "execution_count": 22,
   "metadata": {},
   "outputs": [
    {
     "name": "stderr",
     "output_type": "stream",
     "text": [
      "C:\\Users\\Rache\\Anaconda3\\lib\\site-packages\\ipykernel_launcher.py:10: UserWarning: To copy construct from a tensor, it is recommended to use sourceTensor.clone().detach() or sourceTensor.clone().detach().requires_grad_(True), rather than torch.tensor(sourceTensor).\n",
      "  # Remove the CWD from sys.path while we load stuff.\n"
     ]
    },
    {
     "name": "stdout",
     "output_type": "stream",
     "text": [
      "[1,  2000] loss: 2.049\n",
      "[1,  4000] loss: 1.853\n",
      "[1,  6000] loss: 1.812\n",
      "[1,  8000] loss: 1.773\n",
      "[1, 10000] loss: 1.743\n",
      "[1, 12000] loss: 1.733\n",
      "[2,  2000] loss: 1.704\n",
      "[2,  4000] loss: 1.674\n",
      "[2,  6000] loss: 1.675\n",
      "[2,  8000] loss: 1.670\n",
      "[2, 10000] loss: 1.674\n",
      "[2, 12000] loss: 1.675\n",
      "Finished Training\n"
     ]
    }
   ],
   "source": [
    "for epoch in range(2): \n",
    "    learning_rate = 1e-2\n",
    "    momentum = 0\n",
    "    optimizer = torch.optim.SGD(model.parameters(),lr=learning_rate, momentum=momentum)\n",
    "    \n",
    "    running_loss = 0.0\n",
    "    for i, data in enumerate(trainloader, 0):\n",
    "        inputs, labels = data\n",
    "        X = inputs.reshape(-1,32*32*3)\n",
    "        x = torch.tensor(X)\n",
    "        y_pred = model(x)\n",
    "        loss = criterion(y_pred,labels)\n",
    "    \n",
    "        loss.backward()\n",
    "    \n",
    "        optimizer.step()\n",
    "        optimizer.zero_grad()\n",
    "        \n",
    "        running_loss += loss.item()\n",
    "        if i % 2000 == 1999:    # print every 2000 mini-batches\n",
    "            print('[%d, %5d] loss: %.3f' %\n",
    "                  (epoch + 1, i + 1, running_loss / 2000))\n",
    "            running_loss = 0.0\n",
    "\n",
    "print('Finished Training')"
   ]
  },
  {
   "cell_type": "code",
   "execution_count": 23,
   "metadata": {},
   "outputs": [
    {
     "name": "stdout",
     "output_type": "stream",
     "text": [
      "Accuracy of the network on the 10000 test images: 42 %\n"
     ]
    }
   ],
   "source": [
    "#train score\n",
    "correct = 0\n",
    "total = 0\n",
    "with torch.no_grad():\n",
    "    for data in testloader:\n",
    "        images, labels = data\n",
    "        X = images.reshape(-1,32*32*3)\n",
    "        outputs = model(X)\n",
    "        _, predicted = torch.max(outputs.data, 1)\n",
    "        total += labels.size(0)\n",
    "        correct += (predicted == labels).sum().item()\n",
    "\n",
    "print('Accuracy of the network on the 10000 test images: %d %%' % (\n",
    "    100 * correct / total))"
   ]
  },
  {
   "cell_type": "code",
   "execution_count": 24,
   "metadata": {},
   "outputs": [
    {
     "name": "stdout",
     "output_type": "stream",
     "text": [
      "Accuracy of plane : 57 %\n",
      "Accuracy of   car : 46 %\n",
      "Accuracy of  bird : 22 %\n",
      "Accuracy of   cat : 17 %\n",
      "Accuracy of  deer : 33 %\n",
      "Accuracy of   dog : 36 %\n",
      "Accuracy of  frog : 58 %\n",
      "Accuracy of horse : 45 %\n",
      "Accuracy of  ship : 51 %\n",
      "Accuracy of truck : 57 %\n"
     ]
    }
   ],
   "source": [
    "class_correct = list(0. for i in range(10))\n",
    "class_total = list(0. for i in range(10))\n",
    "with torch.no_grad():\n",
    "    for data in testloader:\n",
    "        images, labels = data\n",
    "        X = images.reshape(-1,32*32*3)\n",
    "        outputs = model(X)\n",
    "        _, predicted = torch.max(outputs, 1)\n",
    "        c = (predicted == labels).squeeze()\n",
    "        for i in range(4):\n",
    "            label = labels[i]\n",
    "            class_correct[label] += c[i].item()\n",
    "            class_total[label] += 1\n",
    "\n",
    "\n",
    "for i in range(10):\n",
    "    print('Accuracy of %5s : %2d %%' % (\n",
    "        classes[i], 100 * class_correct[i] / class_total[i]))"
   ]
  },
  {
   "cell_type": "markdown",
   "metadata": {},
   "source": [
    "#### Model-2 : activation function with ReLu (one-layer)"
   ]
  },
  {
   "cell_type": "code",
   "execution_count": 25,
   "metadata": {},
   "outputs": [],
   "source": [
    "inputSize = 32*32*3\n",
    "outputSize = 10\n",
    "hiddenSize = 100"
   ]
  },
  {
   "cell_type": "code",
   "execution_count": 26,
   "metadata": {},
   "outputs": [
    {
     "name": "stdout",
     "output_type": "stream",
     "text": [
      "Sequential(\n",
      "  (0): Linear(in_features=3072, out_features=100, bias=True)\n",
      "  (1): ReLU()\n",
      "  (2): Linear(in_features=100, out_features=10, bias=True)\n",
      "  (3): LogSoftmax()\n",
      ")\n"
     ]
    }
   ],
   "source": [
    "from torch import nn\n",
    "model = torch.nn.Sequential(\n",
    "    torch.nn.Linear(inputSize,hiddenSize),\n",
    "    torch.nn.ReLU(),\n",
    "    torch.nn.Linear(hiddenSize,outputSize),\n",
    "    torch.nn.LogSoftmax(dim=1))\n",
    "print(model)"
   ]
  },
  {
   "cell_type": "code",
   "execution_count": 27,
   "metadata": {},
   "outputs": [
    {
     "name": "stderr",
     "output_type": "stream",
     "text": [
      "C:\\Users\\Rache\\Anaconda3\\lib\\site-packages\\ipykernel_launcher.py:10: UserWarning: To copy construct from a tensor, it is recommended to use sourceTensor.clone().detach() or sourceTensor.clone().detach().requires_grad_(True), rather than torch.tensor(sourceTensor).\n",
      "  # Remove the CWD from sys.path while we load stuff.\n"
     ]
    },
    {
     "name": "stdout",
     "output_type": "stream",
     "text": [
      "[1,  2000] loss: 1.840\n",
      "[1,  4000] loss: 1.696\n",
      "[1,  6000] loss: 1.657\n",
      "[1,  8000] loss: 1.627\n",
      "[1, 10000] loss: 1.625\n",
      "[1, 12000] loss: 1.580\n",
      "[2,  2000] loss: 1.510\n",
      "[2,  4000] loss: 1.516\n",
      "[2,  6000] loss: 1.504\n",
      "[2,  8000] loss: 1.523\n",
      "[2, 10000] loss: 1.495\n",
      "[2, 12000] loss: 1.499\n",
      "Finished Training\n"
     ]
    }
   ],
   "source": [
    "for epoch in range(2): \n",
    "    learning_rate = 1e-2\n",
    "    momentum = 0\n",
    "    optimizer = torch.optim.SGD(model.parameters(),lr=learning_rate, momentum=momentum)\n",
    "    \n",
    "    running_loss = 0.0\n",
    "    for i, data in enumerate(trainloader, 0):\n",
    "        inputs, labels = data\n",
    "        X = inputs.reshape(-1,32*32*3)\n",
    "        x = torch.tensor(X)\n",
    "        y_pred = model(x)\n",
    "        loss = criterion(y_pred,labels)\n",
    "    \n",
    "        loss.backward()\n",
    "    \n",
    "        optimizer.step()\n",
    "        optimizer.zero_grad()\n",
    "        \n",
    "        running_loss += loss.item()\n",
    "        if i % 2000 == 1999:    # print every 2000 mini-batches\n",
    "            print('[%d, %5d] loss: %.3f' %\n",
    "                  (epoch + 1, i + 1, running_loss / 2000))\n",
    "            running_loss = 0.0\n",
    "\n",
    "print('Finished Training')"
   ]
  },
  {
   "cell_type": "code",
   "execution_count": 28,
   "metadata": {},
   "outputs": [
    {
     "name": "stdout",
     "output_type": "stream",
     "text": [
      "Accuracy of the network on the 10000 test images: 46 %\n"
     ]
    }
   ],
   "source": [
    "correct = 0\n",
    "total = 0\n",
    "with torch.no_grad():\n",
    "    for data in testloader:\n",
    "        images, labels = data\n",
    "        X = images.reshape(-1,32*32*3)\n",
    "        outputs = model(X)\n",
    "        _, predicted = torch.max(outputs.data, 1)\n",
    "        total += labels.size(0)\n",
    "        correct += (predicted == labels).sum().item()\n",
    "\n",
    "print('Accuracy of the network on the 10000 test images: %d %%' % (\n",
    "    100 * correct / total))"
   ]
  },
  {
   "cell_type": "code",
   "execution_count": 29,
   "metadata": {},
   "outputs": [
    {
     "name": "stdout",
     "output_type": "stream",
     "text": [
      "Accuracy of plane : 26 %\n",
      "Accuracy of   car : 62 %\n",
      "Accuracy of  bird : 42 %\n",
      "Accuracy of   cat : 15 %\n",
      "Accuracy of  deer : 31 %\n",
      "Accuracy of   dog : 36 %\n",
      "Accuracy of  frog : 66 %\n",
      "Accuracy of horse : 60 %\n",
      "Accuracy of  ship : 69 %\n",
      "Accuracy of truck : 53 %\n"
     ]
    }
   ],
   "source": [
    "class_correct = list(0. for i in range(10))\n",
    "class_total = list(0. for i in range(10))\n",
    "with torch.no_grad():\n",
    "    for data in testloader:\n",
    "        images, labels = data\n",
    "        X = images.reshape(-1,32*32*3)\n",
    "        outputs = model(X)\n",
    "        _, predicted = torch.max(outputs, 1)\n",
    "        c = (predicted == labels).squeeze()\n",
    "        for i in range(4):\n",
    "            label = labels[i]\n",
    "            class_correct[label] += c[i].item()\n",
    "            class_total[label] += 1\n",
    "\n",
    "\n",
    "for i in range(10):\n",
    "    print('Accuracy of %5s : %2d %%' % (\n",
    "        classes[i], 100 * class_correct[i] / class_total[i]))"
   ]
  },
  {
   "cell_type": "markdown",
   "metadata": {},
   "source": [
    "#### Model -2 : activation function with ReLu"
   ]
  },
  {
   "cell_type": "code",
   "execution_count": 63,
   "metadata": {},
   "outputs": [
    {
     "name": "stdout",
     "output_type": "stream",
     "text": [
      "Sequential(\n",
      "  (0): Linear(in_features=3072, out_features=100, bias=True)\n",
      "  (1): ReLU()\n",
      "  (2): Linear(in_features=100, out_features=10, bias=True)\n",
      "  (3): LogSoftmax()\n",
      ")\n"
     ]
    }
   ],
   "source": [
    "from torch import nn\n",
    "model = torch.nn.Sequential(\n",
    "    torch.nn.Linear(inputSize,hiddenSize),\n",
    "    torch.nn.ReLU(),\n",
    "    torch.nn.Linear(hiddenSize,outputSize),\n",
    "    torch.nn.LogSoftmax(dim=1))\n",
    "print(model)"
   ]
  },
  {
   "cell_type": "markdown",
   "metadata": {},
   "source": [
    "#### loop over the dataset multiple times using `epoch`"
   ]
  },
  {
   "cell_type": "markdown",
   "metadata": {},
   "source": [
    "### Learning Rate "
   ]
  },
  {
   "cell_type": "markdown",
   "metadata": {},
   "source": [
    " `learning rate` is 1e-2"
   ]
  },
  {
   "cell_type": "code",
   "execution_count": 31,
   "metadata": {},
   "outputs": [
    {
     "name": "stderr",
     "output_type": "stream",
     "text": [
      "C:\\Users\\Rache\\Anaconda3\\lib\\site-packages\\ipykernel_launcher.py:10: UserWarning: To copy construct from a tensor, it is recommended to use sourceTensor.clone().detach() or sourceTensor.clone().detach().requires_grad_(True), rather than torch.tensor(sourceTensor).\n",
      "  # Remove the CWD from sys.path while we load stuff.\n"
     ]
    },
    {
     "name": "stdout",
     "output_type": "stream",
     "text": [
      "[1,  2000] loss: 1.848\n",
      "[1,  4000] loss: 1.696\n",
      "[1,  6000] loss: 1.661\n",
      "[1,  8000] loss: 1.634\n",
      "[1, 10000] loss: 1.595\n",
      "[1, 12000] loss: 1.594\n",
      "[2,  2000] loss: 1.520\n",
      "[2,  4000] loss: 1.512\n",
      "[2,  6000] loss: 1.529\n",
      "[2,  8000] loss: 1.498\n",
      "[2, 10000] loss: 1.523\n",
      "[2, 12000] loss: 1.479\n",
      "Finished Training\n"
     ]
    }
   ],
   "source": [
    "for epoch in range(2): \n",
    "    learning_rate = 1e-2\n",
    "    \n",
    "    optimizer = torch.optim.SGD(model.parameters(),lr=learning_rate)\n",
    "    \n",
    "    running_loss = 0.0\n",
    "    for i, data in enumerate(trainloader, 0):\n",
    "        inputs, labels = data\n",
    "        X = inputs.reshape(-1,32*32*3)\n",
    "        x = torch.tensor(X)\n",
    "        y_pred = model(x)\n",
    "        loss = criterion(y_pred,labels)\n",
    "    \n",
    "        loss.backward()\n",
    "    \n",
    "        optimizer.step()\n",
    "        optimizer.zero_grad()\n",
    "        \n",
    "        running_loss += loss.item()\n",
    "        if i % 2000 == 1999:    # print every 2000 mini-batches\n",
    "            print('[%d, %5d] loss: %.3f' %\n",
    "                  (epoch + 1, i + 1, running_loss / 2000))\n",
    "            running_loss = 0.0\n",
    "\n",
    "print('Finished Training')"
   ]
  },
  {
   "cell_type": "code",
   "execution_count": 32,
   "metadata": {},
   "outputs": [
    {
     "name": "stdout",
     "output_type": "stream",
     "text": [
      "Accuracy of the network on the 10000 test images: 47 %\n"
     ]
    }
   ],
   "source": [
    "correct = 0\n",
    "total = 0\n",
    "with torch.no_grad():\n",
    "    for data in testloader:\n",
    "        images, labels = data\n",
    "        X = images.reshape(-1,32*32*3)\n",
    "        outputs = model(X)\n",
    "        _, predicted = torch.max(outputs.data, 1)\n",
    "        total += labels.size(0)\n",
    "        correct += (predicted == labels).sum().item()\n",
    "\n",
    "print('Accuracy of the network on the 10000 test images: %d %%' % (\n",
    "    100 * correct / total))"
   ]
  },
  {
   "cell_type": "code",
   "execution_count": 33,
   "metadata": {},
   "outputs": [
    {
     "name": "stdout",
     "output_type": "stream",
     "text": [
      "Accuracy of plane : 49 %\n",
      "Accuracy of   car : 50 %\n",
      "Accuracy of  bird : 26 %\n",
      "Accuracy of   cat : 44 %\n",
      "Accuracy of  deer : 47 %\n",
      "Accuracy of   dog : 29 %\n",
      "Accuracy of  frog : 54 %\n",
      "Accuracy of horse : 61 %\n",
      "Accuracy of  ship : 66 %\n",
      "Accuracy of truck : 50 %\n"
     ]
    }
   ],
   "source": [
    "class_correct = list(0. for i in range(10))\n",
    "class_total = list(0. for i in range(10))\n",
    "with torch.no_grad():\n",
    "    for data in testloader:\n",
    "        images, labels = data\n",
    "        X = images.reshape(-1,32*32*3)\n",
    "        outputs = model(X)\n",
    "        _, predicted = torch.max(outputs, 1)\n",
    "        c = (predicted == labels).squeeze()\n",
    "        for i in range(4):\n",
    "            label = labels[i]\n",
    "            class_correct[label] += c[i].item()\n",
    "            class_total[label] += 1\n",
    "\n",
    "\n",
    "for i in range(10):\n",
    "    print('Accuracy of %5s : %2d %%' % (\n",
    "        classes[i], 100 * class_correct[i] / class_total[i]))"
   ]
  },
  {
   "cell_type": "markdown",
   "metadata": {},
   "source": [
    " `learning rate` change to 1e-3"
   ]
  },
  {
   "cell_type": "code",
   "execution_count": 34,
   "metadata": {},
   "outputs": [
    {
     "name": "stderr",
     "output_type": "stream",
     "text": [
      "C:\\Users\\Rache\\Anaconda3\\lib\\site-packages\\ipykernel_launcher.py:10: UserWarning: To copy construct from a tensor, it is recommended to use sourceTensor.clone().detach() or sourceTensor.clone().detach().requires_grad_(True), rather than torch.tensor(sourceTensor).\n",
      "  # Remove the CWD from sys.path while we load stuff.\n"
     ]
    },
    {
     "name": "stdout",
     "output_type": "stream",
     "text": [
      "[1,  2000] loss: 1.308\n",
      "[1,  4000] loss: 1.282\n",
      "[1,  6000] loss: 1.279\n",
      "[1,  8000] loss: 1.274\n",
      "[1, 10000] loss: 1.246\n",
      "[1, 12000] loss: 1.275\n",
      "[2,  2000] loss: 1.238\n",
      "[2,  4000] loss: 1.238\n",
      "[2,  6000] loss: 1.251\n",
      "[2,  8000] loss: 1.239\n",
      "[2, 10000] loss: 1.229\n",
      "[2, 12000] loss: 1.220\n",
      "Finished Training\n"
     ]
    }
   ],
   "source": [
    "for epoch in range(2): \n",
    "    learning_rate = 1e-3\n",
    "    momentum = 0\n",
    "    optimizer = torch.optim.SGD(model.parameters(),lr=learning_rate, momentum=momentum)\n",
    "    \n",
    "    running_loss = 0.0\n",
    "    for i, data in enumerate(trainloader, 0):\n",
    "        inputs, labels = data\n",
    "        X = inputs.reshape(-1,32*32*3)\n",
    "        x = torch.tensor(X)\n",
    "        y_pred = model(x)\n",
    "        loss = criterion(y_pred,labels)\n",
    "    \n",
    "        loss.backward()\n",
    "    \n",
    "        optimizer.step()\n",
    "        optimizer.zero_grad()\n",
    "        \n",
    "        running_loss += loss.item()\n",
    "        if i % 2000 == 1999:    # print every 2000 mini-batches\n",
    "            print('[%d, %5d] loss: %.3f' %\n",
    "                  (epoch + 1, i + 1, running_loss / 2000))\n",
    "            running_loss = 0.0\n",
    "\n",
    "print('Finished Training')"
   ]
  },
  {
   "cell_type": "markdown",
   "metadata": {},
   "source": [
    "Loss is reasonably changing"
   ]
  },
  {
   "cell_type": "code",
   "execution_count": 35,
   "metadata": {},
   "outputs": [],
   "source": [
    "#PATH = './cifar_net.pth'\n",
    "#torch.save(model.state_dict(), PATH)"
   ]
  },
  {
   "cell_type": "code",
   "execution_count": 36,
   "metadata": {},
   "outputs": [
    {
     "data": {
      "image/png": "[encoded data removed]",
      "text/plain": [
       "<Figure size 432x288 with 1 Axes>"
      ]
     },
     "metadata": {
      "needs_background": "light"
     },
     "output_type": "display_data"
    },
    {
     "name": "stdout",
     "output_type": "stream",
     "text": [
      "GroundTruth:    cat  ship  ship plane\n"
     ]
    }
   ],
   "source": [
    "dataiter = iter(testloader)\n",
    "images, labels = dataiter.next()\n",
    "\n",
    "def imshow(img):\n",
    "    img = img / 2 + 0.5     # unnormalize\n",
    "    npimg = img.numpy()\n",
    "    plt.imshow(np.transpose(npimg, (1, 2, 0)))\n",
    "    plt.show()\n",
    "\n",
    "\n",
    "# print images\n",
    "imshow(torchvision.utils.make_grid(images))\n",
    "print('GroundTruth: ', ' '.join('%5s' % classes[labels[j]] for j in range(4)))"
   ]
  },
  {
   "cell_type": "code",
   "execution_count": 37,
   "metadata": {},
   "outputs": [
    {
     "name": "stdout",
     "output_type": "stream",
     "text": [
      "Accuracy of the network on the 10000 test images: 52 %\n"
     ]
    }
   ],
   "source": [
    "correct = 0\n",
    "total = 0\n",
    "with torch.no_grad():\n",
    "    for data in testloader:\n",
    "        images, labels = data\n",
    "        X = images.reshape(-1,32*32*3)\n",
    "        outputs = model(X)\n",
    "        _, predicted = torch.max(outputs.data, 1)\n",
    "        total += labels.size(0)\n",
    "        correct += (predicted == labels).sum().item()\n",
    "\n",
    "print('Accuracy of the network on the 10000 test images: %d %%' % (\n",
    "    100 * correct / total))"
   ]
  },
  {
   "cell_type": "code",
   "execution_count": 38,
   "metadata": {},
   "outputs": [
    {
     "name": "stdout",
     "output_type": "stream",
     "text": [
      "Accuracy of plane : 57 %\n",
      "Accuracy of   car : 62 %\n",
      "Accuracy of  bird : 33 %\n",
      "Accuracy of   cat : 31 %\n",
      "Accuracy of  deer : 42 %\n",
      "Accuracy of   dog : 42 %\n",
      "Accuracy of  frog : 69 %\n",
      "Accuracy of horse : 60 %\n",
      "Accuracy of  ship : 67 %\n",
      "Accuracy of truck : 57 %\n"
     ]
    }
   ],
   "source": [
    "class_correct = list(0. for i in range(10))\n",
    "class_total = list(0. for i in range(10))\n",
    "with torch.no_grad():\n",
    "    for data in testloader:\n",
    "        images, labels = data\n",
    "        X = images.reshape(-1,32*32*3)\n",
    "        outputs = model(X)\n",
    "        _, predicted = torch.max(outputs, 1)\n",
    "        c = (predicted == labels).squeeze()\n",
    "        for i in range(4):\n",
    "            label = labels[i]\n",
    "            class_correct[label] += c[i].item()\n",
    "            class_total[label] += 1\n",
    "\n",
    "\n",
    "for i in range(10):\n",
    "    print('Accuracy of %5s : %2d %%' % (\n",
    "        classes[i], 100 * class_correct[i] / class_total[i]))"
   ]
  },
  {
   "cell_type": "markdown",
   "metadata": {},
   "source": [
    " `learning rate` change to 1e-6"
   ]
  },
  {
   "cell_type": "code",
   "execution_count": 39,
   "metadata": {},
   "outputs": [
    {
     "name": "stderr",
     "output_type": "stream",
     "text": [
      "C:\\Users\\Rache\\Anaconda3\\lib\\site-packages\\ipykernel_launcher.py:9: UserWarning: To copy construct from a tensor, it is recommended to use sourceTensor.clone().detach() or sourceTensor.clone().detach().requires_grad_(True), rather than torch.tensor(sourceTensor).\n",
      "  if __name__ == '__main__':\n"
     ]
    },
    {
     "name": "stdout",
     "output_type": "stream",
     "text": [
      "[1,  2000] loss: 1.197\n",
      "[1,  4000] loss: 1.216\n",
      "[1,  6000] loss: 1.181\n",
      "[1,  8000] loss: 1.215\n",
      "[1, 10000] loss: 1.200\n",
      "[1, 12000] loss: 1.221\n",
      "[2,  2000] loss: 1.203\n",
      "[2,  4000] loss: 1.189\n",
      "[2,  6000] loss: 1.210\n",
      "[2,  8000] loss: 1.199\n",
      "[2, 10000] loss: 1.205\n",
      "[2, 12000] loss: 1.211\n",
      "Finished Training\n"
     ]
    }
   ],
   "source": [
    "for epoch in range(2): \n",
    "    learning_rate =1e-6\n",
    "    optimizer = torch.optim.SGD(model.parameters(),lr=learning_rate)\n",
    "    \n",
    "    running_loss = 0.0\n",
    "    for i, data in enumerate(trainloader, 0):\n",
    "        inputs, labels = data\n",
    "        X = inputs.reshape(-1,32*32*3)\n",
    "        x = torch.tensor(X)\n",
    "        y_pred = model(x)\n",
    "        loss = criterion(y_pred,labels)\n",
    "    \n",
    "        loss.backward()\n",
    "    \n",
    "        optimizer.step()\n",
    "        optimizer.zero_grad()\n",
    "        \n",
    "        running_loss += loss.item()\n",
    "        if i % 2000 == 1999:    # print every 2000 mini-batches\n",
    "            print('[%d, %5d] loss: %.3f' %\n",
    "                  (epoch + 1, i + 1, running_loss / 2000))\n",
    "            running_loss = 0.0\n",
    "\n",
    "print('Finished Training')"
   ]
  },
  {
   "cell_type": "code",
   "execution_count": 40,
   "metadata": {},
   "outputs": [
    {
     "name": "stdout",
     "output_type": "stream",
     "text": [
      "Accuracy of the network on the 10000 test images: 52 %\n"
     ]
    }
   ],
   "source": [
    "correct = 0\n",
    "total = 0\n",
    "with torch.no_grad():\n",
    "    for data in testloader:\n",
    "        images, labels = data\n",
    "        X = images.reshape(-1,32*32*3)\n",
    "        outputs = model(X)\n",
    "        _, predicted = torch.max(outputs.data, 1)\n",
    "        total += labels.size(0)\n",
    "        correct += (predicted == labels).sum().item()\n",
    "\n",
    "print('Accuracy of the network on the 10000 test images: %d %%' % (\n",
    "    100 * correct / total))"
   ]
  },
  {
   "cell_type": "code",
   "execution_count": 41,
   "metadata": {},
   "outputs": [
    {
     "name": "stdout",
     "output_type": "stream",
     "text": [
      "Accuracy of plane : 57 %\n",
      "Accuracy of   car : 62 %\n",
      "Accuracy of  bird : 33 %\n",
      "Accuracy of   cat : 31 %\n",
      "Accuracy of  deer : 43 %\n",
      "Accuracy of   dog : 42 %\n",
      "Accuracy of  frog : 68 %\n",
      "Accuracy of horse : 60 %\n",
      "Accuracy of  ship : 68 %\n",
      "Accuracy of truck : 57 %\n"
     ]
    }
   ],
   "source": [
    "class_correct = list(0. for i in range(10))\n",
    "class_total = list(0. for i in range(10))\n",
    "with torch.no_grad():\n",
    "    for data in testloader:\n",
    "        images, labels = data\n",
    "        X = images.reshape(-1,32*32*3)\n",
    "        outputs = model(X)\n",
    "        _, predicted = torch.max(outputs, 1)\n",
    "        c = (predicted == labels).squeeze()\n",
    "        for i in range(4):\n",
    "            label = labels[i]\n",
    "            class_correct[label] += c[i].item()\n",
    "            class_total[label] += 1\n",
    "\n",
    "\n",
    "for i in range(10):\n",
    "    print('Accuracy of %5s : %2d %%' % (\n",
    "        classes[i], 100 * class_correct[i] / class_total[i]))"
   ]
  },
  {
   "cell_type": "markdown",
   "metadata": {},
   "source": [
    " `learning rate` change to 1e-4"
   ]
  },
  {
   "cell_type": "code",
   "execution_count": 42,
   "metadata": {},
   "outputs": [
    {
     "name": "stderr",
     "output_type": "stream",
     "text": [
      "C:\\Users\\Rache\\Anaconda3\\lib\\site-packages\\ipykernel_launcher.py:9: UserWarning: To copy construct from a tensor, it is recommended to use sourceTensor.clone().detach() or sourceTensor.clone().detach().requires_grad_(True), rather than torch.tensor(sourceTensor).\n",
      "  if __name__ == '__main__':\n"
     ]
    },
    {
     "name": "stdout",
     "output_type": "stream",
     "text": [
      "[1,  2000] loss: 1.208\n",
      "[1,  4000] loss: 1.207\n",
      "[1,  6000] loss: 1.192\n",
      "[1,  8000] loss: 1.203\n",
      "[1, 10000] loss: 1.194\n",
      "[1, 12000] loss: 1.194\n",
      "[2,  2000] loss: 1.191\n",
      "[2,  4000] loss: 1.201\n",
      "[2,  6000] loss: 1.202\n",
      "[2,  8000] loss: 1.188\n",
      "[2, 10000] loss: 1.200\n",
      "[2, 12000] loss: 1.181\n",
      "Finished Training\n"
     ]
    }
   ],
   "source": [
    "for epoch in range(2): \n",
    "    learning_rate =1e-4\n",
    "    optimizer = torch.optim.SGD(model.parameters(),lr=learning_rate)\n",
    "    \n",
    "    running_loss = 0.0\n",
    "    for i, data in enumerate(trainloader, 0):\n",
    "        inputs, labels = data\n",
    "        X = inputs.reshape(-1,32*32*3)\n",
    "        x = torch.tensor(X)\n",
    "        y_pred = model(x)\n",
    "        loss = criterion(y_pred,labels)\n",
    "    \n",
    "        loss.backward()\n",
    "    \n",
    "        optimizer.step()\n",
    "        optimizer.zero_grad()\n",
    "        \n",
    "        running_loss += loss.item()\n",
    "        if i % 2000 == 1999:    # print every 2000 mini-batches\n",
    "            print('[%d, %5d] loss: %.3f' %\n",
    "                  (epoch + 1, i + 1, running_loss / 2000))\n",
    "            running_loss = 0.0\n",
    "\n",
    "print('Finished Training')"
   ]
  },
  {
   "cell_type": "code",
   "execution_count": 43,
   "metadata": {},
   "outputs": [
    {
     "name": "stdout",
     "output_type": "stream",
     "text": [
      "Accuracy of the network on the 10000 test images: 52 %\n"
     ]
    }
   ],
   "source": [
    "correct = 0\n",
    "total = 0\n",
    "with torch.no_grad():\n",
    "    for data in testloader:\n",
    "        images, labels = data\n",
    "        X = images.reshape(-1,32*32*3)\n",
    "        outputs = model(X)\n",
    "        _, predicted = torch.max(outputs.data, 1)\n",
    "        total += labels.size(0)\n",
    "        correct += (predicted == labels).sum().item()\n",
    "\n",
    "print('Accuracy of the network on the 10000 test images: %d %%' % (\n",
    "    100 * correct / total))"
   ]
  },
  {
   "cell_type": "code",
   "execution_count": 44,
   "metadata": {},
   "outputs": [
    {
     "name": "stdout",
     "output_type": "stream",
     "text": [
      "Accuracy of plane : 57 %\n",
      "Accuracy of   car : 61 %\n",
      "Accuracy of  bird : 38 %\n",
      "Accuracy of   cat : 33 %\n",
      "Accuracy of  deer : 45 %\n",
      "Accuracy of   dog : 36 %\n",
      "Accuracy of  frog : 65 %\n",
      "Accuracy of horse : 60 %\n",
      "Accuracy of  ship : 67 %\n",
      "Accuracy of truck : 60 %\n"
     ]
    }
   ],
   "source": [
    "class_correct = list(0. for i in range(10))\n",
    "class_total = list(0. for i in range(10))\n",
    "with torch.no_grad():\n",
    "    for data in testloader:\n",
    "        images, labels = data\n",
    "        X = images.reshape(-1,32*32*3)\n",
    "        outputs = model(X)\n",
    "        _, predicted = torch.max(outputs, 1)\n",
    "        c = (predicted == labels).squeeze()\n",
    "        for i in range(4):\n",
    "            label = labels[i]\n",
    "            class_correct[label] += c[i].item()\n",
    "            class_total[label] += 1\n",
    "\n",
    "\n",
    "for i in range(10):\n",
    "    print('Accuracy of %5s : %2d %%' % (\n",
    "        classes[i], 100 * class_correct[i] / class_total[i]))"
   ]
  },
  {
   "cell_type": "markdown",
   "metadata": {},
   "source": [
    "`learning rate` change to 1e-5"
   ]
  },
  {
   "cell_type": "code",
   "execution_count": 45,
   "metadata": {},
   "outputs": [
    {
     "name": "stderr",
     "output_type": "stream",
     "text": [
      "C:\\Users\\Rache\\Anaconda3\\lib\\site-packages\\ipykernel_launcher.py:9: UserWarning: To copy construct from a tensor, it is recommended to use sourceTensor.clone().detach() or sourceTensor.clone().detach().requires_grad_(True), rather than torch.tensor(sourceTensor).\n",
      "  if __name__ == '__main__':\n"
     ]
    },
    {
     "name": "stdout",
     "output_type": "stream",
     "text": [
      "[1,  2000] loss: 1.188\n",
      "[1,  4000] loss: 1.216\n",
      "[1,  6000] loss: 1.183\n",
      "[1,  8000] loss: 1.194\n",
      "[1, 10000] loss: 1.190\n",
      "[1, 12000] loss: 1.179\n",
      "[2,  2000] loss: 1.182\n",
      "[2,  4000] loss: 1.188\n",
      "[2,  6000] loss: 1.203\n",
      "[2,  8000] loss: 1.195\n",
      "[2, 10000] loss: 1.188\n",
      "[2, 12000] loss: 1.189\n",
      "Finished Training\n"
     ]
    }
   ],
   "source": [
    "for epoch in range(2): \n",
    "    learning_rate =1e-5\n",
    "    optimizer = torch.optim.SGD(model.parameters(),lr=learning_rate)\n",
    "    \n",
    "    running_loss = 0.0\n",
    "    for i, data in enumerate(trainloader, 0):\n",
    "        inputs, labels = data\n",
    "        X = inputs.reshape(-1,32*32*3)\n",
    "        x = torch.tensor(X)\n",
    "        y_pred = model(x)\n",
    "        loss = criterion(y_pred,labels)\n",
    "    \n",
    "        loss.backward()\n",
    "    \n",
    "        optimizer.step()\n",
    "        optimizer.zero_grad()\n",
    "        \n",
    "        running_loss += loss.item()\n",
    "        if i % 2000 == 1999:    # print every 2000 mini-batches\n",
    "            print('[%d, %5d] loss: %.3f' %\n",
    "                  (epoch + 1, i + 1, running_loss / 2000))\n",
    "            running_loss = 0.0\n",
    "\n",
    "print('Finished Training')"
   ]
  },
  {
   "cell_type": "code",
   "execution_count": 46,
   "metadata": {},
   "outputs": [
    {
     "name": "stdout",
     "output_type": "stream",
     "text": [
      "Accuracy of the network on the 10000 test images: 52 %\n"
     ]
    }
   ],
   "source": [
    "correct = 0\n",
    "total = 0\n",
    "with torch.no_grad():\n",
    "    for data in testloader:\n",
    "        images, labels = data\n",
    "        X = images.reshape(-1,32*32*3)\n",
    "        outputs = model(X)\n",
    "        _, predicted = torch.max(outputs.data, 1)\n",
    "        total += labels.size(0)\n",
    "        correct += (predicted == labels).sum().item()\n",
    "\n",
    "print('Accuracy of the network on the 10000 test images: %d %%' % (\n",
    "    100 * correct / total))"
   ]
  },
  {
   "cell_type": "code",
   "execution_count": 47,
   "metadata": {},
   "outputs": [
    {
     "name": "stdout",
     "output_type": "stream",
     "text": [
      "Accuracy of plane : 57 %\n",
      "Accuracy of   car : 61 %\n",
      "Accuracy of  bird : 37 %\n",
      "Accuracy of   cat : 32 %\n",
      "Accuracy of  deer : 45 %\n",
      "Accuracy of   dog : 38 %\n",
      "Accuracy of  frog : 65 %\n",
      "Accuracy of horse : 60 %\n",
      "Accuracy of  ship : 68 %\n",
      "Accuracy of truck : 59 %\n"
     ]
    }
   ],
   "source": [
    "class_correct = list(0. for i in range(10))\n",
    "class_total = list(0. for i in range(10))\n",
    "with torch.no_grad():\n",
    "    for data in testloader:\n",
    "        images, labels = data\n",
    "        X = images.reshape(-1,32*32*3)\n",
    "        outputs = model(X)\n",
    "        _, predicted = torch.max(outputs, 1)\n",
    "        c = (predicted == labels).squeeze()\n",
    "        for i in range(4):\n",
    "            label = labels[i]\n",
    "            class_correct[label] += c[i].item()\n",
    "            class_total[label] += 1\n",
    "\n",
    "\n",
    "for i in range(10):\n",
    "    print('Accuracy of %5s : %2d %%' % (\n",
    "        classes[i], 100 * class_correct[i] / class_total[i]))"
   ]
  },
  {
   "cell_type": "markdown",
   "metadata": {},
   "source": [
    " `learning rate` is selected `1e-3`\n",
    "\n",
    "- Regularization : weight_decay = 1e-5"
   ]
  },
  {
   "cell_type": "code",
   "execution_count": 48,
   "metadata": {},
   "outputs": [
    {
     "name": "stderr",
     "output_type": "stream",
     "text": [
      "C:\\Users\\Rache\\Anaconda3\\lib\\site-packages\\ipykernel_launcher.py:9: UserWarning: To copy construct from a tensor, it is recommended to use sourceTensor.clone().detach() or sourceTensor.clone().detach().requires_grad_(True), rather than torch.tensor(sourceTensor).\n",
      "  if __name__ == '__main__':\n"
     ]
    },
    {
     "name": "stdout",
     "output_type": "stream",
     "text": [
      "[1,  2000] loss: 1.202\n",
      "[1,  4000] loss: 1.211\n",
      "[1,  6000] loss: 1.198\n",
      "[1,  8000] loss: 1.214\n",
      "[1, 10000] loss: 1.217\n",
      "[1, 12000] loss: 1.204\n",
      "[2,  2000] loss: 1.180\n",
      "[2,  4000] loss: 1.192\n",
      "[2,  6000] loss: 1.196\n",
      "[2,  8000] loss: 1.187\n",
      "[2, 10000] loss: 1.210\n",
      "[2, 12000] loss: 1.188\n",
      "Finished Training\n"
     ]
    }
   ],
   "source": [
    "for epoch in range(2): \n",
    "    learning_rate =1e-3\n",
    "    optimizer = torch.optim.SGD(model.parameters(),lr=learning_rate,weight_decay=1e-5)\n",
    "    \n",
    "    running_loss = 0.0\n",
    "    for i, data in enumerate(trainloader, 0):\n",
    "        inputs, labels = data\n",
    "        X = inputs.reshape(-1,32*32*3)\n",
    "        x = torch.tensor(X)\n",
    "        y_pred = model(x)\n",
    "        loss = criterion(y_pred,labels)\n",
    "    \n",
    "        loss.backward()\n",
    "    \n",
    "        optimizer.step()\n",
    "        optimizer.zero_grad()\n",
    "        \n",
    "        running_loss += loss.item()\n",
    "        if i % 2000 == 1999:    # print every 2000 mini-batches\n",
    "            print('[%d, %5d] loss: %.3f' %\n",
    "                  (epoch + 1, i + 1, running_loss / 2000))\n",
    "            running_loss = 0.0\n",
    "\n",
    "print('Finished Training')"
   ]
  },
  {
   "cell_type": "code",
   "execution_count": 49,
   "metadata": {},
   "outputs": [
    {
     "name": "stdout",
     "output_type": "stream",
     "text": [
      "Accuracy of the network on the train images: 59 %\n"
     ]
    }
   ],
   "source": [
    "#train score\n",
    "correct = 0\n",
    "total = 0\n",
    "with torch.no_grad():\n",
    "    for data in trainloader:\n",
    "        images, labels = data\n",
    "        X = images.reshape(-1,32*32*3)\n",
    "        outputs = model(X)\n",
    "        _, predicted = torch.max(outputs.data, 1)\n",
    "        total += labels.size(0)\n",
    "        correct += (predicted == labels).sum().item()\n",
    "print('Accuracy of the network on the train images: %d %%' % (100 * correct / total))"
   ]
  },
  {
   "cell_type": "code",
   "execution_count": 50,
   "metadata": {},
   "outputs": [
    {
     "name": "stdout",
     "output_type": "stream",
     "text": [
      "Accuracy of the network on the 10000 test images: 52 %\n"
     ]
    }
   ],
   "source": [
    "#test score\n",
    "correct = 0\n",
    "total = 0\n",
    "with torch.no_grad():\n",
    "    for data in testloader:\n",
    "        images, labels = data\n",
    "        X = images.reshape(-1,32*32*3)\n",
    "        outputs = model(X)\n",
    "        _, predicted = torch.max(outputs.data, 1)\n",
    "        total += labels.size(0)\n",
    "        correct += (predicted == labels).sum().item()\n",
    "\n",
    "print('Accuracy of the network on the 10000 test images: %d %%' % (\n",
    "    100 * correct / total))"
   ]
  },
  {
   "cell_type": "code",
   "execution_count": 51,
   "metadata": {},
   "outputs": [
    {
     "name": "stdout",
     "output_type": "stream",
     "text": [
      "Accuracy of plane : 61 %\n",
      "Accuracy of   car : 58 %\n",
      "Accuracy of  bird : 35 %\n",
      "Accuracy of   cat : 30 %\n",
      "Accuracy of  deer : 49 %\n",
      "Accuracy of   dog : 45 %\n",
      "Accuracy of  frog : 59 %\n",
      "Accuracy of horse : 59 %\n",
      "Accuracy of  ship : 65 %\n",
      "Accuracy of truck : 62 %\n"
     ]
    }
   ],
   "source": [
    "class_correct = list(0. for i in range(10))\n",
    "class_total = list(0. for i in range(10))\n",
    "with torch.no_grad():\n",
    "    for data in testloader:\n",
    "        images, labels = data\n",
    "        X = images.reshape(-1,32*32*3)\n",
    "        outputs = model(X)\n",
    "        _, predicted = torch.max(outputs, 1)\n",
    "        c = (predicted == labels).squeeze()\n",
    "        for i in range(4):\n",
    "            label = labels[i]\n",
    "            class_correct[label] += c[i].item()\n",
    "            class_total[label] += 1\n",
    "\n",
    "\n",
    "for i in range(10):\n",
    "    print('Accuracy of %5s : %2d %%' % (\n",
    "        classes[i], 100 * class_correct[i] / class_total[i]))"
   ]
  },
  {
   "cell_type": "markdown",
   "metadata": {},
   "source": [
    " `loss rate` is selected `1e-3`\n",
    "\n",
    "- Regularization : weight_decay = 1e-6"
   ]
  },
  {
   "cell_type": "code",
   "execution_count": 52,
   "metadata": {},
   "outputs": [
    {
     "name": "stderr",
     "output_type": "stream",
     "text": [
      "C:\\Users\\Rache\\Anaconda3\\lib\\site-packages\\ipykernel_launcher.py:9: UserWarning: To copy construct from a tensor, it is recommended to use sourceTensor.clone().detach() or sourceTensor.clone().detach().requires_grad_(True), rather than torch.tensor(sourceTensor).\n",
      "  if __name__ == '__main__':\n"
     ]
    },
    {
     "name": "stdout",
     "output_type": "stream",
     "text": [
      "[1,  2000] loss: 1.173\n",
      "[1,  4000] loss: 1.164\n",
      "[1,  6000] loss: 1.168\n",
      "[1,  8000] loss: 1.154\n",
      "[1, 10000] loss: 1.186\n",
      "[1, 12000] loss: 1.195\n",
      "[2,  2000] loss: 1.145\n",
      "[2,  4000] loss: 1.160\n",
      "[2,  6000] loss: 1.161\n",
      "[2,  8000] loss: 1.175\n",
      "[2, 10000] loss: 1.149\n",
      "[2, 12000] loss: 1.157\n",
      "Finished Training\n"
     ]
    }
   ],
   "source": [
    "for epoch in range(2): \n",
    "    learning_rate =1e-3\n",
    "    optimizer = torch.optim.SGD(model.parameters(),lr=learning_rate,weight_decay=1e-6)\n",
    "    \n",
    "    running_loss = 0.0\n",
    "    for i, data in enumerate(trainloader, 0):\n",
    "        inputs, labels = data\n",
    "        X = inputs.reshape(-1,32*32*3)\n",
    "        x = torch.tensor(X)\n",
    "        y_pred = model(x)\n",
    "        loss = criterion(y_pred,labels)\n",
    "    \n",
    "        loss.backward()\n",
    "    \n",
    "        optimizer.step()\n",
    "        optimizer.zero_grad()\n",
    "        \n",
    "        running_loss += loss.item()\n",
    "        if i % 2000 == 1999:    # print every 2000 mini-batches\n",
    "            print('[%d, %5d] loss: %.3f' %\n",
    "                  (epoch + 1, i + 1, running_loss / 2000))\n",
    "            running_loss = 0.0\n",
    "\n",
    "print('Finished Training')"
   ]
  },
  {
   "cell_type": "code",
   "execution_count": 53,
   "metadata": {},
   "outputs": [
    {
     "name": "stdout",
     "output_type": "stream",
     "text": [
      "Accuracy of the network on the train images: 61 %\n"
     ]
    }
   ],
   "source": [
    "# training data result\n",
    "correct = 0\n",
    "total = 0\n",
    "with torch.no_grad():\n",
    "    for data in trainloader:\n",
    "        images, labels = data\n",
    "        X = images.reshape(-1,32*32*3)\n",
    "        outputs = model(X)\n",
    "        _, predicted = torch.max(outputs.data, 1)\n",
    "        total += labels.size(0)\n",
    "        correct += (predicted == labels).sum().item()\n",
    "print('Accuracy of the network on the train images: %d %%' % (100 * correct / total))"
   ]
  },
  {
   "cell_type": "code",
   "execution_count": 54,
   "metadata": {},
   "outputs": [
    {
     "name": "stdout",
     "output_type": "stream",
     "text": [
      "Accuracy of the network on the 10000 test images: 53 %\n"
     ]
    }
   ],
   "source": [
    "# testing data accuracy\n",
    "correct = 0\n",
    "total = 0\n",
    "with torch.no_grad():\n",
    "    for data in testloader:\n",
    "        images, labels = data\n",
    "        X = images.reshape(-1,32*32*3)\n",
    "        outputs = model(X)\n",
    "        _, predicted = torch.max(outputs.data, 1)\n",
    "        total += labels.size(0)\n",
    "        correct += (predicted == labels).sum().item()\n",
    "\n",
    "print('Accuracy of the network on the 10000 test images: %d %%' % (\n",
    "    100 * correct / total))"
   ]
  },
  {
   "cell_type": "code",
   "execution_count": 55,
   "metadata": {},
   "outputs": [
    {
     "name": "stdout",
     "output_type": "stream",
     "text": [
      "Accuracy of plane : 56 %\n",
      "Accuracy of   car : 60 %\n",
      "Accuracy of  bird : 38 %\n",
      "Accuracy of   cat : 31 %\n",
      "Accuracy of  deer : 45 %\n",
      "Accuracy of   dog : 44 %\n",
      "Accuracy of  frog : 66 %\n",
      "Accuracy of horse : 60 %\n",
      "Accuracy of  ship : 70 %\n",
      "Accuracy of truck : 58 %\n"
     ]
    }
   ],
   "source": [
    "class_correct = list(0. for i in range(10))\n",
    "class_total = list(0. for i in range(10))\n",
    "with torch.no_grad():\n",
    "    for data in testloader:\n",
    "        images, labels = data\n",
    "        X = images.reshape(-1,32*32*3)\n",
    "        outputs = model(X)\n",
    "        _, predicted = torch.max(outputs, 1)\n",
    "        c = (predicted == labels).squeeze()\n",
    "        for i in range(4):\n",
    "            label = labels[i]\n",
    "            class_correct[label] += c[i].item()\n",
    "            class_total[label] += 1\n",
    "\n",
    "\n",
    "for i in range(10):\n",
    "    print('Accuracy of %5s : %2d %%' % (\n",
    "        classes[i], 100 * class_correct[i] / class_total[i]))"
   ]
  },
  {
   "cell_type": "code",
   "execution_count": 56,
   "metadata": {},
   "outputs": [
    {
     "data": {
      "image/png": "[encoded data removed]",
      "text/plain": [
       "<Figure size 432x288 with 1 Axes>"
      ]
     },
     "metadata": {
      "needs_background": "light"
     },
     "output_type": "display_data"
    },
    {
     "name": "stdout",
     "output_type": "stream",
     "text": [
      "GroundTruth:    cat  ship  ship plane\n"
     ]
    }
   ],
   "source": [
    "dataiter = iter(testloader)\n",
    "images, labels = dataiter.next()\n",
    "\n",
    "def imshow(img):\n",
    "    img = img / 2 + 0.5     # unnormalize\n",
    "    npimg = img.numpy()\n",
    "    plt.imshow(np.transpose(npimg, (1, 2, 0)))\n",
    "    plt.show()\n",
    "\n",
    "\n",
    "# print images\n",
    "imshow(torchvision.utils.make_grid(images))\n",
    "print('GroundTruth: ', ' '.join('%5s' % classes[labels[j]] for j in range(4)))"
   ]
  },
  {
   "cell_type": "markdown",
   "metadata": {},
   "source": [
    "#### Momentum "
   ]
  },
  {
   "cell_type": "code",
   "execution_count": 57,
   "metadata": {},
   "outputs": [
    {
     "name": "stderr",
     "output_type": "stream",
     "text": [
      "C:\\Users\\Rache\\Anaconda3\\lib\\site-packages\\ipykernel_launcher.py:9: UserWarning: To copy construct from a tensor, it is recommended to use sourceTensor.clone().detach() or sourceTensor.clone().detach().requires_grad_(True), rather than torch.tensor(sourceTensor).\n",
      "  if __name__ == '__main__':\n"
     ]
    },
    {
     "name": "stdout",
     "output_type": "stream",
     "text": [
      "[1,  2000] loss: 1.145\n",
      "[1,  4000] loss: 1.144\n",
      "[1,  6000] loss: 1.133\n",
      "[1,  8000] loss: 1.129\n",
      "[1, 10000] loss: 1.160\n",
      "[1, 12000] loss: 1.148\n",
      "[2,  2000] loss: 1.119\n",
      "[2,  4000] loss: 1.113\n",
      "[2,  6000] loss: 1.142\n",
      "[2,  8000] loss: 1.134\n",
      "[2, 10000] loss: 1.123\n",
      "[2, 12000] loss: 1.140\n",
      "Finished Training\n"
     ]
    }
   ],
   "source": [
    "for epoch in range(2): \n",
    "    learning_rate =1e-3\n",
    "    optimizer = torch.optim.SGD(model.parameters(),lr=learning_rate,weight_decay=1e-5, momentum=0.001)\n",
    "    \n",
    "    running_loss = 0.0\n",
    "    for i, data in enumerate(trainloader, 0):\n",
    "        inputs, labels = data\n",
    "        X = inputs.reshape(-1,32*32*3)\n",
    "        x = torch.tensor(X)\n",
    "        y_pred = model(x)\n",
    "        loss = criterion(y_pred,labels)\n",
    "    \n",
    "        loss.backward()\n",
    "    \n",
    "        optimizer.step()\n",
    "        optimizer.zero_grad()\n",
    "        \n",
    "        running_loss += loss.item()\n",
    "        if i % 2000 == 1999:    # print every 2000 mini-batches\n",
    "            print('[%d, %5d] loss: %.3f' %\n",
    "                  (epoch + 1, i + 1, running_loss / 2000))\n",
    "            running_loss = 0.0\n",
    "\n",
    "print('Finished Training')"
   ]
  },
  {
   "cell_type": "code",
   "execution_count": 58,
   "metadata": {},
   "outputs": [
    {
     "name": "stdout",
     "output_type": "stream",
     "text": [
      "Accuracy of the network on the 10000 test images: 52 %\n"
     ]
    }
   ],
   "source": [
    "correct = 0\n",
    "total = 0\n",
    "with torch.no_grad():\n",
    "    for data in testloader:\n",
    "        images, labels = data\n",
    "        X = images.reshape(-1,32*32*3)\n",
    "        outputs = model(X)\n",
    "        _, predicted = torch.max(outputs.data, 1)\n",
    "        total += labels.size(0)\n",
    "        correct += (predicted == labels).sum().item()\n",
    "\n",
    "print('Accuracy of the network on the 10000 test images: %d %%' % (\n",
    "    100 * correct / total))"
   ]
  },
  {
   "cell_type": "code",
   "execution_count": 59,
   "metadata": {},
   "outputs": [
    {
     "name": "stdout",
     "output_type": "stream",
     "text": [
      "Accuracy of plane : 61 %\n",
      "Accuracy of   car : 59 %\n",
      "Accuracy of  bird : 35 %\n",
      "Accuracy of   cat : 31 %\n",
      "Accuracy of  deer : 49 %\n",
      "Accuracy of   dog : 37 %\n",
      "Accuracy of  frog : 66 %\n",
      "Accuracy of horse : 60 %\n",
      "Accuracy of  ship : 65 %\n",
      "Accuracy of truck : 58 %\n"
     ]
    }
   ],
   "source": [
    "class_correct = list(0. for i in range(10))\n",
    "class_total = list(0. for i in range(10))\n",
    "with torch.no_grad():\n",
    "    for data in testloader:\n",
    "        images, labels = data\n",
    "        X = images.reshape(-1,32*32*3)\n",
    "        outputs = model(X)\n",
    "        _, predicted = torch.max(outputs, 1)\n",
    "        c = (predicted == labels).squeeze()\n",
    "        for i in range(4):\n",
    "            label = labels[i]\n",
    "            class_correct[label] += c[i].item()\n",
    "            class_total[label] += 1\n",
    "\n",
    "\n",
    "for i in range(10):\n",
    "    print('Accuracy of %5s : %2d %%' % (\n",
    "        classes[i], 100 * class_correct[i] / class_total[i]))"
   ]
  },
  {
   "cell_type": "markdown",
   "metadata": {},
   "source": [
    "### Hyperparameter Optimization"
   ]
  },
  {
   "cell_type": "code",
   "execution_count": 65,
   "metadata": {
    "scrolled": false
   },
   "outputs": [
    {
     "name": "stderr",
     "output_type": "stream",
     "text": [
      "C:\\Users\\Rache\\Anaconda3\\lib\\site-packages\\ipykernel_launcher.py:13: UserWarning: To copy construct from a tensor, it is recommended to use sourceTensor.clone().detach() or sourceTensor.clone().detach().requires_grad_(True), rather than torch.tensor(sourceTensor).\n",
      "  del sys.path[0]\n"
     ]
    },
    {
     "name": "stdout",
     "output_type": "stream",
     "text": [
      "count : 1 | epoch : 1 batch: 2000 lr : 0.000069 wd: 0.000173, loss: 2.28 accuracy: 18.91\n",
      "count : 1 | epoch : 1 batch: 4000 lr : 0.000069 wd: 0.000173, loss: 2.23 accuracy: 24.18\n",
      "count : 1 | epoch : 1 batch: 6000 lr : 0.000069 wd: 0.000173, loss: 2.19 accuracy: 25.93\n",
      "count : 1 | epoch : 1 batch: 8000 lr : 0.000069 wd: 0.000173, loss: 2.16 accuracy: 27.08\n",
      "count : 1 | epoch : 1 batch: 10000 lr : 0.000069 wd: 0.000173, loss: 2.13 accuracy: 28.10\n",
      "count : 1 | epoch : 1 batch: 12000 lr : 0.000069 wd: 0.000173, loss: 2.10 accuracy: 28.91\n",
      "count : 1 | epoch : 2 batch: 2000 lr : 0.000069 wd: 0.000173, loss: 2.07 accuracy: 30.14\n",
      "count : 1 | epoch : 2 batch: 4000 lr : 0.000069 wd: 0.000173, loss: 2.05 accuracy: 30.78\n",
      "count : 1 | epoch : 2 batch: 6000 lr : 0.000069 wd: 0.000173, loss: 2.03 accuracy: 31.30\n",
      "count : 1 | epoch : 2 batch: 8000 lr : 0.000069 wd: 0.000173, loss: 2.01 accuracy: 31.60\n",
      "count : 1 | epoch : 2 batch: 10000 lr : 0.000069 wd: 0.000173, loss: 1.99 accuracy: 32.06\n",
      "count : 1 | epoch : 2 batch: 12000 lr : 0.000069 wd: 0.000173, loss: 1.97 accuracy: 32.52\n",
      "count : 2 | epoch : 1 batch: 2000 lr : 0.000282 wd: 0.000090, loss: 1.93 accuracy: 34.32\n",
      "count : 2 | epoch : 1 batch: 4000 lr : 0.000282 wd: 0.000090, loss: 1.91 accuracy: 35.43\n",
      "count : 2 | epoch : 1 batch: 6000 lr : 0.000282 wd: 0.000090, loss: 1.87 accuracy: 36.40\n",
      "count : 2 | epoch : 1 batch: 8000 lr : 0.000282 wd: 0.000090, loss: 1.83 accuracy: 37.14\n",
      "count : 2 | epoch : 1 batch: 10000 lr : 0.000282 wd: 0.000090, loss: 1.82 accuracy: 38.06\n",
      "count : 2 | epoch : 1 batch: 12000 lr : 0.000282 wd: 0.000090, loss: 1.80 accuracy: 38.32\n",
      "count : 2 | epoch : 2 batch: 2000 lr : 0.000282 wd: 0.000090, loss: 1.77 accuracy: 38.78\n",
      "count : 2 | epoch : 2 batch: 4000 lr : 0.000282 wd: 0.000090, loss: 1.75 accuracy: 39.10\n",
      "count : 2 | epoch : 2 batch: 6000 lr : 0.000282 wd: 0.000090, loss: 1.74 accuracy: 39.29\n",
      "count : 2 | epoch : 2 batch: 8000 lr : 0.000282 wd: 0.000090, loss: 1.74 accuracy: 39.42\n",
      "count : 2 | epoch : 2 batch: 10000 lr : 0.000282 wd: 0.000090, loss: 1.73 accuracy: 40.16\n",
      "count : 2 | epoch : 2 batch: 12000 lr : 0.000282 wd: 0.000090, loss: 1.73 accuracy: 40.63\n",
      "count : 3 | epoch : 1 batch: 2000 lr : 0.000199 wd: 0.000919, loss: 1.72 accuracy: 40.94\n",
      "count : 3 | epoch : 1 batch: 4000 lr : 0.000199 wd: 0.000919, loss: 1.70 accuracy: 40.82\n",
      "count : 3 | epoch : 1 batch: 6000 lr : 0.000199 wd: 0.000919, loss: 1.68 accuracy: 41.11\n",
      "count : 3 | epoch : 1 batch: 8000 lr : 0.000199 wd: 0.000919, loss: 1.66 accuracy: 41.35\n",
      "count : 3 | epoch : 1 batch: 10000 lr : 0.000199 wd: 0.000919, loss: 1.68 accuracy: 41.47\n",
      "count : 3 | epoch : 1 batch: 12000 lr : 0.000199 wd: 0.000919, loss: 1.68 accuracy: 41.90\n",
      "count : 3 | epoch : 2 batch: 2000 lr : 0.000199 wd: 0.000919, loss: 1.66 accuracy: 41.96\n",
      "count : 3 | epoch : 2 batch: 4000 lr : 0.000199 wd: 0.000919, loss: 1.67 accuracy: 42.28\n",
      "count : 3 | epoch : 2 batch: 6000 lr : 0.000199 wd: 0.000919, loss: 1.63 accuracy: 42.48\n",
      "count : 3 | epoch : 2 batch: 8000 lr : 0.000199 wd: 0.000919, loss: 1.66 accuracy: 42.57\n",
      "count : 3 | epoch : 2 batch: 10000 lr : 0.000199 wd: 0.000919, loss: 1.66 accuracy: 42.55\n",
      "count : 3 | epoch : 2 batch: 12000 lr : 0.000199 wd: 0.000919, loss: 1.63 accuracy: 42.76\n",
      "count : 4 | epoch : 1 batch: 2000 lr : 0.000524 wd: 0.000095, loss: 1.62 accuracy: 43.54\n",
      "count : 4 | epoch : 1 batch: 4000 lr : 0.000524 wd: 0.000095, loss: 1.63 accuracy: 43.31\n",
      "count : 4 | epoch : 1 batch: 6000 lr : 0.000524 wd: 0.000095, loss: 1.60 accuracy: 43.64\n",
      "count : 4 | epoch : 1 batch: 8000 lr : 0.000524 wd: 0.000095, loss: 1.61 accuracy: 44.24\n",
      "count : 4 | epoch : 1 batch: 10000 lr : 0.000524 wd: 0.000095, loss: 1.61 accuracy: 44.76\n",
      "count : 4 | epoch : 1 batch: 12000 lr : 0.000524 wd: 0.000095, loss: 1.59 accuracy: 44.36\n",
      "count : 4 | epoch : 2 batch: 2000 lr : 0.000524 wd: 0.000095, loss: 1.55 accuracy: 44.73\n",
      "count : 4 | epoch : 2 batch: 4000 lr : 0.000524 wd: 0.000095, loss: 1.57 accuracy: 44.89\n",
      "count : 4 | epoch : 2 batch: 6000 lr : 0.000524 wd: 0.000095, loss: 1.58 accuracy: 45.53\n",
      "count : 4 | epoch : 2 batch: 8000 lr : 0.000524 wd: 0.000095, loss: 1.57 accuracy: 45.47\n",
      "count : 4 | epoch : 2 batch: 10000 lr : 0.000524 wd: 0.000095, loss: 1.55 accuracy: 45.67\n",
      "count : 4 | epoch : 2 batch: 12000 lr : 0.000524 wd: 0.000095, loss: 1.56 accuracy: 46.00\n",
      "count : 5 | epoch : 1 batch: 2000 lr : 0.000013 wd: 0.000011, loss: 1.52 accuracy: 45.71\n",
      "count : 5 | epoch : 1 batch: 4000 lr : 0.000013 wd: 0.000011, loss: 1.52 accuracy: 45.75\n",
      "count : 5 | epoch : 1 batch: 6000 lr : 0.000013 wd: 0.000011, loss: 1.55 accuracy: 45.82\n",
      "count : 5 | epoch : 1 batch: 8000 lr : 0.000013 wd: 0.000011, loss: 1.53 accuracy: 45.87\n",
      "count : 5 | epoch : 1 batch: 10000 lr : 0.000013 wd: 0.000011, loss: 1.53 accuracy: 45.97\n",
      "count : 5 | epoch : 1 batch: 12000 lr : 0.000013 wd: 0.000011, loss: 1.53 accuracy: 45.99\n",
      "count : 5 | epoch : 2 batch: 2000 lr : 0.000013 wd: 0.000011, loss: 1.54 accuracy: 45.86\n",
      "count : 5 | epoch : 2 batch: 4000 lr : 0.000013 wd: 0.000011, loss: 1.53 accuracy: 45.98\n",
      "count : 5 | epoch : 2 batch: 6000 lr : 0.000013 wd: 0.000011, loss: 1.53 accuracy: 46.10\n",
      "count : 5 | epoch : 2 batch: 8000 lr : 0.000013 wd: 0.000011, loss: 1.52 accuracy: 46.06\n",
      "count : 5 | epoch : 2 batch: 10000 lr : 0.000013 wd: 0.000011, loss: 1.52 accuracy: 46.07\n",
      "count : 5 | epoch : 2 batch: 12000 lr : 0.000013 wd: 0.000011, loss: 1.51 accuracy: 46.14\n",
      "count : 6 | epoch : 1 batch: 2000 lr : 0.000050 wd: 0.000007, loss: 1.52 accuracy: 46.06\n",
      "count : 6 | epoch : 1 batch: 4000 lr : 0.000050 wd: 0.000007, loss: 1.53 accuracy: 46.41\n",
      "count : 6 | epoch : 1 batch: 6000 lr : 0.000050 wd: 0.000007, loss: 1.52 accuracy: 46.36\n",
      "count : 6 | epoch : 1 batch: 8000 lr : 0.000050 wd: 0.000007, loss: 1.54 accuracy: 46.43\n",
      "count : 6 | epoch : 1 batch: 10000 lr : 0.000050 wd: 0.000007, loss: 1.51 accuracy: 46.48\n",
      "count : 6 | epoch : 1 batch: 12000 lr : 0.000050 wd: 0.000007, loss: 1.53 accuracy: 46.40\n",
      "count : 6 | epoch : 2 batch: 2000 lr : 0.000050 wd: 0.000007, loss: 1.53 accuracy: 46.35\n",
      "count : 6 | epoch : 2 batch: 4000 lr : 0.000050 wd: 0.000007, loss: 1.52 accuracy: 46.45\n",
      "count : 6 | epoch : 2 batch: 6000 lr : 0.000050 wd: 0.000007, loss: 1.53 accuracy: 46.50\n",
      "count : 6 | epoch : 2 batch: 8000 lr : 0.000050 wd: 0.000007, loss: 1.52 accuracy: 46.47\n",
      "count : 6 | epoch : 2 batch: 10000 lr : 0.000050 wd: 0.000007, loss: 1.51 accuracy: 46.44\n",
      "count : 6 | epoch : 2 batch: 12000 lr : 0.000050 wd: 0.000007, loss: 1.52 accuracy: 46.41\n",
      "count : 7 | epoch : 1 batch: 2000 lr : 0.000031 wd: 0.000142, loss: 1.54 accuracy: 46.48\n",
      "count : 7 | epoch : 1 batch: 4000 lr : 0.000031 wd: 0.000142, loss: 1.53 accuracy: 46.46\n",
      "count : 7 | epoch : 1 batch: 6000 lr : 0.000031 wd: 0.000142, loss: 1.51 accuracy: 46.47\n",
      "count : 7 | epoch : 1 batch: 8000 lr : 0.000031 wd: 0.000142, loss: 1.51 accuracy: 46.53\n",
      "count : 7 | epoch : 1 batch: 10000 lr : 0.000031 wd: 0.000142, loss: 1.51 accuracy: 46.57\n",
      "count : 7 | epoch : 1 batch: 12000 lr : 0.000031 wd: 0.000142, loss: 1.51 accuracy: 46.57\n",
      "count : 7 | epoch : 2 batch: 2000 lr : 0.000031 wd: 0.000142, loss: 1.52 accuracy: 46.59\n",
      "count : 7 | epoch : 2 batch: 4000 lr : 0.000031 wd: 0.000142, loss: 1.54 accuracy: 46.64\n",
      "count : 7 | epoch : 2 batch: 6000 lr : 0.000031 wd: 0.000142, loss: 1.51 accuracy: 46.73\n",
      "count : 7 | epoch : 2 batch: 8000 lr : 0.000031 wd: 0.000142, loss: 1.51 accuracy: 46.70\n",
      "count : 7 | epoch : 2 batch: 10000 lr : 0.000031 wd: 0.000142, loss: 1.50 accuracy: 46.65\n",
      "count : 7 | epoch : 2 batch: 12000 lr : 0.000031 wd: 0.000142, loss: 1.50 accuracy: 46.65\n",
      "count : 8 | epoch : 1 batch: 2000 lr : 0.000109 wd: 0.000136, loss: 1.51 accuracy: 46.55\n",
      "count : 8 | epoch : 1 batch: 4000 lr : 0.000109 wd: 0.000136, loss: 1.50 accuracy: 46.54\n",
      "count : 8 | epoch : 1 batch: 6000 lr : 0.000109 wd: 0.000136, loss: 1.53 accuracy: 46.75\n",
      "count : 8 | epoch : 1 batch: 8000 lr : 0.000109 wd: 0.000136, loss: 1.51 accuracy: 46.99\n",
      "count : 8 | epoch : 1 batch: 10000 lr : 0.000109 wd: 0.000136, loss: 1.50 accuracy: 46.70\n",
      "count : 8 | epoch : 1 batch: 12000 lr : 0.000109 wd: 0.000136, loss: 1.51 accuracy: 46.90\n",
      "count : 8 | epoch : 2 batch: 2000 lr : 0.000109 wd: 0.000136, loss: 1.51 accuracy: 46.63\n",
      "count : 8 | epoch : 2 batch: 4000 lr : 0.000109 wd: 0.000136, loss: 1.51 accuracy: 46.70\n",
      "count : 8 | epoch : 2 batch: 6000 lr : 0.000109 wd: 0.000136, loss: 1.50 accuracy: 47.04\n",
      "count : 8 | epoch : 2 batch: 8000 lr : 0.000109 wd: 0.000136, loss: 1.51 accuracy: 46.88\n",
      "count : 8 | epoch : 2 batch: 10000 lr : 0.000109 wd: 0.000136, loss: 1.50 accuracy: 46.84\n",
      "count : 8 | epoch : 2 batch: 12000 lr : 0.000109 wd: 0.000136, loss: 1.50 accuracy: 46.83\n",
      "count : 9 | epoch : 1 batch: 2000 lr : 0.000014 wd: 0.000003, loss: 1.50 accuracy: 47.21\n",
      "count : 9 | epoch : 1 batch: 4000 lr : 0.000014 wd: 0.000003, loss: 1.51 accuracy: 47.11\n",
      "count : 9 | epoch : 1 batch: 6000 lr : 0.000014 wd: 0.000003, loss: 1.50 accuracy: 47.07\n",
      "count : 9 | epoch : 1 batch: 8000 lr : 0.000014 wd: 0.000003, loss: 1.49 accuracy: 47.11\n",
      "count : 9 | epoch : 1 batch: 10000 lr : 0.000014 wd: 0.000003, loss: 1.50 accuracy: 47.11\n",
      "count : 9 | epoch : 1 batch: 12000 lr : 0.000014 wd: 0.000003, loss: 1.48 accuracy: 47.14\n",
      "count : 9 | epoch : 2 batch: 2000 lr : 0.000014 wd: 0.000003, loss: 1.50 accuracy: 47.15\n",
      "count : 9 | epoch : 2 batch: 4000 lr : 0.000014 wd: 0.000003, loss: 1.51 accuracy: 47.14\n",
      "count : 9 | epoch : 2 batch: 6000 lr : 0.000014 wd: 0.000003, loss: 1.50 accuracy: 47.14\n",
      "count : 9 | epoch : 2 batch: 8000 lr : 0.000014 wd: 0.000003, loss: 1.48 accuracy: 47.08\n",
      "count : 9 | epoch : 2 batch: 10000 lr : 0.000014 wd: 0.000003, loss: 1.49 accuracy: 47.14\n",
      "count : 9 | epoch : 2 batch: 12000 lr : 0.000014 wd: 0.000003, loss: 1.49 accuracy: 47.15\n",
      "count : 10 | epoch : 1 batch: 2000 lr : 0.000095 wd: 0.000596, loss: 1.52 accuracy: 46.99\n",
      "count : 10 | epoch : 1 batch: 4000 lr : 0.000095 wd: 0.000596, loss: 1.49 accuracy: 46.76\n",
      "count : 10 | epoch : 1 batch: 6000 lr : 0.000095 wd: 0.000596, loss: 1.50 accuracy: 46.90\n",
      "count : 10 | epoch : 1 batch: 8000 lr : 0.000095 wd: 0.000596, loss: 1.50 accuracy: 47.16\n",
      "count : 10 | epoch : 1 batch: 10000 lr : 0.000095 wd: 0.000596, loss: 1.49 accuracy: 47.07\n",
      "count : 10 | epoch : 1 batch: 12000 lr : 0.000095 wd: 0.000596, loss: 1.49 accuracy: 47.19\n",
      "count : 10 | epoch : 2 batch: 2000 lr : 0.000095 wd: 0.000596, loss: 1.50 accuracy: 47.11\n",
      "count : 10 | epoch : 2 batch: 4000 lr : 0.000095 wd: 0.000596, loss: 1.48 accuracy: 47.34\n",
      "count : 10 | epoch : 2 batch: 6000 lr : 0.000095 wd: 0.000596, loss: 1.49 accuracy: 47.05\n",
      "count : 10 | epoch : 2 batch: 8000 lr : 0.000095 wd: 0.000596, loss: 1.48 accuracy: 47.49\n",
      "count : 10 | epoch : 2 batch: 10000 lr : 0.000095 wd: 0.000596, loss: 1.48 accuracy: 47.30\n",
      "count : 10 | epoch : 2 batch: 12000 lr : 0.000095 wd: 0.000596, loss: 1.50 accuracy: 47.33\n",
      "count : 11 | epoch : 1 batch: 2000 lr : 0.000617 wd: 0.000004, loss: 1.49 accuracy: 46.66\n",
      "count : 11 | epoch : 1 batch: 4000 lr : 0.000617 wd: 0.000004, loss: 1.48 accuracy: 46.83\n",
      "count : 11 | epoch : 1 batch: 6000 lr : 0.000617 wd: 0.000004, loss: 1.50 accuracy: 47.43\n",
      "count : 11 | epoch : 1 batch: 8000 lr : 0.000617 wd: 0.000004, loss: 1.48 accuracy: 47.15\n",
      "count : 11 | epoch : 1 batch: 10000 lr : 0.000617 wd: 0.000004, loss: 1.48 accuracy: 47.05\n",
      "count : 11 | epoch : 1 batch: 12000 lr : 0.000617 wd: 0.000004, loss: 1.48 accuracy: 47.58\n",
      "count : 11 | epoch : 2 batch: 2000 lr : 0.000617 wd: 0.000004, loss: 1.47 accuracy: 47.78\n",
      "count : 11 | epoch : 2 batch: 4000 lr : 0.000617 wd: 0.000004, loss: 1.47 accuracy: 47.57\n",
      "count : 11 | epoch : 2 batch: 6000 lr : 0.000617 wd: 0.000004, loss: 1.45 accuracy: 47.50\n",
      "count : 11 | epoch : 2 batch: 8000 lr : 0.000617 wd: 0.000004, loss: 1.47 accuracy: 47.48\n",
      "count : 11 | epoch : 2 batch: 10000 lr : 0.000617 wd: 0.000004, loss: 1.45 accuracy: 47.63\n",
      "count : 11 | epoch : 2 batch: 12000 lr : 0.000617 wd: 0.000004, loss: 1.43 accuracy: 48.01\n",
      "count : 12 | epoch : 1 batch: 2000 lr : 0.000149 wd: 0.000016, loss: 1.42 accuracy: 48.57\n",
      "count : 12 | epoch : 1 batch: 4000 lr : 0.000149 wd: 0.000016, loss: 1.42 accuracy: 48.62\n",
      "count : 12 | epoch : 1 batch: 6000 lr : 0.000149 wd: 0.000016, loss: 1.41 accuracy: 48.53\n",
      "count : 12 | epoch : 1 batch: 8000 lr : 0.000149 wd: 0.000016, loss: 1.44 accuracy: 48.59\n",
      "count : 12 | epoch : 1 batch: 10000 lr : 0.000149 wd: 0.000016, loss: 1.44 accuracy: 48.71\n",
      "count : 12 | epoch : 1 batch: 12000 lr : 0.000149 wd: 0.000016, loss: 1.40 accuracy: 48.60\n",
      "count : 12 | epoch : 2 batch: 2000 lr : 0.000149 wd: 0.000016, loss: 1.41 accuracy: 48.40\n",
      "count : 12 | epoch : 2 batch: 4000 lr : 0.000149 wd: 0.000016, loss: 1.42 accuracy: 48.65\n",
      "count : 12 | epoch : 2 batch: 6000 lr : 0.000149 wd: 0.000016, loss: 1.40 accuracy: 48.54\n",
      "count : 12 | epoch : 2 batch: 8000 lr : 0.000149 wd: 0.000016, loss: 1.42 accuracy: 48.59\n",
      "count : 12 | epoch : 2 batch: 10000 lr : 0.000149 wd: 0.000016, loss: 1.41 accuracy: 48.66\n",
      "count : 12 | epoch : 2 batch: 12000 lr : 0.000149 wd: 0.000016, loss: 1.41 accuracy: 48.62\n",
      "count : 13 | epoch : 1 batch: 2000 lr : 0.000063 wd: 0.000016, loss: 1.41 accuracy: 48.77\n",
      "count : 13 | epoch : 1 batch: 4000 lr : 0.000063 wd: 0.000016, loss: 1.40 accuracy: 48.81\n",
      "count : 13 | epoch : 1 batch: 6000 lr : 0.000063 wd: 0.000016, loss: 1.40 accuracy: 48.65\n",
      "count : 13 | epoch : 1 batch: 8000 lr : 0.000063 wd: 0.000016, loss: 1.42 accuracy: 48.79\n",
      "count : 13 | epoch : 1 batch: 10000 lr : 0.000063 wd: 0.000016, loss: 1.41 accuracy: 48.79\n",
      "count : 13 | epoch : 1 batch: 12000 lr : 0.000063 wd: 0.000016, loss: 1.39 accuracy: 48.69\n",
      "count : 13 | epoch : 2 batch: 2000 lr : 0.000063 wd: 0.000016, loss: 1.40 accuracy: 48.79\n",
      "count : 13 | epoch : 2 batch: 4000 lr : 0.000063 wd: 0.000016, loss: 1.40 accuracy: 48.95\n",
      "count : 13 | epoch : 2 batch: 6000 lr : 0.000063 wd: 0.000016, loss: 1.41 accuracy: 48.72\n",
      "count : 13 | epoch : 2 batch: 8000 lr : 0.000063 wd: 0.000016, loss: 1.40 accuracy: 48.79\n",
      "count : 13 | epoch : 2 batch: 10000 lr : 0.000063 wd: 0.000016, loss: 1.39 accuracy: 48.64\n",
      "count : 13 | epoch : 2 batch: 12000 lr : 0.000063 wd: 0.000016, loss: 1.41 accuracy: 48.85\n",
      "count : 14 | epoch : 1 batch: 2000 lr : 0.000532 wd: 0.000863, loss: 1.41 accuracy: 48.68\n",
      "count : 14 | epoch : 1 batch: 4000 lr : 0.000532 wd: 0.000863, loss: 1.41 accuracy: 48.69\n",
      "count : 14 | epoch : 1 batch: 6000 lr : 0.000532 wd: 0.000863, loss: 1.41 accuracy: 48.60\n",
      "count : 14 | epoch : 1 batch: 8000 lr : 0.000532 wd: 0.000863, loss: 1.39 accuracy: 48.89\n",
      "count : 14 | epoch : 1 batch: 10000 lr : 0.000532 wd: 0.000863, loss: 1.41 accuracy: 48.85\n",
      "count : 14 | epoch : 1 batch: 12000 lr : 0.000532 wd: 0.000863, loss: 1.41 accuracy: 49.28\n",
      "count : 14 | epoch : 2 batch: 2000 lr : 0.000532 wd: 0.000863, loss: 1.38 accuracy: 49.22\n",
      "count : 14 | epoch : 2 batch: 4000 lr : 0.000532 wd: 0.000863, loss: 1.38 accuracy: 48.78\n",
      "count : 14 | epoch : 2 batch: 6000 lr : 0.000532 wd: 0.000863, loss: 1.39 accuracy: 49.26\n",
      "count : 14 | epoch : 2 batch: 8000 lr : 0.000532 wd: 0.000863, loss: 1.38 accuracy: 49.25\n",
      "count : 14 | epoch : 2 batch: 10000 lr : 0.000532 wd: 0.000863, loss: 1.39 accuracy: 49.71\n",
      "count : 14 | epoch : 2 batch: 12000 lr : 0.000532 wd: 0.000863, loss: 1.39 accuracy: 49.65\n",
      "count : 15 | epoch : 1 batch: 2000 lr : 0.000840 wd: 0.000105, loss: 1.35 accuracy: 49.71\n",
      "count : 15 | epoch : 1 batch: 4000 lr : 0.000840 wd: 0.000105, loss: 1.38 accuracy: 49.11\n",
      "count : 15 | epoch : 1 batch: 6000 lr : 0.000840 wd: 0.000105, loss: 1.37 accuracy: 49.77\n",
      "count : 15 | epoch : 1 batch: 8000 lr : 0.000840 wd: 0.000105, loss: 1.39 accuracy: 49.71\n",
      "count : 15 | epoch : 1 batch: 10000 lr : 0.000840 wd: 0.000105, loss: 1.38 accuracy: 49.84\n",
      "count : 15 | epoch : 1 batch: 12000 lr : 0.000840 wd: 0.000105, loss: 1.36 accuracy: 49.83\n",
      "count : 15 | epoch : 2 batch: 2000 lr : 0.000840 wd: 0.000105, loss: 1.36 accuracy: 49.78\n",
      "count : 15 | epoch : 2 batch: 4000 lr : 0.000840 wd: 0.000105, loss: 1.34 accuracy: 50.22\n",
      "count : 15 | epoch : 2 batch: 6000 lr : 0.000840 wd: 0.000105, loss: 1.33 accuracy: 49.80\n",
      "count : 15 | epoch : 2 batch: 8000 lr : 0.000840 wd: 0.000105, loss: 1.34 accuracy: 49.84\n",
      "count : 15 | epoch : 2 batch: 10000 lr : 0.000840 wd: 0.000105, loss: 1.36 accuracy: 49.52\n",
      "count : 15 | epoch : 2 batch: 12000 lr : 0.000840 wd: 0.000105, loss: 1.33 accuracy: 50.25\n",
      "count : 16 | epoch : 1 batch: 2000 lr : 0.000013 wd: 0.000206, loss: 1.32 accuracy: 50.65\n"
     ]
    },
    {
     "name": "stdout",
     "output_type": "stream",
     "text": [
      "count : 16 | epoch : 1 batch: 4000 lr : 0.000013 wd: 0.000206, loss: 1.28 accuracy: 50.73\n",
      "count : 16 | epoch : 1 batch: 6000 lr : 0.000013 wd: 0.000206, loss: 1.30 accuracy: 50.73\n",
      "count : 16 | epoch : 1 batch: 8000 lr : 0.000013 wd: 0.000206, loss: 1.32 accuracy: 50.74\n",
      "count : 16 | epoch : 1 batch: 10000 lr : 0.000013 wd: 0.000206, loss: 1.30 accuracy: 50.77\n",
      "count : 16 | epoch : 1 batch: 12000 lr : 0.000013 wd: 0.000206, loss: 1.31 accuracy: 50.89\n",
      "count : 16 | epoch : 2 batch: 2000 lr : 0.000013 wd: 0.000206, loss: 1.30 accuracy: 50.84\n",
      "count : 16 | epoch : 2 batch: 4000 lr : 0.000013 wd: 0.000206, loss: 1.30 accuracy: 50.92\n",
      "count : 16 | epoch : 2 batch: 6000 lr : 0.000013 wd: 0.000206, loss: 1.29 accuracy: 50.92\n",
      "count : 16 | epoch : 2 batch: 8000 lr : 0.000013 wd: 0.000206, loss: 1.30 accuracy: 50.85\n",
      "count : 16 | epoch : 2 batch: 10000 lr : 0.000013 wd: 0.000206, loss: 1.29 accuracy: 50.91\n",
      "count : 16 | epoch : 2 batch: 12000 lr : 0.000013 wd: 0.000206, loss: 1.31 accuracy: 51.03\n",
      "count : 17 | epoch : 1 batch: 2000 lr : 0.000038 wd: 0.000324, loss: 1.29 accuracy: 51.02\n",
      "count : 17 | epoch : 1 batch: 4000 lr : 0.000038 wd: 0.000324, loss: 1.32 accuracy: 51.21\n",
      "count : 17 | epoch : 1 batch: 6000 lr : 0.000038 wd: 0.000324, loss: 1.29 accuracy: 51.14\n",
      "count : 17 | epoch : 1 batch: 8000 lr : 0.000038 wd: 0.000324, loss: 1.29 accuracy: 51.15\n",
      "count : 17 | epoch : 1 batch: 10000 lr : 0.000038 wd: 0.000324, loss: 1.29 accuracy: 51.24\n",
      "count : 17 | epoch : 1 batch: 12000 lr : 0.000038 wd: 0.000324, loss: 1.29 accuracy: 51.18\n",
      "count : 17 | epoch : 2 batch: 2000 lr : 0.000038 wd: 0.000324, loss: 1.29 accuracy: 51.26\n",
      "count : 17 | epoch : 2 batch: 4000 lr : 0.000038 wd: 0.000324, loss: 1.30 accuracy: 51.20\n",
      "count : 17 | epoch : 2 batch: 6000 lr : 0.000038 wd: 0.000324, loss: 1.29 accuracy: 50.98\n",
      "count : 17 | epoch : 2 batch: 8000 lr : 0.000038 wd: 0.000324, loss: 1.29 accuracy: 50.98\n",
      "count : 17 | epoch : 2 batch: 10000 lr : 0.000038 wd: 0.000324, loss: 1.30 accuracy: 51.14\n",
      "count : 17 | epoch : 2 batch: 12000 lr : 0.000038 wd: 0.000324, loss: 1.29 accuracy: 51.24\n",
      "count : 18 | epoch : 1 batch: 2000 lr : 0.000072 wd: 0.000001, loss: 1.31 accuracy: 50.99\n",
      "count : 18 | epoch : 1 batch: 4000 lr : 0.000072 wd: 0.000001, loss: 1.28 accuracy: 51.18\n",
      "count : 18 | epoch : 1 batch: 6000 lr : 0.000072 wd: 0.000001, loss: 1.29 accuracy: 51.01\n",
      "count : 18 | epoch : 1 batch: 8000 lr : 0.000072 wd: 0.000001, loss: 1.29 accuracy: 51.20\n",
      "count : 18 | epoch : 1 batch: 10000 lr : 0.000072 wd: 0.000001, loss: 1.28 accuracy: 51.06\n",
      "count : 18 | epoch : 1 batch: 12000 lr : 0.000072 wd: 0.000001, loss: 1.30 accuracy: 51.31\n",
      "count : 18 | epoch : 2 batch: 2000 lr : 0.000072 wd: 0.000001, loss: 1.29 accuracy: 51.06\n",
      "count : 18 | epoch : 2 batch: 4000 lr : 0.000072 wd: 0.000001, loss: 1.28 accuracy: 51.05\n",
      "count : 18 | epoch : 2 batch: 6000 lr : 0.000072 wd: 0.000001, loss: 1.28 accuracy: 51.22\n",
      "count : 18 | epoch : 2 batch: 8000 lr : 0.000072 wd: 0.000001, loss: 1.31 accuracy: 51.23\n",
      "count : 18 | epoch : 2 batch: 10000 lr : 0.000072 wd: 0.000001, loss: 1.29 accuracy: 51.16\n",
      "count : 18 | epoch : 2 batch: 12000 lr : 0.000072 wd: 0.000001, loss: 1.27 accuracy: 51.14\n",
      "count : 19 | epoch : 1 batch: 2000 lr : 0.000131 wd: 0.000132, loss: 1.28 accuracy: 51.05\n",
      "count : 19 | epoch : 1 batch: 4000 lr : 0.000131 wd: 0.000132, loss: 1.29 accuracy: 51.14\n",
      "count : 19 | epoch : 1 batch: 6000 lr : 0.000131 wd: 0.000132, loss: 1.27 accuracy: 51.10\n",
      "count : 19 | epoch : 1 batch: 8000 lr : 0.000131 wd: 0.000132, loss: 1.28 accuracy: 51.22\n",
      "count : 19 | epoch : 1 batch: 10000 lr : 0.000131 wd: 0.000132, loss: 1.31 accuracy: 51.19\n",
      "count : 19 | epoch : 1 batch: 12000 lr : 0.000131 wd: 0.000132, loss: 1.30 accuracy: 50.95\n",
      "count : 19 | epoch : 2 batch: 2000 lr : 0.000131 wd: 0.000132, loss: 1.27 accuracy: 50.91\n",
      "count : 19 | epoch : 2 batch: 4000 lr : 0.000131 wd: 0.000132, loss: 1.28 accuracy: 51.02\n",
      "count : 19 | epoch : 2 batch: 6000 lr : 0.000131 wd: 0.000132, loss: 1.28 accuracy: 50.98\n",
      "count : 19 | epoch : 2 batch: 8000 lr : 0.000131 wd: 0.000132, loss: 1.28 accuracy: 50.95\n",
      "count : 19 | epoch : 2 batch: 10000 lr : 0.000131 wd: 0.000132, loss: 1.29 accuracy: 51.01\n",
      "count : 19 | epoch : 2 batch: 12000 lr : 0.000131 wd: 0.000132, loss: 1.29 accuracy: 51.06\n",
      "count : 20 | epoch : 1 batch: 2000 lr : 0.000933 wd: 0.000008, loss: 1.30 accuracy: 50.32\n",
      "count : 20 | epoch : 1 batch: 4000 lr : 0.000933 wd: 0.000008, loss: 1.30 accuracy: 50.92\n",
      "count : 20 | epoch : 1 batch: 6000 lr : 0.000933 wd: 0.000008, loss: 1.29 accuracy: 50.43\n",
      "count : 20 | epoch : 1 batch: 8000 lr : 0.000933 wd: 0.000008, loss: 1.30 accuracy: 50.54\n",
      "count : 20 | epoch : 1 batch: 10000 lr : 0.000933 wd: 0.000008, loss: 1.32 accuracy: 50.51\n",
      "count : 20 | epoch : 1 batch: 12000 lr : 0.000933 wd: 0.000008, loss: 1.32 accuracy: 50.79\n",
      "count : 20 | epoch : 2 batch: 2000 lr : 0.000933 wd: 0.000008, loss: 1.30 accuracy: 50.70\n",
      "count : 20 | epoch : 2 batch: 4000 lr : 0.000933 wd: 0.000008, loss: 1.27 accuracy: 50.46\n",
      "count : 20 | epoch : 2 batch: 6000 lr : 0.000933 wd: 0.000008, loss: 1.26 accuracy: 50.61\n",
      "count : 20 | epoch : 2 batch: 8000 lr : 0.000933 wd: 0.000008, loss: 1.28 accuracy: 50.91\n",
      "count : 20 | epoch : 2 batch: 10000 lr : 0.000933 wd: 0.000008, loss: 1.32 accuracy: 50.60\n",
      "count : 20 | epoch : 2 batch: 12000 lr : 0.000933 wd: 0.000008, loss: 1.27 accuracy: 50.84\n",
      "count : 21 | epoch : 1 batch: 2000 lr : 0.000310 wd: 0.000070, loss: 1.23 accuracy: 51.67\n",
      "count : 21 | epoch : 1 batch: 4000 lr : 0.000310 wd: 0.000070, loss: 1.22 accuracy: 51.70\n",
      "count : 21 | epoch : 1 batch: 6000 lr : 0.000310 wd: 0.000070, loss: 1.23 accuracy: 51.49\n",
      "count : 21 | epoch : 1 batch: 8000 lr : 0.000310 wd: 0.000070, loss: 1.24 accuracy: 51.54\n",
      "count : 21 | epoch : 1 batch: 10000 lr : 0.000310 wd: 0.000070, loss: 1.25 accuracy: 51.42\n",
      "count : 21 | epoch : 1 batch: 12000 lr : 0.000310 wd: 0.000070, loss: 1.23 accuracy: 51.39\n",
      "count : 21 | epoch : 2 batch: 2000 lr : 0.000310 wd: 0.000070, loss: 1.21 accuracy: 51.46\n",
      "count : 21 | epoch : 2 batch: 4000 lr : 0.000310 wd: 0.000070, loss: 1.23 accuracy: 51.78\n",
      "count : 21 | epoch : 2 batch: 6000 lr : 0.000310 wd: 0.000070, loss: 1.23 accuracy: 51.32\n",
      "count : 21 | epoch : 2 batch: 8000 lr : 0.000310 wd: 0.000070, loss: 1.23 accuracy: 51.61\n",
      "count : 21 | epoch : 2 batch: 10000 lr : 0.000310 wd: 0.000070, loss: 1.22 accuracy: 51.46\n",
      "count : 21 | epoch : 2 batch: 12000 lr : 0.000310 wd: 0.000070, loss: 1.24 accuracy: 51.76\n",
      "count : 22 | epoch : 1 batch: 2000 lr : 0.000482 wd: 0.000001, loss: 1.21 accuracy: 51.48\n",
      "count : 22 | epoch : 1 batch: 4000 lr : 0.000482 wd: 0.000001, loss: 1.23 accuracy: 51.48\n",
      "count : 22 | epoch : 1 batch: 6000 lr : 0.000482 wd: 0.000001, loss: 1.21 accuracy: 51.55\n",
      "count : 22 | epoch : 1 batch: 8000 lr : 0.000482 wd: 0.000001, loss: 1.22 accuracy: 51.47\n",
      "count : 22 | epoch : 1 batch: 10000 lr : 0.000482 wd: 0.000001, loss: 1.24 accuracy: 51.96\n",
      "count : 22 | epoch : 1 batch: 12000 lr : 0.000482 wd: 0.000001, loss: 1.24 accuracy: 51.87\n",
      "count : 22 | epoch : 2 batch: 2000 lr : 0.000482 wd: 0.000001, loss: 1.20 accuracy: 51.63\n",
      "count : 22 | epoch : 2 batch: 4000 lr : 0.000482 wd: 0.000001, loss: 1.20 accuracy: 51.69\n",
      "count : 22 | epoch : 2 batch: 6000 lr : 0.000482 wd: 0.000001, loss: 1.21 accuracy: 51.59\n",
      "count : 22 | epoch : 2 batch: 8000 lr : 0.000482 wd: 0.000001, loss: 1.21 accuracy: 51.85\n",
      "count : 22 | epoch : 2 batch: 10000 lr : 0.000482 wd: 0.000001, loss: 1.21 accuracy: 52.01\n",
      "count : 22 | epoch : 2 batch: 12000 lr : 0.000482 wd: 0.000001, loss: 1.24 accuracy: 52.17\n",
      "count : 23 | epoch : 1 batch: 2000 lr : 0.000661 wd: 0.000004, loss: 1.20 accuracy: 51.65\n",
      "count : 23 | epoch : 1 batch: 4000 lr : 0.000661 wd: 0.000004, loss: 1.20 accuracy: 51.49\n",
      "count : 23 | epoch : 1 batch: 6000 lr : 0.000661 wd: 0.000004, loss: 1.20 accuracy: 51.93\n",
      "count : 23 | epoch : 1 batch: 8000 lr : 0.000661 wd: 0.000004, loss: 1.21 accuracy: 51.64\n",
      "count : 23 | epoch : 1 batch: 10000 lr : 0.000661 wd: 0.000004, loss: 1.21 accuracy: 51.99\n",
      "count : 23 | epoch : 1 batch: 12000 lr : 0.000661 wd: 0.000004, loss: 1.22 accuracy: 51.60\n",
      "count : 23 | epoch : 2 batch: 2000 lr : 0.000661 wd: 0.000004, loss: 1.19 accuracy: 51.72\n",
      "count : 23 | epoch : 2 batch: 4000 lr : 0.000661 wd: 0.000004, loss: 1.17 accuracy: 51.97\n",
      "count : 23 | epoch : 2 batch: 6000 lr : 0.000661 wd: 0.000004, loss: 1.19 accuracy: 51.24\n",
      "count : 23 | epoch : 2 batch: 8000 lr : 0.000661 wd: 0.000004, loss: 1.22 accuracy: 51.21\n",
      "count : 23 | epoch : 2 batch: 10000 lr : 0.000661 wd: 0.000004, loss: 1.21 accuracy: 51.92\n",
      "count : 23 | epoch : 2 batch: 12000 lr : 0.000661 wd: 0.000004, loss: 1.19 accuracy: 52.24\n",
      "count : 24 | epoch : 1 batch: 2000 lr : 0.000701 wd: 0.000134, loss: 1.18 accuracy: 51.64\n",
      "count : 24 | epoch : 1 batch: 4000 lr : 0.000701 wd: 0.000134, loss: 1.17 accuracy: 51.86\n",
      "count : 24 | epoch : 1 batch: 6000 lr : 0.000701 wd: 0.000134, loss: 1.19 accuracy: 51.66\n",
      "count : 24 | epoch : 1 batch: 8000 lr : 0.000701 wd: 0.000134, loss: 1.18 accuracy: 51.67\n",
      "count : 24 | epoch : 1 batch: 10000 lr : 0.000701 wd: 0.000134, loss: 1.18 accuracy: 51.87\n",
      "count : 24 | epoch : 1 batch: 12000 lr : 0.000701 wd: 0.000134, loss: 1.20 accuracy: 51.66\n",
      "count : 24 | epoch : 2 batch: 2000 lr : 0.000701 wd: 0.000134, loss: 1.15 accuracy: 51.25\n",
      "count : 24 | epoch : 2 batch: 4000 lr : 0.000701 wd: 0.000134, loss: 1.17 accuracy: 51.46\n",
      "count : 24 | epoch : 2 batch: 6000 lr : 0.000701 wd: 0.000134, loss: 1.16 accuracy: 51.60\n",
      "count : 24 | epoch : 2 batch: 8000 lr : 0.000701 wd: 0.000134, loss: 1.19 accuracy: 51.74\n",
      "count : 24 | epoch : 2 batch: 10000 lr : 0.000701 wd: 0.000134, loss: 1.16 accuracy: 51.62\n",
      "count : 24 | epoch : 2 batch: 12000 lr : 0.000701 wd: 0.000134, loss: 1.17 accuracy: 51.82\n",
      "count : 25 | epoch : 1 batch: 2000 lr : 0.000582 wd: 0.000392, loss: 1.14 accuracy: 52.33\n",
      "count : 25 | epoch : 1 batch: 4000 lr : 0.000582 wd: 0.000392, loss: 1.14 accuracy: 51.84\n",
      "count : 25 | epoch : 1 batch: 6000 lr : 0.000582 wd: 0.000392, loss: 1.15 accuracy: 52.14\n",
      "count : 25 | epoch : 1 batch: 8000 lr : 0.000582 wd: 0.000392, loss: 1.16 accuracy: 51.52\n",
      "count : 25 | epoch : 1 batch: 10000 lr : 0.000582 wd: 0.000392, loss: 1.16 accuracy: 52.14\n",
      "count : 25 | epoch : 1 batch: 12000 lr : 0.000582 wd: 0.000392, loss: 1.15 accuracy: 51.95\n",
      "count : 25 | epoch : 2 batch: 2000 lr : 0.000582 wd: 0.000392, loss: 1.14 accuracy: 52.23\n",
      "count : 25 | epoch : 2 batch: 4000 lr : 0.000582 wd: 0.000392, loss: 1.13 accuracy: 51.74\n",
      "count : 25 | epoch : 2 batch: 6000 lr : 0.000582 wd: 0.000392, loss: 1.13 accuracy: 52.15\n",
      "count : 25 | epoch : 2 batch: 8000 lr : 0.000582 wd: 0.000392, loss: 1.16 accuracy: 52.24\n",
      "count : 25 | epoch : 2 batch: 10000 lr : 0.000582 wd: 0.000392, loss: 1.13 accuracy: 52.17\n",
      "count : 25 | epoch : 2 batch: 12000 lr : 0.000582 wd: 0.000392, loss: 1.13 accuracy: 51.98\n",
      "count : 26 | epoch : 1 batch: 2000 lr : 0.000381 wd: 0.000049, loss: 1.11 accuracy: 52.25\n",
      "count : 26 | epoch : 1 batch: 4000 lr : 0.000381 wd: 0.000049, loss: 1.12 accuracy: 52.36\n",
      "count : 26 | epoch : 1 batch: 6000 lr : 0.000381 wd: 0.000049, loss: 1.11 accuracy: 52.14\n",
      "count : 26 | epoch : 1 batch: 8000 lr : 0.000381 wd: 0.000049, loss: 1.11 accuracy: 52.60\n",
      "count : 26 | epoch : 1 batch: 10000 lr : 0.000381 wd: 0.000049, loss: 1.12 accuracy: 52.25\n",
      "count : 26 | epoch : 1 batch: 12000 lr : 0.000381 wd: 0.000049, loss: 1.12 accuracy: 52.26\n",
      "count : 26 | epoch : 2 batch: 2000 lr : 0.000381 wd: 0.000049, loss: 1.09 accuracy: 52.25\n",
      "count : 26 | epoch : 2 batch: 4000 lr : 0.000381 wd: 0.000049, loss: 1.11 accuracy: 52.19\n",
      "count : 26 | epoch : 2 batch: 6000 lr : 0.000381 wd: 0.000049, loss: 1.11 accuracy: 52.14\n",
      "count : 26 | epoch : 2 batch: 8000 lr : 0.000381 wd: 0.000049, loss: 1.11 accuracy: 52.63\n",
      "count : 26 | epoch : 2 batch: 10000 lr : 0.000381 wd: 0.000049, loss: 1.11 accuracy: 52.43\n",
      "count : 26 | epoch : 2 batch: 12000 lr : 0.000381 wd: 0.000049, loss: 1.11 accuracy: 52.07\n",
      "count : 27 | epoch : 1 batch: 2000 lr : 0.000017 wd: 0.000047, loss: 1.10 accuracy: 52.57\n",
      "count : 27 | epoch : 1 batch: 4000 lr : 0.000017 wd: 0.000047, loss: 1.08 accuracy: 52.63\n",
      "count : 27 | epoch : 1 batch: 6000 lr : 0.000017 wd: 0.000047, loss: 1.08 accuracy: 52.63\n",
      "count : 27 | epoch : 1 batch: 8000 lr : 0.000017 wd: 0.000047, loss: 1.08 accuracy: 52.82\n",
      "count : 27 | epoch : 1 batch: 10000 lr : 0.000017 wd: 0.000047, loss: 1.07 accuracy: 52.72\n",
      "count : 27 | epoch : 1 batch: 12000 lr : 0.000017 wd: 0.000047, loss: 1.08 accuracy: 52.61\n",
      "count : 27 | epoch : 2 batch: 2000 lr : 0.000017 wd: 0.000047, loss: 1.08 accuracy: 52.68\n",
      "count : 27 | epoch : 2 batch: 4000 lr : 0.000017 wd: 0.000047, loss: 1.07 accuracy: 52.65\n",
      "count : 27 | epoch : 2 batch: 6000 lr : 0.000017 wd: 0.000047, loss: 1.08 accuracy: 52.70\n",
      "count : 27 | epoch : 2 batch: 8000 lr : 0.000017 wd: 0.000047, loss: 1.07 accuracy: 52.67\n",
      "count : 27 | epoch : 2 batch: 10000 lr : 0.000017 wd: 0.000047, loss: 1.06 accuracy: 52.55\n",
      "count : 27 | epoch : 2 batch: 12000 lr : 0.000017 wd: 0.000047, loss: 1.09 accuracy: 52.74\n",
      "count : 28 | epoch : 1 batch: 2000 lr : 0.000122 wd: 0.000397, loss: 1.08 accuracy: 52.29\n",
      "count : 28 | epoch : 1 batch: 4000 lr : 0.000122 wd: 0.000397, loss: 1.09 accuracy: 52.27\n",
      "count : 28 | epoch : 1 batch: 6000 lr : 0.000122 wd: 0.000397, loss: 1.08 accuracy: 52.67\n",
      "count : 28 | epoch : 1 batch: 8000 lr : 0.000122 wd: 0.000397, loss: 1.10 accuracy: 52.21\n",
      "count : 28 | epoch : 1 batch: 10000 lr : 0.000122 wd: 0.000397, loss: 1.08 accuracy: 52.39\n",
      "count : 28 | epoch : 1 batch: 12000 lr : 0.000122 wd: 0.000397, loss: 1.08 accuracy: 52.64\n",
      "count : 28 | epoch : 2 batch: 2000 lr : 0.000122 wd: 0.000397, loss: 1.08 accuracy: 52.60\n",
      "count : 28 | epoch : 2 batch: 4000 lr : 0.000122 wd: 0.000397, loss: 1.09 accuracy: 52.35\n",
      "count : 28 | epoch : 2 batch: 6000 lr : 0.000122 wd: 0.000397, loss: 1.09 accuracy: 52.72\n",
      "count : 28 | epoch : 2 batch: 8000 lr : 0.000122 wd: 0.000397, loss: 1.07 accuracy: 52.97\n",
      "count : 28 | epoch : 2 batch: 10000 lr : 0.000122 wd: 0.000397, loss: 1.08 accuracy: 52.56\n",
      "count : 28 | epoch : 2 batch: 12000 lr : 0.000122 wd: 0.000397, loss: 1.06 accuracy: 52.77\n",
      "count : 29 | epoch : 1 batch: 2000 lr : 0.000072 wd: 0.000502, loss: 1.08 accuracy: 52.57\n",
      "count : 29 | epoch : 1 batch: 4000 lr : 0.000072 wd: 0.000502, loss: 1.08 accuracy: 52.47\n",
      "count : 29 | epoch : 1 batch: 6000 lr : 0.000072 wd: 0.000502, loss: 1.07 accuracy: 52.71\n",
      "count : 29 | epoch : 1 batch: 8000 lr : 0.000072 wd: 0.000502, loss: 1.06 accuracy: 52.73\n",
      "count : 29 | epoch : 1 batch: 10000 lr : 0.000072 wd: 0.000502, loss: 1.09 accuracy: 52.78\n",
      "count : 29 | epoch : 1 batch: 12000 lr : 0.000072 wd: 0.000502, loss: 1.06 accuracy: 52.56\n",
      "count : 29 | epoch : 2 batch: 2000 lr : 0.000072 wd: 0.000502, loss: 1.06 accuracy: 52.49\n",
      "count : 29 | epoch : 2 batch: 4000 lr : 0.000072 wd: 0.000502, loss: 1.05 accuracy: 52.72\n",
      "count : 29 | epoch : 2 batch: 6000 lr : 0.000072 wd: 0.000502, loss: 1.08 accuracy: 52.60\n",
      "count : 29 | epoch : 2 batch: 8000 lr : 0.000072 wd: 0.000502, loss: 1.09 accuracy: 52.76\n",
      "count : 29 | epoch : 2 batch: 10000 lr : 0.000072 wd: 0.000502, loss: 1.08 accuracy: 52.73\n",
      "count : 29 | epoch : 2 batch: 12000 lr : 0.000072 wd: 0.000502, loss: 1.08 accuracy: 52.52\n",
      "count : 30 | epoch : 1 batch: 2000 lr : 0.000069 wd: 0.000512, loss: 1.08 accuracy: 52.70\n",
      "count : 30 | epoch : 1 batch: 4000 lr : 0.000069 wd: 0.000512, loss: 1.09 accuracy: 52.78\n",
      "count : 30 | epoch : 1 batch: 6000 lr : 0.000069 wd: 0.000512, loss: 1.05 accuracy: 52.80\n",
      "count : 30 | epoch : 1 batch: 8000 lr : 0.000069 wd: 0.000512, loss: 1.05 accuracy: 52.73\n",
      "count : 30 | epoch : 1 batch: 10000 lr : 0.000069 wd: 0.000512, loss: 1.09 accuracy: 52.67\n",
      "count : 30 | epoch : 1 batch: 12000 lr : 0.000069 wd: 0.000512, loss: 1.06 accuracy: 52.66\n",
      "count : 30 | epoch : 2 batch: 2000 lr : 0.000069 wd: 0.000512, loss: 1.08 accuracy: 52.60\n",
      "count : 30 | epoch : 2 batch: 4000 lr : 0.000069 wd: 0.000512, loss: 1.06 accuracy: 52.75\n",
      "count : 30 | epoch : 2 batch: 6000 lr : 0.000069 wd: 0.000512, loss: 1.06 accuracy: 52.37\n",
      "count : 30 | epoch : 2 batch: 8000 lr : 0.000069 wd: 0.000512, loss: 1.07 accuracy: 52.48\n",
      "count : 30 | epoch : 2 batch: 10000 lr : 0.000069 wd: 0.000512, loss: 1.09 accuracy: 52.70\n",
      "count : 30 | epoch : 2 batch: 12000 lr : 0.000069 wd: 0.000512, loss: 1.06 accuracy: 52.79\n",
      "count : 31 | epoch : 1 batch: 2000 lr : 0.000633 wd: 0.000006, loss: 1.09 accuracy: 51.91\n"
     ]
    },
    {
     "name": "stdout",
     "output_type": "stream",
     "text": [
      "count : 31 | epoch : 1 batch: 4000 lr : 0.000633 wd: 0.000006, loss: 1.09 accuracy: 52.13\n",
      "count : 31 | epoch : 1 batch: 6000 lr : 0.000633 wd: 0.000006, loss: 1.13 accuracy: 51.92\n",
      "count : 31 | epoch : 1 batch: 8000 lr : 0.000633 wd: 0.000006, loss: 1.10 accuracy: 51.81\n",
      "count : 31 | epoch : 1 batch: 10000 lr : 0.000633 wd: 0.000006, loss: 1.10 accuracy: 51.97\n",
      "count : 31 | epoch : 1 batch: 12000 lr : 0.000633 wd: 0.000006, loss: 1.12 accuracy: 52.50\n",
      "count : 31 | epoch : 2 batch: 2000 lr : 0.000633 wd: 0.000006, loss: 1.06 accuracy: 51.89\n",
      "count : 31 | epoch : 2 batch: 4000 lr : 0.000633 wd: 0.000006, loss: 1.09 accuracy: 51.83\n",
      "count : 31 | epoch : 2 batch: 6000 lr : 0.000633 wd: 0.000006, loss: 1.11 accuracy: 52.11\n",
      "count : 31 | epoch : 2 batch: 8000 lr : 0.000633 wd: 0.000006, loss: 1.10 accuracy: 51.73\n",
      "count : 31 | epoch : 2 batch: 10000 lr : 0.000633 wd: 0.000006, loss: 1.10 accuracy: 51.91\n",
      "count : 31 | epoch : 2 batch: 12000 lr : 0.000633 wd: 0.000006, loss: 1.10 accuracy: 52.30\n",
      "count : 32 | epoch : 1 batch: 2000 lr : 0.000821 wd: 0.000040, loss: 1.06 accuracy: 52.50\n",
      "count : 32 | epoch : 1 batch: 4000 lr : 0.000821 wd: 0.000040, loss: 1.10 accuracy: 51.82\n",
      "count : 32 | epoch : 1 batch: 6000 lr : 0.000821 wd: 0.000040, loss: 1.09 accuracy: 51.51\n",
      "count : 32 | epoch : 1 batch: 8000 lr : 0.000821 wd: 0.000040, loss: 1.11 accuracy: 51.86\n",
      "count : 32 | epoch : 1 batch: 10000 lr : 0.000821 wd: 0.000040, loss: 1.10 accuracy: 51.79\n",
      "count : 32 | epoch : 1 batch: 12000 lr : 0.000821 wd: 0.000040, loss: 1.11 accuracy: 51.71\n",
      "count : 32 | epoch : 2 batch: 2000 lr : 0.000821 wd: 0.000040, loss: 1.07 accuracy: 52.24\n",
      "count : 32 | epoch : 2 batch: 4000 lr : 0.000821 wd: 0.000040, loss: 1.07 accuracy: 51.70\n",
      "count : 32 | epoch : 2 batch: 6000 lr : 0.000821 wd: 0.000040, loss: 1.07 accuracy: 51.92\n",
      "count : 32 | epoch : 2 batch: 8000 lr : 0.000821 wd: 0.000040, loss: 1.08 accuracy: 51.72\n",
      "count : 32 | epoch : 2 batch: 10000 lr : 0.000821 wd: 0.000040, loss: 1.10 accuracy: 51.06\n",
      "count : 32 | epoch : 2 batch: 12000 lr : 0.000821 wd: 0.000040, loss: 1.10 accuracy: 51.03\n",
      "count : 33 | epoch : 1 batch: 2000 lr : 0.000307 wd: 0.000458, loss: 1.03 accuracy: 52.17\n",
      "count : 33 | epoch : 1 batch: 4000 lr : 0.000307 wd: 0.000458, loss: 1.05 accuracy: 52.36\n",
      "count : 33 | epoch : 1 batch: 6000 lr : 0.000307 wd: 0.000458, loss: 1.04 accuracy: 52.95\n",
      "count : 33 | epoch : 1 batch: 8000 lr : 0.000307 wd: 0.000458, loss: 1.03 accuracy: 52.36\n",
      "count : 33 | epoch : 1 batch: 10000 lr : 0.000307 wd: 0.000458, loss: 1.03 accuracy: 52.76\n",
      "count : 33 | epoch : 1 batch: 12000 lr : 0.000307 wd: 0.000458, loss: 1.03 accuracy: 52.33\n",
      "count : 33 | epoch : 2 batch: 2000 lr : 0.000307 wd: 0.000458, loss: 1.02 accuracy: 52.47\n",
      "count : 33 | epoch : 2 batch: 4000 lr : 0.000307 wd: 0.000458, loss: 1.03 accuracy: 52.55\n",
      "count : 33 | epoch : 2 batch: 6000 lr : 0.000307 wd: 0.000458, loss: 1.03 accuracy: 52.40\n",
      "count : 33 | epoch : 2 batch: 8000 lr : 0.000307 wd: 0.000458, loss: 1.03 accuracy: 52.38\n",
      "count : 33 | epoch : 2 batch: 10000 lr : 0.000307 wd: 0.000458, loss: 1.02 accuracy: 52.50\n",
      "count : 33 | epoch : 2 batch: 12000 lr : 0.000307 wd: 0.000458, loss: 1.03 accuracy: 52.24\n",
      "count : 34 | epoch : 1 batch: 2000 lr : 0.000163 wd: 0.000001, loss: 1.01 accuracy: 52.54\n",
      "count : 34 | epoch : 1 batch: 4000 lr : 0.000163 wd: 0.000001, loss: 1.00 accuracy: 52.73\n",
      "count : 34 | epoch : 1 batch: 6000 lr : 0.000163 wd: 0.000001, loss: 1.01 accuracy: 52.52\n",
      "count : 34 | epoch : 1 batch: 8000 lr : 0.000163 wd: 0.000001, loss: 1.02 accuracy: 52.55\n",
      "count : 34 | epoch : 1 batch: 10000 lr : 0.000163 wd: 0.000001, loss: 1.02 accuracy: 52.44\n",
      "count : 34 | epoch : 1 batch: 12000 lr : 0.000163 wd: 0.000001, loss: 1.02 accuracy: 52.34\n",
      "count : 34 | epoch : 2 batch: 2000 lr : 0.000163 wd: 0.000001, loss: 1.00 accuracy: 52.60\n",
      "count : 34 | epoch : 2 batch: 4000 lr : 0.000163 wd: 0.000001, loss: 1.01 accuracy: 52.61\n",
      "count : 34 | epoch : 2 batch: 6000 lr : 0.000163 wd: 0.000001, loss: 1.00 accuracy: 52.56\n",
      "count : 34 | epoch : 2 batch: 8000 lr : 0.000163 wd: 0.000001, loss: 1.01 accuracy: 52.55\n",
      "count : 34 | epoch : 2 batch: 10000 lr : 0.000163 wd: 0.000001, loss: 1.00 accuracy: 52.41\n",
      "count : 34 | epoch : 2 batch: 12000 lr : 0.000163 wd: 0.000001, loss: 1.02 accuracy: 52.85\n",
      "count : 35 | epoch : 1 batch: 2000 lr : 0.000106 wd: 0.000051, loss: 1.00 accuracy: 52.49\n",
      "count : 35 | epoch : 1 batch: 4000 lr : 0.000106 wd: 0.000051, loss: 1.01 accuracy: 52.68\n",
      "count : 35 | epoch : 1 batch: 6000 lr : 0.000106 wd: 0.000051, loss: 0.99 accuracy: 52.61\n",
      "count : 35 | epoch : 1 batch: 8000 lr : 0.000106 wd: 0.000051, loss: 0.99 accuracy: 52.57\n",
      "count : 35 | epoch : 1 batch: 10000 lr : 0.000106 wd: 0.000051, loss: 1.00 accuracy: 52.59\n",
      "count : 35 | epoch : 1 batch: 12000 lr : 0.000106 wd: 0.000051, loss: 1.01 accuracy: 52.65\n",
      "count : 35 | epoch : 2 batch: 2000 lr : 0.000106 wd: 0.000051, loss: 1.00 accuracy: 52.63\n",
      "count : 35 | epoch : 2 batch: 4000 lr : 0.000106 wd: 0.000051, loss: 1.01 accuracy: 52.71\n",
      "count : 35 | epoch : 2 batch: 6000 lr : 0.000106 wd: 0.000051, loss: 1.01 accuracy: 52.84\n",
      "count : 35 | epoch : 2 batch: 8000 lr : 0.000106 wd: 0.000051, loss: 0.99 accuracy: 52.68\n",
      "count : 35 | epoch : 2 batch: 10000 lr : 0.000106 wd: 0.000051, loss: 1.00 accuracy: 52.62\n",
      "count : 35 | epoch : 2 batch: 12000 lr : 0.000106 wd: 0.000051, loss: 0.99 accuracy: 52.84\n",
      "count : 36 | epoch : 1 batch: 2000 lr : 0.000487 wd: 0.000012, loss: 1.00 accuracy: 52.34\n",
      "count : 36 | epoch : 1 batch: 4000 lr : 0.000487 wd: 0.000012, loss: 1.04 accuracy: 52.13\n",
      "count : 36 | epoch : 1 batch: 6000 lr : 0.000487 wd: 0.000012, loss: 1.02 accuracy: 52.23\n",
      "count : 36 | epoch : 1 batch: 8000 lr : 0.000487 wd: 0.000012, loss: 1.04 accuracy: 52.23\n",
      "count : 36 | epoch : 1 batch: 10000 lr : 0.000487 wd: 0.000012, loss: 1.04 accuracy: 52.31\n",
      "count : 36 | epoch : 1 batch: 12000 lr : 0.000487 wd: 0.000012, loss: 1.01 accuracy: 52.76\n",
      "count : 36 | epoch : 2 batch: 2000 lr : 0.000487 wd: 0.000012, loss: 1.01 accuracy: 52.43\n",
      "count : 36 | epoch : 2 batch: 4000 lr : 0.000487 wd: 0.000012, loss: 1.01 accuracy: 52.21\n",
      "count : 36 | epoch : 2 batch: 6000 lr : 0.000487 wd: 0.000012, loss: 1.02 accuracy: 52.15\n",
      "count : 36 | epoch : 2 batch: 8000 lr : 0.000487 wd: 0.000012, loss: 1.02 accuracy: 52.07\n",
      "count : 36 | epoch : 2 batch: 10000 lr : 0.000487 wd: 0.000012, loss: 1.02 accuracy: 52.21\n",
      "count : 36 | epoch : 2 batch: 12000 lr : 0.000487 wd: 0.000012, loss: 1.04 accuracy: 52.50\n",
      "count : 37 | epoch : 1 batch: 2000 lr : 0.000019 wd: 0.000001, loss: 1.00 accuracy: 52.20\n",
      "count : 37 | epoch : 1 batch: 4000 lr : 0.000019 wd: 0.000001, loss: 0.99 accuracy: 52.24\n",
      "count : 37 | epoch : 1 batch: 6000 lr : 0.000019 wd: 0.000001, loss: 0.98 accuracy: 52.25\n",
      "count : 37 | epoch : 1 batch: 8000 lr : 0.000019 wd: 0.000001, loss: 0.98 accuracy: 52.33\n",
      "count : 37 | epoch : 1 batch: 10000 lr : 0.000019 wd: 0.000001, loss: 0.96 accuracy: 52.45\n",
      "count : 37 | epoch : 1 batch: 12000 lr : 0.000019 wd: 0.000001, loss: 0.98 accuracy: 52.35\n",
      "count : 37 | epoch : 2 batch: 2000 lr : 0.000019 wd: 0.000001, loss: 0.98 accuracy: 52.45\n",
      "count : 37 | epoch : 2 batch: 4000 lr : 0.000019 wd: 0.000001, loss: 0.99 accuracy: 52.55\n",
      "count : 37 | epoch : 2 batch: 6000 lr : 0.000019 wd: 0.000001, loss: 0.96 accuracy: 52.50\n",
      "count : 37 | epoch : 2 batch: 8000 lr : 0.000019 wd: 0.000001, loss: 0.97 accuracy: 52.54\n",
      "count : 37 | epoch : 2 batch: 10000 lr : 0.000019 wd: 0.000001, loss: 0.98 accuracy: 52.45\n",
      "count : 37 | epoch : 2 batch: 12000 lr : 0.000019 wd: 0.000001, loss: 0.97 accuracy: 52.41\n",
      "count : 38 | epoch : 1 batch: 2000 lr : 0.000659 wd: 0.000286, loss: 1.01 accuracy: 51.65\n",
      "count : 38 | epoch : 1 batch: 4000 lr : 0.000659 wd: 0.000286, loss: 1.01 accuracy: 51.45\n",
      "count : 38 | epoch : 1 batch: 6000 lr : 0.000659 wd: 0.000286, loss: 1.04 accuracy: 51.86\n",
      "count : 38 | epoch : 1 batch: 8000 lr : 0.000659 wd: 0.000286, loss: 1.01 accuracy: 51.80\n",
      "count : 38 | epoch : 1 batch: 10000 lr : 0.000659 wd: 0.000286, loss: 1.03 accuracy: 51.73\n",
      "count : 38 | epoch : 1 batch: 12000 lr : 0.000659 wd: 0.000286, loss: 1.03 accuracy: 52.32\n",
      "count : 38 | epoch : 2 batch: 2000 lr : 0.000659 wd: 0.000286, loss: 1.00 accuracy: 52.23\n",
      "count : 38 | epoch : 2 batch: 4000 lr : 0.000659 wd: 0.000286, loss: 1.01 accuracy: 51.99\n",
      "count : 38 | epoch : 2 batch: 6000 lr : 0.000659 wd: 0.000286, loss: 1.01 accuracy: 51.94\n",
      "count : 38 | epoch : 2 batch: 8000 lr : 0.000659 wd: 0.000286, loss: 1.02 accuracy: 52.19\n",
      "count : 38 | epoch : 2 batch: 10000 lr : 0.000659 wd: 0.000286, loss: 1.04 accuracy: 52.01\n",
      "count : 38 | epoch : 2 batch: 12000 lr : 0.000659 wd: 0.000286, loss: 1.01 accuracy: 52.12\n",
      "count : 39 | epoch : 1 batch: 2000 lr : 0.000112 wd: 0.000275, loss: 0.97 accuracy: 52.36\n",
      "count : 39 | epoch : 1 batch: 4000 lr : 0.000112 wd: 0.000275, loss: 0.95 accuracy: 52.13\n",
      "count : 39 | epoch : 1 batch: 6000 lr : 0.000112 wd: 0.000275, loss: 0.98 accuracy: 52.54\n",
      "count : 39 | epoch : 1 batch: 8000 lr : 0.000112 wd: 0.000275, loss: 0.97 accuracy: 52.44\n",
      "count : 39 | epoch : 1 batch: 10000 lr : 0.000112 wd: 0.000275, loss: 0.97 accuracy: 52.48\n",
      "count : 39 | epoch : 1 batch: 12000 lr : 0.000112 wd: 0.000275, loss: 0.97 accuracy: 52.52\n",
      "count : 39 | epoch : 2 batch: 2000 lr : 0.000112 wd: 0.000275, loss: 0.96 accuracy: 52.63\n",
      "count : 39 | epoch : 2 batch: 4000 lr : 0.000112 wd: 0.000275, loss: 0.96 accuracy: 52.56\n",
      "count : 39 | epoch : 2 batch: 6000 lr : 0.000112 wd: 0.000275, loss: 0.98 accuracy: 52.38\n",
      "count : 39 | epoch : 2 batch: 8000 lr : 0.000112 wd: 0.000275, loss: 0.94 accuracy: 52.35\n",
      "count : 39 | epoch : 2 batch: 10000 lr : 0.000112 wd: 0.000275, loss: 0.96 accuracy: 52.29\n",
      "count : 39 | epoch : 2 batch: 12000 lr : 0.000112 wd: 0.000275, loss: 0.96 accuracy: 52.62\n",
      "count : 40 | epoch : 1 batch: 2000 lr : 0.000025 wd: 0.000118, loss: 0.96 accuracy: 52.54\n",
      "count : 40 | epoch : 1 batch: 4000 lr : 0.000025 wd: 0.000118, loss: 0.96 accuracy: 52.41\n",
      "count : 40 | epoch : 1 batch: 6000 lr : 0.000025 wd: 0.000118, loss: 0.94 accuracy: 52.44\n",
      "count : 40 | epoch : 1 batch: 8000 lr : 0.000025 wd: 0.000118, loss: 0.95 accuracy: 52.48\n",
      "count : 40 | epoch : 1 batch: 10000 lr : 0.000025 wd: 0.000118, loss: 0.95 accuracy: 52.43\n",
      "count : 40 | epoch : 1 batch: 12000 lr : 0.000025 wd: 0.000118, loss: 0.96 accuracy: 52.31\n",
      "count : 40 | epoch : 2 batch: 2000 lr : 0.000025 wd: 0.000118, loss: 0.94 accuracy: 52.44\n",
      "count : 40 | epoch : 2 batch: 4000 lr : 0.000025 wd: 0.000118, loss: 0.95 accuracy: 52.54\n",
      "count : 40 | epoch : 2 batch: 6000 lr : 0.000025 wd: 0.000118, loss: 0.94 accuracy: 52.53\n",
      "count : 40 | epoch : 2 batch: 8000 lr : 0.000025 wd: 0.000118, loss: 0.96 accuracy: 52.33\n",
      "count : 40 | epoch : 2 batch: 10000 lr : 0.000025 wd: 0.000118, loss: 0.96 accuracy: 52.35\n",
      "count : 40 | epoch : 2 batch: 12000 lr : 0.000025 wd: 0.000118, loss: 0.95 accuracy: 52.43\n",
      "count : 41 | epoch : 1 batch: 2000 lr : 0.000402 wd: 0.000003, loss: 0.96 accuracy: 52.11\n",
      "count : 41 | epoch : 1 batch: 4000 lr : 0.000402 wd: 0.000003, loss: 0.98 accuracy: 52.05\n",
      "count : 41 | epoch : 1 batch: 6000 lr : 0.000402 wd: 0.000003, loss: 0.98 accuracy: 52.00\n",
      "count : 41 | epoch : 1 batch: 8000 lr : 0.000402 wd: 0.000003, loss: 1.00 accuracy: 52.13\n",
      "count : 41 | epoch : 1 batch: 10000 lr : 0.000402 wd: 0.000003, loss: 0.98 accuracy: 52.21\n",
      "count : 41 | epoch : 1 batch: 12000 lr : 0.000402 wd: 0.000003, loss: 0.99 accuracy: 52.70\n",
      "count : 41 | epoch : 2 batch: 2000 lr : 0.000402 wd: 0.000003, loss: 0.96 accuracy: 51.89\n",
      "count : 41 | epoch : 2 batch: 4000 lr : 0.000402 wd: 0.000003, loss: 0.97 accuracy: 51.98\n",
      "count : 41 | epoch : 2 batch: 6000 lr : 0.000402 wd: 0.000003, loss: 0.97 accuracy: 51.98\n",
      "count : 41 | epoch : 2 batch: 8000 lr : 0.000402 wd: 0.000003, loss: 0.97 accuracy: 52.18\n",
      "count : 41 | epoch : 2 batch: 10000 lr : 0.000402 wd: 0.000003, loss: 0.98 accuracy: 52.78\n",
      "count : 41 | epoch : 2 batch: 12000 lr : 0.000402 wd: 0.000003, loss: 0.99 accuracy: 52.24\n",
      "count : 42 | epoch : 1 batch: 2000 lr : 0.000620 wd: 0.000002, loss: 0.97 accuracy: 51.83\n",
      "count : 42 | epoch : 1 batch: 4000 lr : 0.000620 wd: 0.000002, loss: 0.99 accuracy: 51.80\n",
      "count : 42 | epoch : 1 batch: 6000 lr : 0.000620 wd: 0.000002, loss: 0.99 accuracy: 51.24\n",
      "count : 42 | epoch : 1 batch: 8000 lr : 0.000620 wd: 0.000002, loss: 0.99 accuracy: 52.07\n",
      "count : 42 | epoch : 1 batch: 10000 lr : 0.000620 wd: 0.000002, loss: 0.97 accuracy: 51.96\n",
      "count : 42 | epoch : 1 batch: 12000 lr : 0.000620 wd: 0.000002, loss: 1.00 accuracy: 51.97\n",
      "count : 42 | epoch : 2 batch: 2000 lr : 0.000620 wd: 0.000002, loss: 0.96 accuracy: 52.09\n",
      "count : 42 | epoch : 2 batch: 4000 lr : 0.000620 wd: 0.000002, loss: 0.96 accuracy: 52.08\n",
      "count : 42 | epoch : 2 batch: 6000 lr : 0.000620 wd: 0.000002, loss: 0.99 accuracy: 51.61\n",
      "count : 42 | epoch : 2 batch: 8000 lr : 0.000620 wd: 0.000002, loss: 0.98 accuracy: 51.70\n",
      "count : 42 | epoch : 2 batch: 10000 lr : 0.000620 wd: 0.000002, loss: 0.99 accuracy: 51.56\n",
      "count : 42 | epoch : 2 batch: 12000 lr : 0.000620 wd: 0.000002, loss: 0.98 accuracy: 52.06\n",
      "count : 43 | epoch : 1 batch: 2000 lr : 0.000556 wd: 0.000085, loss: 0.95 accuracy: 52.00\n",
      "count : 43 | epoch : 1 batch: 4000 lr : 0.000556 wd: 0.000085, loss: 0.96 accuracy: 52.05\n",
      "count : 43 | epoch : 1 batch: 6000 lr : 0.000556 wd: 0.000085, loss: 0.96 accuracy: 52.19\n",
      "count : 43 | epoch : 1 batch: 8000 lr : 0.000556 wd: 0.000085, loss: 0.98 accuracy: 51.28\n",
      "count : 43 | epoch : 1 batch: 10000 lr : 0.000556 wd: 0.000085, loss: 0.96 accuracy: 52.24\n",
      "count : 43 | epoch : 1 batch: 12000 lr : 0.000556 wd: 0.000085, loss: 0.99 accuracy: 51.48\n",
      "count : 43 | epoch : 2 batch: 2000 lr : 0.000556 wd: 0.000085, loss: 0.94 accuracy: 51.50\n",
      "count : 43 | epoch : 2 batch: 4000 lr : 0.000556 wd: 0.000085, loss: 0.95 accuracy: 51.34\n",
      "count : 43 | epoch : 2 batch: 6000 lr : 0.000556 wd: 0.000085, loss: 0.96 accuracy: 51.54\n",
      "count : 43 | epoch : 2 batch: 8000 lr : 0.000556 wd: 0.000085, loss: 0.98 accuracy: 51.74\n",
      "count : 43 | epoch : 2 batch: 10000 lr : 0.000556 wd: 0.000085, loss: 0.96 accuracy: 52.12\n",
      "count : 43 | epoch : 2 batch: 12000 lr : 0.000556 wd: 0.000085, loss: 0.95 accuracy: 51.86\n",
      "count : 44 | epoch : 1 batch: 2000 lr : 0.000033 wd: 0.000164, loss: 0.93 accuracy: 52.19\n",
      "count : 44 | epoch : 1 batch: 4000 lr : 0.000033 wd: 0.000164, loss: 0.91 accuracy: 52.14\n",
      "count : 44 | epoch : 1 batch: 6000 lr : 0.000033 wd: 0.000164, loss: 0.90 accuracy: 52.08\n",
      "count : 44 | epoch : 1 batch: 8000 lr : 0.000033 wd: 0.000164, loss: 0.91 accuracy: 52.11\n",
      "count : 44 | epoch : 1 batch: 10000 lr : 0.000033 wd: 0.000164, loss: 0.91 accuracy: 52.24\n",
      "count : 44 | epoch : 1 batch: 12000 lr : 0.000033 wd: 0.000164, loss: 0.91 accuracy: 52.43\n",
      "count : 44 | epoch : 2 batch: 2000 lr : 0.000033 wd: 0.000164, loss: 0.90 accuracy: 52.16\n",
      "count : 44 | epoch : 2 batch: 4000 lr : 0.000033 wd: 0.000164, loss: 0.90 accuracy: 52.36\n",
      "count : 44 | epoch : 2 batch: 6000 lr : 0.000033 wd: 0.000164, loss: 0.90 accuracy: 52.28\n",
      "count : 44 | epoch : 2 batch: 8000 lr : 0.000033 wd: 0.000164, loss: 0.90 accuracy: 52.22\n",
      "count : 44 | epoch : 2 batch: 10000 lr : 0.000033 wd: 0.000164, loss: 0.92 accuracy: 52.30\n",
      "count : 44 | epoch : 2 batch: 12000 lr : 0.000033 wd: 0.000164, loss: 0.90 accuracy: 52.23\n",
      "count : 45 | epoch : 1 batch: 2000 lr : 0.000014 wd: 0.000002, loss: 0.92 accuracy: 52.26\n",
      "count : 45 | epoch : 1 batch: 4000 lr : 0.000014 wd: 0.000002, loss: 0.89 accuracy: 52.17\n",
      "count : 45 | epoch : 1 batch: 6000 lr : 0.000014 wd: 0.000002, loss: 0.91 accuracy: 52.24\n",
      "count : 45 | epoch : 1 batch: 8000 lr : 0.000014 wd: 0.000002, loss: 0.90 accuracy: 52.35\n",
      "count : 45 | epoch : 1 batch: 10000 lr : 0.000014 wd: 0.000002, loss: 0.89 accuracy: 52.22\n",
      "count : 45 | epoch : 1 batch: 12000 lr : 0.000014 wd: 0.000002, loss: 0.90 accuracy: 52.28\n",
      "count : 45 | epoch : 2 batch: 2000 lr : 0.000014 wd: 0.000002, loss: 0.89 accuracy: 52.14\n",
      "count : 45 | epoch : 2 batch: 4000 lr : 0.000014 wd: 0.000002, loss: 0.89 accuracy: 52.13\n",
      "count : 45 | epoch : 2 batch: 6000 lr : 0.000014 wd: 0.000002, loss: 0.90 accuracy: 52.19\n",
      "count : 45 | epoch : 2 batch: 8000 lr : 0.000014 wd: 0.000002, loss: 0.91 accuracy: 52.10\n",
      "count : 45 | epoch : 2 batch: 10000 lr : 0.000014 wd: 0.000002, loss: 0.89 accuracy: 52.22\n",
      "count : 45 | epoch : 2 batch: 12000 lr : 0.000014 wd: 0.000002, loss: 0.91 accuracy: 52.26\n",
      "count : 46 | epoch : 1 batch: 2000 lr : 0.000662 wd: 0.000005, loss: 0.95 accuracy: 51.89\n"
     ]
    },
    {
     "name": "stdout",
     "output_type": "stream",
     "text": [
      "count : 46 | epoch : 1 batch: 4000 lr : 0.000662 wd: 0.000005, loss: 0.96 accuracy: 51.68\n",
      "count : 46 | epoch : 1 batch: 6000 lr : 0.000662 wd: 0.000005, loss: 0.95 accuracy: 52.31\n",
      "count : 46 | epoch : 1 batch: 8000 lr : 0.000662 wd: 0.000005, loss: 0.96 accuracy: 51.99\n",
      "count : 46 | epoch : 1 batch: 10000 lr : 0.000662 wd: 0.000005, loss: 0.97 accuracy: 51.65\n",
      "count : 46 | epoch : 1 batch: 12000 lr : 0.000662 wd: 0.000005, loss: 0.96 accuracy: 51.71\n",
      "count : 46 | epoch : 2 batch: 2000 lr : 0.000662 wd: 0.000005, loss: 0.94 accuracy: 51.80\n",
      "count : 46 | epoch : 2 batch: 4000 lr : 0.000662 wd: 0.000005, loss: 0.94 accuracy: 51.10\n",
      "count : 46 | epoch : 2 batch: 6000 lr : 0.000662 wd: 0.000005, loss: 0.96 accuracy: 51.59\n",
      "count : 46 | epoch : 2 batch: 8000 lr : 0.000662 wd: 0.000005, loss: 0.93 accuracy: 51.91\n",
      "count : 46 | epoch : 2 batch: 10000 lr : 0.000662 wd: 0.000005, loss: 0.97 accuracy: 51.53\n",
      "count : 46 | epoch : 2 batch: 12000 lr : 0.000662 wd: 0.000005, loss: 0.96 accuracy: 51.32\n",
      "count : 47 | epoch : 1 batch: 2000 lr : 0.000116 wd: 0.000029, loss: 0.90 accuracy: 51.96\n",
      "count : 47 | epoch : 1 batch: 4000 lr : 0.000116 wd: 0.000029, loss: 0.89 accuracy: 51.90\n",
      "count : 47 | epoch : 1 batch: 6000 lr : 0.000116 wd: 0.000029, loss: 0.88 accuracy: 51.96\n",
      "count : 47 | epoch : 1 batch: 8000 lr : 0.000116 wd: 0.000029, loss: 0.89 accuracy: 52.13\n",
      "count : 47 | epoch : 1 batch: 10000 lr : 0.000116 wd: 0.000029, loss: 0.90 accuracy: 51.95\n",
      "count : 47 | epoch : 1 batch: 12000 lr : 0.000116 wd: 0.000029, loss: 0.90 accuracy: 52.33\n",
      "count : 47 | epoch : 2 batch: 2000 lr : 0.000116 wd: 0.000029, loss: 0.88 accuracy: 52.26\n",
      "count : 47 | epoch : 2 batch: 4000 lr : 0.000116 wd: 0.000029, loss: 0.89 accuracy: 52.07\n",
      "count : 47 | epoch : 2 batch: 6000 lr : 0.000116 wd: 0.000029, loss: 0.88 accuracy: 52.08\n",
      "count : 47 | epoch : 2 batch: 8000 lr : 0.000116 wd: 0.000029, loss: 0.90 accuracy: 52.00\n",
      "count : 47 | epoch : 2 batch: 10000 lr : 0.000116 wd: 0.000029, loss: 0.89 accuracy: 52.04\n",
      "count : 47 | epoch : 2 batch: 12000 lr : 0.000116 wd: 0.000029, loss: 0.89 accuracy: 52.24\n",
      "count : 48 | epoch : 1 batch: 2000 lr : 0.000187 wd: 0.000526, loss: 0.87 accuracy: 51.99\n",
      "count : 48 | epoch : 1 batch: 4000 lr : 0.000187 wd: 0.000526, loss: 0.87 accuracy: 52.19\n",
      "count : 48 | epoch : 1 batch: 6000 lr : 0.000187 wd: 0.000526, loss: 0.89 accuracy: 52.18\n",
      "count : 48 | epoch : 1 batch: 8000 lr : 0.000187 wd: 0.000526, loss: 0.90 accuracy: 52.17\n",
      "count : 48 | epoch : 1 batch: 10000 lr : 0.000187 wd: 0.000526, loss: 0.91 accuracy: 51.98\n",
      "count : 48 | epoch : 1 batch: 12000 lr : 0.000187 wd: 0.000526, loss: 0.90 accuracy: 52.14\n",
      "count : 48 | epoch : 2 batch: 2000 lr : 0.000187 wd: 0.000526, loss: 0.88 accuracy: 51.65\n",
      "count : 48 | epoch : 2 batch: 4000 lr : 0.000187 wd: 0.000526, loss: 0.87 accuracy: 52.14\n",
      "count : 48 | epoch : 2 batch: 6000 lr : 0.000187 wd: 0.000526, loss: 0.89 accuracy: 52.11\n",
      "count : 48 | epoch : 2 batch: 8000 lr : 0.000187 wd: 0.000526, loss: 0.91 accuracy: 52.04\n",
      "count : 48 | epoch : 2 batch: 10000 lr : 0.000187 wd: 0.000526, loss: 0.89 accuracy: 52.16\n",
      "count : 48 | epoch : 2 batch: 12000 lr : 0.000187 wd: 0.000526, loss: 0.90 accuracy: 51.90\n",
      "count : 49 | epoch : 1 batch: 2000 lr : 0.000139 wd: 0.000267, loss: 0.87 accuracy: 52.27\n",
      "count : 49 | epoch : 1 batch: 4000 lr : 0.000139 wd: 0.000267, loss: 0.88 accuracy: 52.17\n",
      "count : 49 | epoch : 1 batch: 6000 lr : 0.000139 wd: 0.000267, loss: 0.90 accuracy: 52.17\n",
      "count : 49 | epoch : 1 batch: 8000 lr : 0.000139 wd: 0.000267, loss: 0.89 accuracy: 52.27\n",
      "count : 49 | epoch : 1 batch: 10000 lr : 0.000139 wd: 0.000267, loss: 0.88 accuracy: 52.28\n",
      "count : 49 | epoch : 1 batch: 12000 lr : 0.000139 wd: 0.000267, loss: 0.88 accuracy: 52.22\n",
      "count : 49 | epoch : 2 batch: 2000 lr : 0.000139 wd: 0.000267, loss: 0.86 accuracy: 52.23\n",
      "count : 49 | epoch : 2 batch: 4000 lr : 0.000139 wd: 0.000267, loss: 0.88 accuracy: 51.99\n",
      "count : 49 | epoch : 2 batch: 6000 lr : 0.000139 wd: 0.000267, loss: 0.88 accuracy: 52.13\n",
      "count : 49 | epoch : 2 batch: 8000 lr : 0.000139 wd: 0.000267, loss: 0.89 accuracy: 52.03\n",
      "count : 49 | epoch : 2 batch: 10000 lr : 0.000139 wd: 0.000267, loss: 0.88 accuracy: 52.19\n",
      "count : 49 | epoch : 2 batch: 12000 lr : 0.000139 wd: 0.000267, loss: 0.88 accuracy: 52.16\n",
      "count : 50 | epoch : 1 batch: 2000 lr : 0.000121 wd: 0.000007, loss: 0.87 accuracy: 51.94\n",
      "count : 50 | epoch : 1 batch: 4000 lr : 0.000121 wd: 0.000007, loss: 0.88 accuracy: 52.22\n",
      "count : 50 | epoch : 1 batch: 6000 lr : 0.000121 wd: 0.000007, loss: 0.87 accuracy: 51.89\n",
      "count : 50 | epoch : 1 batch: 8000 lr : 0.000121 wd: 0.000007, loss: 0.90 accuracy: 51.99\n",
      "count : 50 | epoch : 1 batch: 10000 lr : 0.000121 wd: 0.000007, loss: 0.88 accuracy: 52.11\n",
      "count : 50 | epoch : 1 batch: 12000 lr : 0.000121 wd: 0.000007, loss: 0.88 accuracy: 51.78\n",
      "count : 50 | epoch : 2 batch: 2000 lr : 0.000121 wd: 0.000007, loss: 0.86 accuracy: 51.87\n",
      "count : 50 | epoch : 2 batch: 4000 lr : 0.000121 wd: 0.000007, loss: 0.89 accuracy: 51.83\n",
      "count : 50 | epoch : 2 batch: 6000 lr : 0.000121 wd: 0.000007, loss: 0.86 accuracy: 51.81\n",
      "count : 50 | epoch : 2 batch: 8000 lr : 0.000121 wd: 0.000007, loss: 0.87 accuracy: 51.93\n",
      "count : 50 | epoch : 2 batch: 10000 lr : 0.000121 wd: 0.000007, loss: 0.88 accuracy: 52.19\n",
      "count : 50 | epoch : 2 batch: 12000 lr : 0.000121 wd: 0.000007, loss: 0.88 accuracy: 52.17\n",
      "count : 51 | epoch : 1 batch: 2000 lr : 0.000313 wd: 0.000002, loss: 0.87 accuracy: 51.74\n",
      "count : 51 | epoch : 1 batch: 4000 lr : 0.000313 wd: 0.000002, loss: 0.88 accuracy: 51.94\n",
      "count : 51 | epoch : 1 batch: 6000 lr : 0.000313 wd: 0.000002, loss: 0.89 accuracy: 51.65\n",
      "count : 51 | epoch : 1 batch: 8000 lr : 0.000313 wd: 0.000002, loss: 0.90 accuracy: 51.75\n",
      "count : 51 | epoch : 1 batch: 10000 lr : 0.000313 wd: 0.000002, loss: 0.90 accuracy: 51.86\n",
      "count : 51 | epoch : 1 batch: 12000 lr : 0.000313 wd: 0.000002, loss: 0.89 accuracy: 51.77\n",
      "count : 51 | epoch : 2 batch: 2000 lr : 0.000313 wd: 0.000002, loss: 0.87 accuracy: 51.95\n",
      "count : 51 | epoch : 2 batch: 4000 lr : 0.000313 wd: 0.000002, loss: 0.88 accuracy: 52.05\n",
      "count : 51 | epoch : 2 batch: 6000 lr : 0.000313 wd: 0.000002, loss: 0.89 accuracy: 51.73\n",
      "count : 51 | epoch : 2 batch: 8000 lr : 0.000313 wd: 0.000002, loss: 0.89 accuracy: 52.02\n",
      "count : 51 | epoch : 2 batch: 10000 lr : 0.000313 wd: 0.000002, loss: 0.90 accuracy: 51.94\n",
      "count : 51 | epoch : 2 batch: 12000 lr : 0.000313 wd: 0.000002, loss: 0.90 accuracy: 52.19\n",
      "count : 52 | epoch : 1 batch: 2000 lr : 0.000423 wd: 0.000058, loss: 0.88 accuracy: 51.81\n",
      "count : 52 | epoch : 1 batch: 4000 lr : 0.000423 wd: 0.000058, loss: 0.89 accuracy: 51.78\n",
      "count : 52 | epoch : 1 batch: 6000 lr : 0.000423 wd: 0.000058, loss: 0.91 accuracy: 51.29\n",
      "count : 52 | epoch : 1 batch: 8000 lr : 0.000423 wd: 0.000058, loss: 0.89 accuracy: 51.76\n",
      "count : 52 | epoch : 1 batch: 10000 lr : 0.000423 wd: 0.000058, loss: 0.89 accuracy: 51.96\n",
      "count : 52 | epoch : 1 batch: 12000 lr : 0.000423 wd: 0.000058, loss: 0.91 accuracy: 51.45\n",
      "count : 52 | epoch : 2 batch: 2000 lr : 0.000423 wd: 0.000058, loss: 0.89 accuracy: 51.40\n",
      "count : 52 | epoch : 2 batch: 4000 lr : 0.000423 wd: 0.000058, loss: 0.87 accuracy: 51.33\n",
      "count : 52 | epoch : 2 batch: 6000 lr : 0.000423 wd: 0.000058, loss: 0.89 accuracy: 52.09\n",
      "count : 52 | epoch : 2 batch: 8000 lr : 0.000423 wd: 0.000058, loss: 0.89 accuracy: 52.17\n",
      "count : 52 | epoch : 2 batch: 10000 lr : 0.000423 wd: 0.000058, loss: 0.89 accuracy: 51.91\n",
      "count : 52 | epoch : 2 batch: 12000 lr : 0.000423 wd: 0.000058, loss: 0.89 accuracy: 51.30\n",
      "count : 53 | epoch : 1 batch: 2000 lr : 0.000150 wd: 0.000060, loss: 0.86 accuracy: 51.60\n",
      "count : 53 | epoch : 1 batch: 4000 lr : 0.000150 wd: 0.000060, loss: 0.85 accuracy: 51.69\n",
      "count : 53 | epoch : 1 batch: 6000 lr : 0.000150 wd: 0.000060, loss: 0.86 accuracy: 52.01\n",
      "count : 53 | epoch : 1 batch: 8000 lr : 0.000150 wd: 0.000060, loss: 0.86 accuracy: 51.50\n",
      "count : 53 | epoch : 1 batch: 10000 lr : 0.000150 wd: 0.000060, loss: 0.87 accuracy: 51.61\n",
      "count : 53 | epoch : 1 batch: 12000 lr : 0.000150 wd: 0.000060, loss: 0.86 accuracy: 51.82\n",
      "count : 53 | epoch : 2 batch: 2000 lr : 0.000150 wd: 0.000060, loss: 0.84 accuracy: 51.80\n",
      "count : 53 | epoch : 2 batch: 4000 lr : 0.000150 wd: 0.000060, loss: 0.86 accuracy: 51.64\n",
      "count : 53 | epoch : 2 batch: 6000 lr : 0.000150 wd: 0.000060, loss: 0.87 accuracy: 51.99\n",
      "count : 53 | epoch : 2 batch: 8000 lr : 0.000150 wd: 0.000060, loss: 0.84 accuracy: 51.91\n",
      "count : 53 | epoch : 2 batch: 10000 lr : 0.000150 wd: 0.000060, loss: 0.87 accuracy: 51.81\n",
      "count : 53 | epoch : 2 batch: 12000 lr : 0.000150 wd: 0.000060, loss: 0.86 accuracy: 51.63\n",
      "count : 54 | epoch : 1 batch: 2000 lr : 0.000093 wd: 0.000048, loss: 0.83 accuracy: 51.71\n",
      "count : 54 | epoch : 1 batch: 4000 lr : 0.000093 wd: 0.000048, loss: 0.84 accuracy: 52.03\n",
      "count : 54 | epoch : 1 batch: 6000 lr : 0.000093 wd: 0.000048, loss: 0.86 accuracy: 51.88\n",
      "count : 54 | epoch : 1 batch: 8000 lr : 0.000093 wd: 0.000048, loss: 0.84 accuracy: 52.05\n",
      "count : 54 | epoch : 1 batch: 10000 lr : 0.000093 wd: 0.000048, loss: 0.84 accuracy: 51.99\n",
      "count : 54 | epoch : 1 batch: 12000 lr : 0.000093 wd: 0.000048, loss: 0.86 accuracy: 51.80\n",
      "count : 54 | epoch : 2 batch: 2000 lr : 0.000093 wd: 0.000048, loss: 0.83 accuracy: 52.12\n",
      "count : 54 | epoch : 2 batch: 4000 lr : 0.000093 wd: 0.000048, loss: 0.83 accuracy: 52.05\n",
      "count : 54 | epoch : 2 batch: 6000 lr : 0.000093 wd: 0.000048, loss: 0.83 accuracy: 52.04\n",
      "count : 54 | epoch : 2 batch: 8000 lr : 0.000093 wd: 0.000048, loss: 0.85 accuracy: 51.95\n",
      "count : 54 | epoch : 2 batch: 10000 lr : 0.000093 wd: 0.000048, loss: 0.85 accuracy: 51.97\n",
      "count : 54 | epoch : 2 batch: 12000 lr : 0.000093 wd: 0.000048, loss: 0.86 accuracy: 51.97\n",
      "count : 55 | epoch : 1 batch: 2000 lr : 0.000603 wd: 0.000034, loss: 0.87 accuracy: 51.06\n",
      "count : 55 | epoch : 1 batch: 4000 lr : 0.000603 wd: 0.000034, loss: 0.87 accuracy: 51.31\n",
      "count : 55 | epoch : 1 batch: 6000 lr : 0.000603 wd: 0.000034, loss: 0.90 accuracy: 51.19\n",
      "count : 55 | epoch : 1 batch: 8000 lr : 0.000603 wd: 0.000034, loss: 0.90 accuracy: 51.52\n",
      "count : 55 | epoch : 1 batch: 10000 lr : 0.000603 wd: 0.000034, loss: 0.91 accuracy: 50.97\n",
      "count : 55 | epoch : 1 batch: 12000 lr : 0.000603 wd: 0.000034, loss: 0.92 accuracy: 50.96\n",
      "count : 55 | epoch : 2 batch: 2000 lr : 0.000603 wd: 0.000034, loss: 0.88 accuracy: 51.40\n",
      "count : 55 | epoch : 2 batch: 4000 lr : 0.000603 wd: 0.000034, loss: 0.88 accuracy: 51.57\n",
      "count : 55 | epoch : 2 batch: 6000 lr : 0.000603 wd: 0.000034, loss: 0.89 accuracy: 51.13\n",
      "count : 55 | epoch : 2 batch: 8000 lr : 0.000603 wd: 0.000034, loss: 0.89 accuracy: 51.93\n",
      "count : 55 | epoch : 2 batch: 10000 lr : 0.000603 wd: 0.000034, loss: 0.88 accuracy: 51.23\n",
      "count : 55 | epoch : 2 batch: 12000 lr : 0.000603 wd: 0.000034, loss: 0.90 accuracy: 51.49\n",
      "count : 56 | epoch : 1 batch: 2000 lr : 0.000053 wd: 0.000002, loss: 0.84 accuracy: 51.47\n",
      "count : 56 | epoch : 1 batch: 4000 lr : 0.000053 wd: 0.000002, loss: 0.84 accuracy: 51.65\n",
      "count : 56 | epoch : 1 batch: 6000 lr : 0.000053 wd: 0.000002, loss: 0.82 accuracy: 51.69\n",
      "count : 56 | epoch : 1 batch: 8000 lr : 0.000053 wd: 0.000002, loss: 0.83 accuracy: 51.65\n",
      "count : 56 | epoch : 1 batch: 10000 lr : 0.000053 wd: 0.000002, loss: 0.84 accuracy: 51.87\n",
      "count : 56 | epoch : 1 batch: 12000 lr : 0.000053 wd: 0.000002, loss: 0.84 accuracy: 51.68\n",
      "count : 56 | epoch : 2 batch: 2000 lr : 0.000053 wd: 0.000002, loss: 0.82 accuracy: 51.80\n",
      "count : 56 | epoch : 2 batch: 4000 lr : 0.000053 wd: 0.000002, loss: 0.81 accuracy: 51.83\n",
      "count : 56 | epoch : 2 batch: 6000 lr : 0.000053 wd: 0.000002, loss: 0.83 accuracy: 51.82\n",
      "count : 56 | epoch : 2 batch: 8000 lr : 0.000053 wd: 0.000002, loss: 0.83 accuracy: 51.88\n",
      "count : 56 | epoch : 2 batch: 10000 lr : 0.000053 wd: 0.000002, loss: 0.82 accuracy: 51.77\n",
      "count : 56 | epoch : 2 batch: 12000 lr : 0.000053 wd: 0.000002, loss: 0.83 accuracy: 51.84\n",
      "count : 57 | epoch : 1 batch: 2000 lr : 0.000014 wd: 0.000042, loss: 0.83 accuracy: 51.89\n",
      "count : 57 | epoch : 1 batch: 4000 lr : 0.000014 wd: 0.000042, loss: 0.82 accuracy: 51.92\n",
      "count : 57 | epoch : 1 batch: 6000 lr : 0.000014 wd: 0.000042, loss: 0.82 accuracy: 51.94\n",
      "count : 57 | epoch : 1 batch: 8000 lr : 0.000014 wd: 0.000042, loss: 0.81 accuracy: 51.88\n",
      "count : 57 | epoch : 1 batch: 10000 lr : 0.000014 wd: 0.000042, loss: 0.80 accuracy: 52.02\n",
      "count : 57 | epoch : 1 batch: 12000 lr : 0.000014 wd: 0.000042, loss: 0.82 accuracy: 51.94\n",
      "count : 57 | epoch : 2 batch: 2000 lr : 0.000014 wd: 0.000042, loss: 0.83 accuracy: 51.84\n",
      "count : 57 | epoch : 2 batch: 4000 lr : 0.000014 wd: 0.000042, loss: 0.80 accuracy: 51.92\n",
      "count : 57 | epoch : 2 batch: 6000 lr : 0.000014 wd: 0.000042, loss: 0.81 accuracy: 51.92\n",
      "count : 57 | epoch : 2 batch: 8000 lr : 0.000014 wd: 0.000042, loss: 0.82 accuracy: 51.89\n",
      "count : 57 | epoch : 2 batch: 10000 lr : 0.000014 wd: 0.000042, loss: 0.81 accuracy: 51.88\n",
      "count : 57 | epoch : 2 batch: 12000 lr : 0.000014 wd: 0.000042, loss: 0.83 accuracy: 51.96\n",
      "count : 58 | epoch : 1 batch: 2000 lr : 0.000016 wd: 0.000004, loss: 0.80 accuracy: 51.91\n",
      "count : 58 | epoch : 1 batch: 4000 lr : 0.000016 wd: 0.000004, loss: 0.82 accuracy: 51.77\n",
      "count : 58 | epoch : 1 batch: 6000 lr : 0.000016 wd: 0.000004, loss: 0.83 accuracy: 51.85\n",
      "count : 58 | epoch : 1 batch: 8000 lr : 0.000016 wd: 0.000004, loss: 0.82 accuracy: 51.81\n",
      "count : 58 | epoch : 1 batch: 10000 lr : 0.000016 wd: 0.000004, loss: 0.83 accuracy: 51.95\n",
      "count : 58 | epoch : 1 batch: 12000 lr : 0.000016 wd: 0.000004, loss: 0.81 accuracy: 51.99\n",
      "count : 58 | epoch : 2 batch: 2000 lr : 0.000016 wd: 0.000004, loss: 0.79 accuracy: 51.93\n",
      "count : 58 | epoch : 2 batch: 4000 lr : 0.000016 wd: 0.000004, loss: 0.81 accuracy: 51.87\n",
      "count : 58 | epoch : 2 batch: 6000 lr : 0.000016 wd: 0.000004, loss: 0.82 accuracy: 51.92\n",
      "count : 58 | epoch : 2 batch: 8000 lr : 0.000016 wd: 0.000004, loss: 0.82 accuracy: 51.90\n",
      "count : 58 | epoch : 2 batch: 10000 lr : 0.000016 wd: 0.000004, loss: 0.83 accuracy: 51.95\n",
      "count : 58 | epoch : 2 batch: 12000 lr : 0.000016 wd: 0.000004, loss: 0.82 accuracy: 51.86\n",
      "count : 59 | epoch : 1 batch: 2000 lr : 0.000699 wd: 0.000008, loss: 0.84 accuracy: 50.85\n",
      "count : 59 | epoch : 1 batch: 4000 lr : 0.000699 wd: 0.000008, loss: 0.88 accuracy: 51.40\n",
      "count : 59 | epoch : 1 batch: 6000 lr : 0.000699 wd: 0.000008, loss: 0.90 accuracy: 50.71\n",
      "count : 59 | epoch : 1 batch: 8000 lr : 0.000699 wd: 0.000008, loss: 0.90 accuracy: 51.28\n",
      "count : 59 | epoch : 1 batch: 10000 lr : 0.000699 wd: 0.000008, loss: 0.92 accuracy: 50.51\n",
      "count : 59 | epoch : 1 batch: 12000 lr : 0.000699 wd: 0.000008, loss: 0.89 accuracy: 50.99\n",
      "count : 59 | epoch : 2 batch: 2000 lr : 0.000699 wd: 0.000008, loss: 0.87 accuracy: 50.17\n",
      "count : 59 | epoch : 2 batch: 4000 lr : 0.000699 wd: 0.000008, loss: 0.87 accuracy: 51.14\n",
      "count : 59 | epoch : 2 batch: 6000 lr : 0.000699 wd: 0.000008, loss: 0.89 accuracy: 50.48\n",
      "count : 59 | epoch : 2 batch: 8000 lr : 0.000699 wd: 0.000008, loss: 0.89 accuracy: 51.59\n",
      "count : 59 | epoch : 2 batch: 10000 lr : 0.000699 wd: 0.000008, loss: 0.89 accuracy: 51.31\n",
      "count : 59 | epoch : 2 batch: 12000 lr : 0.000699 wd: 0.000008, loss: 0.90 accuracy: 50.69\n",
      "count : 60 | epoch : 1 batch: 2000 lr : 0.000013 wd: 0.000968, loss: 0.83 accuracy: 51.28\n",
      "count : 60 | epoch : 1 batch: 4000 lr : 0.000013 wd: 0.000968, loss: 0.83 accuracy: 51.28\n",
      "count : 60 | epoch : 1 batch: 6000 lr : 0.000013 wd: 0.000968, loss: 0.82 accuracy: 51.43\n",
      "count : 60 | epoch : 1 batch: 8000 lr : 0.000013 wd: 0.000968, loss: 0.83 accuracy: 51.46\n",
      "count : 60 | epoch : 1 batch: 10000 lr : 0.000013 wd: 0.000968, loss: 0.82 accuracy: 51.68\n",
      "count : 60 | epoch : 1 batch: 12000 lr : 0.000013 wd: 0.000968, loss: 0.82 accuracy: 51.79\n",
      "count : 60 | epoch : 2 batch: 2000 lr : 0.000013 wd: 0.000968, loss: 0.81 accuracy: 51.83\n",
      "count : 60 | epoch : 2 batch: 4000 lr : 0.000013 wd: 0.000968, loss: 0.82 accuracy: 51.91\n",
      "count : 60 | epoch : 2 batch: 6000 lr : 0.000013 wd: 0.000968, loss: 0.81 accuracy: 51.90\n",
      "count : 60 | epoch : 2 batch: 8000 lr : 0.000013 wd: 0.000968, loss: 0.80 accuracy: 51.77\n",
      "count : 60 | epoch : 2 batch: 10000 lr : 0.000013 wd: 0.000968, loss: 0.82 accuracy: 51.78\n",
      "count : 60 | epoch : 2 batch: 12000 lr : 0.000013 wd: 0.000968, loss: 0.80 accuracy: 51.79\n",
      "count : 61 | epoch : 1 batch: 2000 lr : 0.000027 wd: 0.000601, loss: 0.81 accuracy: 51.82\n"
     ]
    },
    {
     "name": "stdout",
     "output_type": "stream",
     "text": [
      "count : 61 | epoch : 1 batch: 4000 lr : 0.000027 wd: 0.000601, loss: 0.81 accuracy: 51.71\n",
      "count : 61 | epoch : 1 batch: 6000 lr : 0.000027 wd: 0.000601, loss: 0.81 accuracy: 51.81\n",
      "count : 61 | epoch : 1 batch: 8000 lr : 0.000027 wd: 0.000601, loss: 0.80 accuracy: 51.73\n",
      "count : 61 | epoch : 1 batch: 10000 lr : 0.000027 wd: 0.000601, loss: 0.79 accuracy: 51.79\n",
      "count : 61 | epoch : 1 batch: 12000 lr : 0.000027 wd: 0.000601, loss: 0.82 accuracy: 51.58\n",
      "count : 61 | epoch : 2 batch: 2000 lr : 0.000027 wd: 0.000601, loss: 0.82 accuracy: 51.70\n",
      "count : 61 | epoch : 2 batch: 4000 lr : 0.000027 wd: 0.000601, loss: 0.80 accuracy: 51.63\n",
      "count : 61 | epoch : 2 batch: 6000 lr : 0.000027 wd: 0.000601, loss: 0.81 accuracy: 51.81\n",
      "count : 61 | epoch : 2 batch: 8000 lr : 0.000027 wd: 0.000601, loss: 0.81 accuracy: 51.56\n",
      "count : 61 | epoch : 2 batch: 10000 lr : 0.000027 wd: 0.000601, loss: 0.79 accuracy: 51.70\n",
      "count : 61 | epoch : 2 batch: 12000 lr : 0.000027 wd: 0.000601, loss: 0.79 accuracy: 51.75\n",
      "count : 62 | epoch : 1 batch: 2000 lr : 0.000560 wd: 0.000011, loss: 0.84 accuracy: 51.56\n",
      "count : 62 | epoch : 1 batch: 4000 lr : 0.000560 wd: 0.000011, loss: 0.86 accuracy: 51.07\n",
      "count : 62 | epoch : 1 batch: 6000 lr : 0.000560 wd: 0.000011, loss: 0.86 accuracy: 51.53\n",
      "count : 62 | epoch : 1 batch: 8000 lr : 0.000560 wd: 0.000011, loss: 0.86 accuracy: 51.01\n",
      "count : 62 | epoch : 1 batch: 10000 lr : 0.000560 wd: 0.000011, loss: 0.87 accuracy: 51.34\n",
      "count : 62 | epoch : 1 batch: 12000 lr : 0.000560 wd: 0.000011, loss: 0.86 accuracy: 51.12\n",
      "count : 62 | epoch : 2 batch: 2000 lr : 0.000560 wd: 0.000011, loss: 0.84 accuracy: 51.40\n",
      "count : 62 | epoch : 2 batch: 4000 lr : 0.000560 wd: 0.000011, loss: 0.84 accuracy: 51.33\n",
      "count : 62 | epoch : 2 batch: 6000 lr : 0.000560 wd: 0.000011, loss: 0.86 accuracy: 51.29\n",
      "count : 62 | epoch : 2 batch: 8000 lr : 0.000560 wd: 0.000011, loss: 0.85 accuracy: 51.30\n",
      "count : 62 | epoch : 2 batch: 10000 lr : 0.000560 wd: 0.000011, loss: 0.85 accuracy: 50.62\n",
      "count : 62 | epoch : 2 batch: 12000 lr : 0.000560 wd: 0.000011, loss: 0.88 accuracy: 51.11\n",
      "count : 63 | epoch : 1 batch: 2000 lr : 0.000020 wd: 0.000061, loss: 0.80 accuracy: 51.41\n",
      "count : 63 | epoch : 1 batch: 4000 lr : 0.000020 wd: 0.000061, loss: 0.80 accuracy: 51.50\n",
      "count : 63 | epoch : 1 batch: 6000 lr : 0.000020 wd: 0.000061, loss: 0.80 accuracy: 51.39\n",
      "count : 63 | epoch : 1 batch: 8000 lr : 0.000020 wd: 0.000061, loss: 0.80 accuracy: 51.41\n",
      "count : 63 | epoch : 1 batch: 10000 lr : 0.000020 wd: 0.000061, loss: 0.80 accuracy: 51.36\n",
      "count : 63 | epoch : 1 batch: 12000 lr : 0.000020 wd: 0.000061, loss: 0.79 accuracy: 51.51\n",
      "count : 63 | epoch : 2 batch: 2000 lr : 0.000020 wd: 0.000061, loss: 0.80 accuracy: 51.46\n",
      "count : 63 | epoch : 2 batch: 4000 lr : 0.000020 wd: 0.000061, loss: 0.79 accuracy: 51.46\n",
      "count : 63 | epoch : 2 batch: 6000 lr : 0.000020 wd: 0.000061, loss: 0.80 accuracy: 51.48\n",
      "count : 63 | epoch : 2 batch: 8000 lr : 0.000020 wd: 0.000061, loss: 0.79 accuracy: 51.46\n",
      "count : 63 | epoch : 2 batch: 10000 lr : 0.000020 wd: 0.000061, loss: 0.79 accuracy: 51.66\n",
      "count : 63 | epoch : 2 batch: 12000 lr : 0.000020 wd: 0.000061, loss: 0.79 accuracy: 51.56\n",
      "count : 64 | epoch : 1 batch: 2000 lr : 0.000496 wd: 0.000002, loss: 0.80 accuracy: 50.94\n",
      "count : 64 | epoch : 1 batch: 4000 lr : 0.000496 wd: 0.000002, loss: 0.83 accuracy: 50.50\n",
      "count : 64 | epoch : 1 batch: 6000 lr : 0.000496 wd: 0.000002, loss: 0.85 accuracy: 51.34\n",
      "count : 64 | epoch : 1 batch: 8000 lr : 0.000496 wd: 0.000002, loss: 0.83 accuracy: 50.83\n",
      "count : 64 | epoch : 1 batch: 10000 lr : 0.000496 wd: 0.000002, loss: 0.86 accuracy: 51.16\n",
      "count : 64 | epoch : 1 batch: 12000 lr : 0.000496 wd: 0.000002, loss: 0.85 accuracy: 51.47\n",
      "count : 64 | epoch : 2 batch: 2000 lr : 0.000496 wd: 0.000002, loss: 0.82 accuracy: 51.14\n",
      "count : 64 | epoch : 2 batch: 4000 lr : 0.000496 wd: 0.000002, loss: 0.82 accuracy: 50.94\n",
      "count : 64 | epoch : 2 batch: 6000 lr : 0.000496 wd: 0.000002, loss: 0.82 accuracy: 51.48\n",
      "count : 64 | epoch : 2 batch: 8000 lr : 0.000496 wd: 0.000002, loss: 0.83 accuracy: 50.89\n",
      "count : 64 | epoch : 2 batch: 10000 lr : 0.000496 wd: 0.000002, loss: 0.84 accuracy: 50.74\n",
      "count : 64 | epoch : 2 batch: 12000 lr : 0.000496 wd: 0.000002, loss: 0.85 accuracy: 50.90\n",
      "count : 65 | epoch : 1 batch: 2000 lr : 0.000217 wd: 0.000016, loss: 0.79 accuracy: 51.24\n",
      "count : 65 | epoch : 1 batch: 4000 lr : 0.000217 wd: 0.000016, loss: 0.79 accuracy: 51.17\n",
      "count : 65 | epoch : 1 batch: 6000 lr : 0.000217 wd: 0.000016, loss: 0.81 accuracy: 51.17\n",
      "count : 65 | epoch : 1 batch: 8000 lr : 0.000217 wd: 0.000016, loss: 0.77 accuracy: 51.69\n",
      "count : 65 | epoch : 1 batch: 10000 lr : 0.000217 wd: 0.000016, loss: 0.81 accuracy: 51.35\n",
      "count : 65 | epoch : 1 batch: 12000 lr : 0.000217 wd: 0.000016, loss: 0.80 accuracy: 51.12\n",
      "count : 65 | epoch : 2 batch: 2000 lr : 0.000217 wd: 0.000016, loss: 0.78 accuracy: 51.29\n",
      "count : 65 | epoch : 2 batch: 4000 lr : 0.000217 wd: 0.000016, loss: 0.78 accuracy: 51.02\n",
      "count : 65 | epoch : 2 batch: 6000 lr : 0.000217 wd: 0.000016, loss: 0.80 accuracy: 51.59\n",
      "count : 65 | epoch : 2 batch: 8000 lr : 0.000217 wd: 0.000016, loss: 0.80 accuracy: 51.44\n",
      "count : 65 | epoch : 2 batch: 10000 lr : 0.000217 wd: 0.000016, loss: 0.80 accuracy: 51.64\n",
      "count : 65 | epoch : 2 batch: 12000 lr : 0.000217 wd: 0.000016, loss: 0.80 accuracy: 50.90\n",
      "count : 66 | epoch : 1 batch: 2000 lr : 0.000043 wd: 0.000012, loss: 0.77 accuracy: 51.41\n",
      "count : 66 | epoch : 1 batch: 4000 lr : 0.000043 wd: 0.000012, loss: 0.76 accuracy: 51.32\n",
      "count : 66 | epoch : 1 batch: 6000 lr : 0.000043 wd: 0.000012, loss: 0.76 accuracy: 51.47\n",
      "count : 66 | epoch : 1 batch: 8000 lr : 0.000043 wd: 0.000012, loss: 0.80 accuracy: 51.60\n",
      "count : 66 | epoch : 1 batch: 10000 lr : 0.000043 wd: 0.000012, loss: 0.77 accuracy: 51.53\n",
      "count : 66 | epoch : 1 batch: 12000 lr : 0.000043 wd: 0.000012, loss: 0.78 accuracy: 51.73\n",
      "count : 66 | epoch : 2 batch: 2000 lr : 0.000043 wd: 0.000012, loss: 0.76 accuracy: 51.51\n",
      "count : 66 | epoch : 2 batch: 4000 lr : 0.000043 wd: 0.000012, loss: 0.76 accuracy: 51.55\n",
      "count : 66 | epoch : 2 batch: 6000 lr : 0.000043 wd: 0.000012, loss: 0.76 accuracy: 51.63\n",
      "count : 66 | epoch : 2 batch: 8000 lr : 0.000043 wd: 0.000012, loss: 0.77 accuracy: 51.49\n",
      "count : 66 | epoch : 2 batch: 10000 lr : 0.000043 wd: 0.000012, loss: 0.78 accuracy: 51.58\n",
      "count : 66 | epoch : 2 batch: 12000 lr : 0.000043 wd: 0.000012, loss: 0.78 accuracy: 51.54\n",
      "count : 67 | epoch : 1 batch: 2000 lr : 0.000156 wd: 0.000005, loss: 0.76 accuracy: 51.70\n",
      "count : 67 | epoch : 1 batch: 4000 lr : 0.000156 wd: 0.000005, loss: 0.77 accuracy: 51.43\n",
      "count : 67 | epoch : 1 batch: 6000 lr : 0.000156 wd: 0.000005, loss: 0.77 accuracy: 51.32\n",
      "count : 67 | epoch : 1 batch: 8000 lr : 0.000156 wd: 0.000005, loss: 0.78 accuracy: 51.27\n",
      "count : 67 | epoch : 1 batch: 10000 lr : 0.000156 wd: 0.000005, loss: 0.80 accuracy: 51.32\n",
      "count : 67 | epoch : 1 batch: 12000 lr : 0.000156 wd: 0.000005, loss: 0.80 accuracy: 51.38\n",
      "count : 67 | epoch : 2 batch: 2000 lr : 0.000156 wd: 0.000005, loss: 0.76 accuracy: 51.08\n",
      "count : 67 | epoch : 2 batch: 4000 lr : 0.000156 wd: 0.000005, loss: 0.76 accuracy: 51.70\n",
      "count : 67 | epoch : 2 batch: 6000 lr : 0.000156 wd: 0.000005, loss: 0.78 accuracy: 51.06\n",
      "count : 67 | epoch : 2 batch: 8000 lr : 0.000156 wd: 0.000005, loss: 0.80 accuracy: 51.17\n",
      "count : 67 | epoch : 2 batch: 10000 lr : 0.000156 wd: 0.000005, loss: 0.78 accuracy: 51.18\n",
      "count : 67 | epoch : 2 batch: 12000 lr : 0.000156 wd: 0.000005, loss: 0.79 accuracy: 51.42\n",
      "count : 68 | epoch : 1 batch: 2000 lr : 0.000878 wd: 0.000198, loss: 0.83 accuracy: 50.68\n",
      "count : 68 | epoch : 1 batch: 4000 lr : 0.000878 wd: 0.000198, loss: 0.87 accuracy: 50.60\n",
      "count : 68 | epoch : 1 batch: 6000 lr : 0.000878 wd: 0.000198, loss: 0.86 accuracy: 50.29\n",
      "count : 68 | epoch : 1 batch: 8000 lr : 0.000878 wd: 0.000198, loss: 0.88 accuracy: 50.15\n",
      "count : 68 | epoch : 1 batch: 10000 lr : 0.000878 wd: 0.000198, loss: 0.86 accuracy: 50.04\n",
      "count : 68 | epoch : 1 batch: 12000 lr : 0.000878 wd: 0.000198, loss: 0.88 accuracy: 50.93\n",
      "count : 68 | epoch : 2 batch: 2000 lr : 0.000878 wd: 0.000198, loss: 0.85 accuracy: 51.19\n",
      "count : 68 | epoch : 2 batch: 4000 lr : 0.000878 wd: 0.000198, loss: 0.85 accuracy: 50.37\n",
      "count : 68 | epoch : 2 batch: 6000 lr : 0.000878 wd: 0.000198, loss: 0.87 accuracy: 50.88\n",
      "count : 68 | epoch : 2 batch: 8000 lr : 0.000878 wd: 0.000198, loss: 0.85 accuracy: 50.40\n",
      "count : 68 | epoch : 2 batch: 10000 lr : 0.000878 wd: 0.000198, loss: 0.87 accuracy: 49.61\n",
      "count : 68 | epoch : 2 batch: 12000 lr : 0.000878 wd: 0.000198, loss: 0.88 accuracy: 50.87\n",
      "count : 69 | epoch : 1 batch: 2000 lr : 0.000184 wd: 0.000002, loss: 0.78 accuracy: 51.52\n",
      "count : 69 | epoch : 1 batch: 4000 lr : 0.000184 wd: 0.000002, loss: 0.76 accuracy: 51.31\n",
      "count : 69 | epoch : 1 batch: 6000 lr : 0.000184 wd: 0.000002, loss: 0.76 accuracy: 51.40\n",
      "count : 69 | epoch : 1 batch: 8000 lr : 0.000184 wd: 0.000002, loss: 0.78 accuracy: 51.16\n",
      "count : 69 | epoch : 1 batch: 10000 lr : 0.000184 wd: 0.000002, loss: 0.79 accuracy: 51.04\n",
      "count : 69 | epoch : 1 batch: 12000 lr : 0.000184 wd: 0.000002, loss: 0.76 accuracy: 51.32\n",
      "count : 69 | epoch : 2 batch: 2000 lr : 0.000184 wd: 0.000002, loss: 0.76 accuracy: 51.32\n",
      "count : 69 | epoch : 2 batch: 4000 lr : 0.000184 wd: 0.000002, loss: 0.76 accuracy: 51.47\n",
      "count : 69 | epoch : 2 batch: 6000 lr : 0.000184 wd: 0.000002, loss: 0.76 accuracy: 51.74\n",
      "count : 69 | epoch : 2 batch: 8000 lr : 0.000184 wd: 0.000002, loss: 0.78 accuracy: 51.65\n",
      "count : 69 | epoch : 2 batch: 10000 lr : 0.000184 wd: 0.000002, loss: 0.75 accuracy: 51.34\n",
      "count : 69 | epoch : 2 batch: 12000 lr : 0.000184 wd: 0.000002, loss: 0.77 accuracy: 51.30\n",
      "count : 70 | epoch : 1 batch: 2000 lr : 0.000057 wd: 0.000001, loss: 0.73 accuracy: 51.27\n",
      "count : 70 | epoch : 1 batch: 4000 lr : 0.000057 wd: 0.000001, loss: 0.74 accuracy: 51.37\n",
      "count : 70 | epoch : 1 batch: 6000 lr : 0.000057 wd: 0.000001, loss: 0.75 accuracy: 51.11\n",
      "count : 70 | epoch : 1 batch: 8000 lr : 0.000057 wd: 0.000001, loss: 0.76 accuracy: 51.28\n",
      "count : 70 | epoch : 1 batch: 10000 lr : 0.000057 wd: 0.000001, loss: 0.75 accuracy: 51.11\n",
      "count : 70 | epoch : 1 batch: 12000 lr : 0.000057 wd: 0.000001, loss: 0.74 accuracy: 51.34\n",
      "count : 70 | epoch : 2 batch: 2000 lr : 0.000057 wd: 0.000001, loss: 0.75 accuracy: 51.21\n",
      "count : 70 | epoch : 2 batch: 4000 lr : 0.000057 wd: 0.000001, loss: 0.74 accuracy: 51.26\n",
      "count : 70 | epoch : 2 batch: 6000 lr : 0.000057 wd: 0.000001, loss: 0.74 accuracy: 51.06\n",
      "count : 70 | epoch : 2 batch: 8000 lr : 0.000057 wd: 0.000001, loss: 0.76 accuracy: 51.13\n",
      "count : 70 | epoch : 2 batch: 10000 lr : 0.000057 wd: 0.000001, loss: 0.73 accuracy: 51.40\n",
      "count : 70 | epoch : 2 batch: 12000 lr : 0.000057 wd: 0.000001, loss: 0.74 accuracy: 51.42\n",
      "count : 71 | epoch : 1 batch: 2000 lr : 0.000024 wd: 0.000003, loss: 0.75 accuracy: 51.21\n",
      "count : 71 | epoch : 1 batch: 4000 lr : 0.000024 wd: 0.000003, loss: 0.74 accuracy: 51.34\n",
      "count : 71 | epoch : 1 batch: 6000 lr : 0.000024 wd: 0.000003, loss: 0.73 accuracy: 51.27\n",
      "count : 71 | epoch : 1 batch: 8000 lr : 0.000024 wd: 0.000003, loss: 0.74 accuracy: 51.33\n",
      "count : 71 | epoch : 1 batch: 10000 lr : 0.000024 wd: 0.000003, loss: 0.75 accuracy: 51.26\n",
      "count : 71 | epoch : 1 batch: 12000 lr : 0.000024 wd: 0.000003, loss: 0.74 accuracy: 51.29\n",
      "count : 71 | epoch : 2 batch: 2000 lr : 0.000024 wd: 0.000003, loss: 0.74 accuracy: 51.36\n",
      "count : 71 | epoch : 2 batch: 4000 lr : 0.000024 wd: 0.000003, loss: 0.74 accuracy: 51.49\n",
      "count : 71 | epoch : 2 batch: 6000 lr : 0.000024 wd: 0.000003, loss: 0.75 accuracy: 51.43\n",
      "count : 71 | epoch : 2 batch: 8000 lr : 0.000024 wd: 0.000003, loss: 0.74 accuracy: 51.23\n",
      "count : 71 | epoch : 2 batch: 10000 lr : 0.000024 wd: 0.000003, loss: 0.72 accuracy: 51.26\n",
      "count : 71 | epoch : 2 batch: 12000 lr : 0.000024 wd: 0.000003, loss: 0.74 accuracy: 51.48\n",
      "count : 72 | epoch : 1 batch: 2000 lr : 0.000016 wd: 0.000030, loss: 0.73 accuracy: 51.32\n",
      "count : 72 | epoch : 1 batch: 4000 lr : 0.000016 wd: 0.000030, loss: 0.74 accuracy: 51.31\n",
      "count : 72 | epoch : 1 batch: 6000 lr : 0.000016 wd: 0.000030, loss: 0.73 accuracy: 51.30\n",
      "count : 72 | epoch : 1 batch: 8000 lr : 0.000016 wd: 0.000030, loss: 0.74 accuracy: 51.38\n",
      "count : 72 | epoch : 1 batch: 10000 lr : 0.000016 wd: 0.000030, loss: 0.73 accuracy: 51.27\n",
      "count : 72 | epoch : 1 batch: 12000 lr : 0.000016 wd: 0.000030, loss: 0.75 accuracy: 51.37\n",
      "count : 72 | epoch : 2 batch: 2000 lr : 0.000016 wd: 0.000030, loss: 0.73 accuracy: 51.23\n",
      "count : 72 | epoch : 2 batch: 4000 lr : 0.000016 wd: 0.000030, loss: 0.75 accuracy: 51.29\n",
      "count : 72 | epoch : 2 batch: 6000 lr : 0.000016 wd: 0.000030, loss: 0.75 accuracy: 51.34\n",
      "count : 72 | epoch : 2 batch: 8000 lr : 0.000016 wd: 0.000030, loss: 0.72 accuracy: 51.23\n",
      "count : 72 | epoch : 2 batch: 10000 lr : 0.000016 wd: 0.000030, loss: 0.74 accuracy: 51.33\n",
      "count : 72 | epoch : 2 batch: 12000 lr : 0.000016 wd: 0.000030, loss: 0.73 accuracy: 51.24\n",
      "count : 73 | epoch : 1 batch: 2000 lr : 0.000029 wd: 0.000002, loss: 0.73 accuracy: 51.29\n",
      "count : 73 | epoch : 1 batch: 4000 lr : 0.000029 wd: 0.000002, loss: 0.74 accuracy: 51.23\n",
      "count : 73 | epoch : 1 batch: 6000 lr : 0.000029 wd: 0.000002, loss: 0.76 accuracy: 51.25\n",
      "count : 73 | epoch : 1 batch: 8000 lr : 0.000029 wd: 0.000002, loss: 0.73 accuracy: 51.31\n",
      "count : 73 | epoch : 1 batch: 10000 lr : 0.000029 wd: 0.000002, loss: 0.73 accuracy: 51.37\n",
      "count : 73 | epoch : 1 batch: 12000 lr : 0.000029 wd: 0.000002, loss: 0.74 accuracy: 51.26\n",
      "count : 73 | epoch : 2 batch: 2000 lr : 0.000029 wd: 0.000002, loss: 0.74 accuracy: 51.29\n",
      "count : 73 | epoch : 2 batch: 4000 lr : 0.000029 wd: 0.000002, loss: 0.73 accuracy: 51.21\n",
      "count : 73 | epoch : 2 batch: 6000 lr : 0.000029 wd: 0.000002, loss: 0.74 accuracy: 51.26\n",
      "count : 73 | epoch : 2 batch: 8000 lr : 0.000029 wd: 0.000002, loss: 0.73 accuracy: 51.24\n",
      "count : 73 | epoch : 2 batch: 10000 lr : 0.000029 wd: 0.000002, loss: 0.74 accuracy: 51.35\n",
      "count : 73 | epoch : 2 batch: 12000 lr : 0.000029 wd: 0.000002, loss: 0.74 accuracy: 51.20\n",
      "count : 74 | epoch : 1 batch: 2000 lr : 0.000042 wd: 0.000500, loss: 0.74 accuracy: 51.37\n",
      "count : 74 | epoch : 1 batch: 4000 lr : 0.000042 wd: 0.000500, loss: 0.74 accuracy: 51.38\n",
      "count : 74 | epoch : 1 batch: 6000 lr : 0.000042 wd: 0.000500, loss: 0.76 accuracy: 51.40\n",
      "count : 74 | epoch : 1 batch: 8000 lr : 0.000042 wd: 0.000500, loss: 0.73 accuracy: 51.25\n",
      "count : 74 | epoch : 1 batch: 10000 lr : 0.000042 wd: 0.000500, loss: 0.73 accuracy: 51.25\n",
      "count : 74 | epoch : 1 batch: 12000 lr : 0.000042 wd: 0.000500, loss: 0.74 accuracy: 51.20\n",
      "count : 74 | epoch : 2 batch: 2000 lr : 0.000042 wd: 0.000500, loss: 0.74 accuracy: 51.32\n",
      "count : 74 | epoch : 2 batch: 4000 lr : 0.000042 wd: 0.000500, loss: 0.75 accuracy: 51.25\n",
      "count : 74 | epoch : 2 batch: 6000 lr : 0.000042 wd: 0.000500, loss: 0.73 accuracy: 51.36\n",
      "count : 74 | epoch : 2 batch: 8000 lr : 0.000042 wd: 0.000500, loss: 0.74 accuracy: 51.54\n",
      "count : 74 | epoch : 2 batch: 10000 lr : 0.000042 wd: 0.000500, loss: 0.73 accuracy: 51.31\n",
      "count : 74 | epoch : 2 batch: 12000 lr : 0.000042 wd: 0.000500, loss: 0.75 accuracy: 51.28\n",
      "count : 75 | epoch : 1 batch: 2000 lr : 0.000340 wd: 0.000091, loss: 0.75 accuracy: 50.93\n",
      "count : 75 | epoch : 1 batch: 4000 lr : 0.000340 wd: 0.000091, loss: 0.78 accuracy: 51.01\n",
      "count : 75 | epoch : 1 batch: 6000 lr : 0.000340 wd: 0.000091, loss: 0.78 accuracy: 51.49\n",
      "count : 75 | epoch : 1 batch: 8000 lr : 0.000340 wd: 0.000091, loss: 0.77 accuracy: 51.06\n",
      "count : 75 | epoch : 1 batch: 10000 lr : 0.000340 wd: 0.000091, loss: 0.77 accuracy: 51.21\n",
      "count : 75 | epoch : 1 batch: 12000 lr : 0.000340 wd: 0.000091, loss: 0.80 accuracy: 51.10\n",
      "count : 75 | epoch : 2 batch: 2000 lr : 0.000340 wd: 0.000091, loss: 0.75 accuracy: 51.33\n",
      "count : 75 | epoch : 2 batch: 4000 lr : 0.000340 wd: 0.000091, loss: 0.76 accuracy: 51.08\n",
      "count : 75 | epoch : 2 batch: 6000 lr : 0.000340 wd: 0.000091, loss: 0.76 accuracy: 51.01\n",
      "count : 75 | epoch : 2 batch: 8000 lr : 0.000340 wd: 0.000091, loss: 0.75 accuracy: 51.04\n",
      "count : 75 | epoch : 2 batch: 10000 lr : 0.000340 wd: 0.000091, loss: 0.80 accuracy: 51.18\n",
      "count : 75 | epoch : 2 batch: 12000 lr : 0.000340 wd: 0.000091, loss: 0.79 accuracy: 51.30\n",
      "count : 76 | epoch : 1 batch: 2000 lr : 0.000026 wd: 0.000202, loss: 0.73 accuracy: 51.65\n"
     ]
    },
    {
     "name": "stdout",
     "output_type": "stream",
     "text": [
      "count : 76 | epoch : 1 batch: 4000 lr : 0.000026 wd: 0.000202, loss: 0.72 accuracy: 51.29\n",
      "count : 76 | epoch : 1 batch: 6000 lr : 0.000026 wd: 0.000202, loss: 0.74 accuracy: 51.41\n",
      "count : 76 | epoch : 1 batch: 8000 lr : 0.000026 wd: 0.000202, loss: 0.74 accuracy: 51.40\n",
      "count : 76 | epoch : 1 batch: 10000 lr : 0.000026 wd: 0.000202, loss: 0.74 accuracy: 51.49\n",
      "count : 76 | epoch : 1 batch: 12000 lr : 0.000026 wd: 0.000202, loss: 0.73 accuracy: 51.38\n",
      "count : 76 | epoch : 2 batch: 2000 lr : 0.000026 wd: 0.000202, loss: 0.74 accuracy: 51.29\n",
      "count : 76 | epoch : 2 batch: 4000 lr : 0.000026 wd: 0.000202, loss: 0.73 accuracy: 51.46\n",
      "count : 76 | epoch : 2 batch: 6000 lr : 0.000026 wd: 0.000202, loss: 0.72 accuracy: 51.50\n",
      "count : 76 | epoch : 2 batch: 8000 lr : 0.000026 wd: 0.000202, loss: 0.72 accuracy: 51.49\n",
      "count : 76 | epoch : 2 batch: 10000 lr : 0.000026 wd: 0.000202, loss: 0.75 accuracy: 51.39\n",
      "count : 76 | epoch : 2 batch: 12000 lr : 0.000026 wd: 0.000202, loss: 0.73 accuracy: 51.29\n",
      "count : 77 | epoch : 1 batch: 2000 lr : 0.000433 wd: 0.000006, loss: 0.76 accuracy: 51.14\n",
      "count : 77 | epoch : 1 batch: 4000 lr : 0.000433 wd: 0.000006, loss: 0.77 accuracy: 50.93\n",
      "count : 77 | epoch : 1 batch: 6000 lr : 0.000433 wd: 0.000006, loss: 0.78 accuracy: 50.80\n",
      "count : 77 | epoch : 1 batch: 8000 lr : 0.000433 wd: 0.000006, loss: 0.77 accuracy: 50.68\n",
      "count : 77 | epoch : 1 batch: 10000 lr : 0.000433 wd: 0.000006, loss: 0.79 accuracy: 50.93\n",
      "count : 77 | epoch : 1 batch: 12000 lr : 0.000433 wd: 0.000006, loss: 0.79 accuracy: 50.70\n",
      "count : 77 | epoch : 2 batch: 2000 lr : 0.000433 wd: 0.000006, loss: 0.76 accuracy: 50.89\n",
      "count : 77 | epoch : 2 batch: 4000 lr : 0.000433 wd: 0.000006, loss: 0.76 accuracy: 51.10\n",
      "count : 77 | epoch : 2 batch: 6000 lr : 0.000433 wd: 0.000006, loss: 0.77 accuracy: 51.08\n",
      "count : 77 | epoch : 2 batch: 8000 lr : 0.000433 wd: 0.000006, loss: 0.77 accuracy: 50.95\n",
      "count : 77 | epoch : 2 batch: 10000 lr : 0.000433 wd: 0.000006, loss: 0.78 accuracy: 50.89\n",
      "count : 77 | epoch : 2 batch: 12000 lr : 0.000433 wd: 0.000006, loss: 0.79 accuracy: 50.96\n",
      "count : 78 | epoch : 1 batch: 2000 lr : 0.000073 wd: 0.000138, loss: 0.73 accuracy: 51.18\n",
      "count : 78 | epoch : 1 batch: 4000 lr : 0.000073 wd: 0.000138, loss: 0.72 accuracy: 51.18\n",
      "count : 78 | epoch : 1 batch: 6000 lr : 0.000073 wd: 0.000138, loss: 0.74 accuracy: 51.27\n",
      "count : 78 | epoch : 1 batch: 8000 lr : 0.000073 wd: 0.000138, loss: 0.71 accuracy: 51.06\n",
      "count : 78 | epoch : 1 batch: 10000 lr : 0.000073 wd: 0.000138, loss: 0.74 accuracy: 51.14\n",
      "count : 78 | epoch : 1 batch: 12000 lr : 0.000073 wd: 0.000138, loss: 0.72 accuracy: 51.08\n",
      "count : 78 | epoch : 2 batch: 2000 lr : 0.000073 wd: 0.000138, loss: 0.74 accuracy: 51.44\n",
      "count : 78 | epoch : 2 batch: 4000 lr : 0.000073 wd: 0.000138, loss: 0.72 accuracy: 51.30\n",
      "count : 78 | epoch : 2 batch: 6000 lr : 0.000073 wd: 0.000138, loss: 0.71 accuracy: 51.43\n",
      "count : 78 | epoch : 2 batch: 8000 lr : 0.000073 wd: 0.000138, loss: 0.73 accuracy: 50.95\n",
      "count : 78 | epoch : 2 batch: 10000 lr : 0.000073 wd: 0.000138, loss: 0.72 accuracy: 51.19\n",
      "count : 78 | epoch : 2 batch: 12000 lr : 0.000073 wd: 0.000138, loss: 0.72 accuracy: 51.16\n",
      "count : 79 | epoch : 1 batch: 2000 lr : 0.000573 wd: 0.000022, loss: 0.75 accuracy: 50.47\n",
      "count : 79 | epoch : 1 batch: 4000 lr : 0.000573 wd: 0.000022, loss: 0.77 accuracy: 50.36\n",
      "count : 79 | epoch : 1 batch: 6000 lr : 0.000573 wd: 0.000022, loss: 0.79 accuracy: 51.00\n",
      "count : 79 | epoch : 1 batch: 8000 lr : 0.000573 wd: 0.000022, loss: 0.78 accuracy: 50.77\n",
      "count : 79 | epoch : 1 batch: 10000 lr : 0.000573 wd: 0.000022, loss: 0.79 accuracy: 51.28\n",
      "count : 79 | epoch : 1 batch: 12000 lr : 0.000573 wd: 0.000022, loss: 0.80 accuracy: 50.75\n",
      "count : 79 | epoch : 2 batch: 2000 lr : 0.000573 wd: 0.000022, loss: 0.75 accuracy: 50.87\n",
      "count : 79 | epoch : 2 batch: 4000 lr : 0.000573 wd: 0.000022, loss: 0.77 accuracy: 50.76\n",
      "count : 79 | epoch : 2 batch: 6000 lr : 0.000573 wd: 0.000022, loss: 0.78 accuracy: 50.36\n",
      "count : 79 | epoch : 2 batch: 8000 lr : 0.000573 wd: 0.000022, loss: 0.79 accuracy: 50.68\n",
      "count : 79 | epoch : 2 batch: 10000 lr : 0.000573 wd: 0.000022, loss: 0.78 accuracy: 50.58\n",
      "count : 79 | epoch : 2 batch: 12000 lr : 0.000573 wd: 0.000022, loss: 0.79 accuracy: 50.56\n",
      "count : 80 | epoch : 1 batch: 2000 lr : 0.000772 wd: 0.000684, loss: 0.75 accuracy: 50.57\n",
      "count : 80 | epoch : 1 batch: 4000 lr : 0.000772 wd: 0.000684, loss: 0.79 accuracy: 50.52\n",
      "count : 80 | epoch : 1 batch: 6000 lr : 0.000772 wd: 0.000684, loss: 0.81 accuracy: 50.31\n",
      "count : 80 | epoch : 1 batch: 8000 lr : 0.000772 wd: 0.000684, loss: 0.81 accuracy: 50.33\n",
      "count : 80 | epoch : 1 batch: 10000 lr : 0.000772 wd: 0.000684, loss: 0.81 accuracy: 50.60\n",
      "count : 80 | epoch : 1 batch: 12000 lr : 0.000772 wd: 0.000684, loss: 0.82 accuracy: 50.56\n",
      "count : 80 | epoch : 2 batch: 2000 lr : 0.000772 wd: 0.000684, loss: 0.77 accuracy: 50.66\n",
      "count : 80 | epoch : 2 batch: 4000 lr : 0.000772 wd: 0.000684, loss: 0.79 accuracy: 50.02\n",
      "count : 80 | epoch : 2 batch: 6000 lr : 0.000772 wd: 0.000684, loss: 0.79 accuracy: 50.68\n",
      "count : 80 | epoch : 2 batch: 8000 lr : 0.000772 wd: 0.000684, loss: 0.82 accuracy: 50.74\n",
      "count : 80 | epoch : 2 batch: 10000 lr : 0.000772 wd: 0.000684, loss: 0.80 accuracy: 50.32\n",
      "count : 80 | epoch : 2 batch: 12000 lr : 0.000772 wd: 0.000684, loss: 0.81 accuracy: 50.15\n",
      "count : 81 | epoch : 1 batch: 2000 lr : 0.000142 wd: 0.000007, loss: 0.72 accuracy: 51.28\n",
      "count : 81 | epoch : 1 batch: 4000 lr : 0.000142 wd: 0.000007, loss: 0.71 accuracy: 51.24\n",
      "count : 81 | epoch : 1 batch: 6000 lr : 0.000142 wd: 0.000007, loss: 0.72 accuracy: 51.15\n",
      "count : 81 | epoch : 1 batch: 8000 lr : 0.000142 wd: 0.000007, loss: 0.72 accuracy: 51.01\n",
      "count : 81 | epoch : 1 batch: 10000 lr : 0.000142 wd: 0.000007, loss: 0.71 accuracy: 50.99\n",
      "count : 81 | epoch : 1 batch: 12000 lr : 0.000142 wd: 0.000007, loss: 0.72 accuracy: 51.03\n",
      "count : 81 | epoch : 2 batch: 2000 lr : 0.000142 wd: 0.000007, loss: 0.69 accuracy: 51.24\n",
      "count : 81 | epoch : 2 batch: 4000 lr : 0.000142 wd: 0.000007, loss: 0.71 accuracy: 51.03\n",
      "count : 81 | epoch : 2 batch: 6000 lr : 0.000142 wd: 0.000007, loss: 0.71 accuracy: 51.03\n",
      "count : 81 | epoch : 2 batch: 8000 lr : 0.000142 wd: 0.000007, loss: 0.72 accuracy: 51.16\n",
      "count : 81 | epoch : 2 batch: 10000 lr : 0.000142 wd: 0.000007, loss: 0.71 accuracy: 51.10\n",
      "count : 81 | epoch : 2 batch: 12000 lr : 0.000142 wd: 0.000007, loss: 0.70 accuracy: 50.87\n",
      "count : 82 | epoch : 1 batch: 2000 lr : 0.000098 wd: 0.000297, loss: 0.69 accuracy: 51.02\n",
      "count : 82 | epoch : 1 batch: 4000 lr : 0.000098 wd: 0.000297, loss: 0.71 accuracy: 50.76\n",
      "count : 82 | epoch : 1 batch: 6000 lr : 0.000098 wd: 0.000297, loss: 0.69 accuracy: 50.82\n",
      "count : 82 | epoch : 1 batch: 8000 lr : 0.000098 wd: 0.000297, loss: 0.70 accuracy: 51.03\n",
      "count : 82 | epoch : 1 batch: 10000 lr : 0.000098 wd: 0.000297, loss: 0.70 accuracy: 50.95\n",
      "count : 82 | epoch : 1 batch: 12000 lr : 0.000098 wd: 0.000297, loss: 0.71 accuracy: 50.88\n",
      "count : 82 | epoch : 2 batch: 2000 lr : 0.000098 wd: 0.000297, loss: 0.69 accuracy: 51.09\n",
      "count : 82 | epoch : 2 batch: 4000 lr : 0.000098 wd: 0.000297, loss: 0.71 accuracy: 50.81\n",
      "count : 82 | epoch : 2 batch: 6000 lr : 0.000098 wd: 0.000297, loss: 0.70 accuracy: 50.87\n",
      "count : 82 | epoch : 2 batch: 8000 lr : 0.000098 wd: 0.000297, loss: 0.69 accuracy: 50.99\n",
      "count : 82 | epoch : 2 batch: 10000 lr : 0.000098 wd: 0.000297, loss: 0.70 accuracy: 50.93\n",
      "count : 82 | epoch : 2 batch: 12000 lr : 0.000098 wd: 0.000297, loss: 0.71 accuracy: 50.63\n",
      "count : 83 | epoch : 1 batch: 2000 lr : 0.000705 wd: 0.000023, loss: 0.75 accuracy: 50.50\n",
      "count : 83 | epoch : 1 batch: 4000 lr : 0.000705 wd: 0.000023, loss: 0.75 accuracy: 50.26\n",
      "count : 83 | epoch : 1 batch: 6000 lr : 0.000705 wd: 0.000023, loss: 0.78 accuracy: 50.11\n",
      "count : 83 | epoch : 1 batch: 8000 lr : 0.000705 wd: 0.000023, loss: 0.78 accuracy: 49.86\n",
      "count : 83 | epoch : 1 batch: 10000 lr : 0.000705 wd: 0.000023, loss: 0.79 accuracy: 50.52\n",
      "count : 83 | epoch : 1 batch: 12000 lr : 0.000705 wd: 0.000023, loss: 0.78 accuracy: 50.70\n",
      "count : 83 | epoch : 2 batch: 2000 lr : 0.000705 wd: 0.000023, loss: 0.76 accuracy: 50.41\n",
      "count : 83 | epoch : 2 batch: 4000 lr : 0.000705 wd: 0.000023, loss: 0.75 accuracy: 50.40\n",
      "count : 83 | epoch : 2 batch: 6000 lr : 0.000705 wd: 0.000023, loss: 0.76 accuracy: 50.47\n",
      "count : 83 | epoch : 2 batch: 8000 lr : 0.000705 wd: 0.000023, loss: 0.76 accuracy: 50.62\n",
      "count : 83 | epoch : 2 batch: 10000 lr : 0.000705 wd: 0.000023, loss: 0.79 accuracy: 49.94\n",
      "count : 83 | epoch : 2 batch: 12000 lr : 0.000705 wd: 0.000023, loss: 0.78 accuracy: 50.83\n",
      "count : 84 | epoch : 1 batch: 2000 lr : 0.000044 wd: 0.000453, loss: 0.72 accuracy: 50.76\n",
      "count : 84 | epoch : 1 batch: 4000 lr : 0.000044 wd: 0.000453, loss: 0.69 accuracy: 51.00\n",
      "count : 84 | epoch : 1 batch: 6000 lr : 0.000044 wd: 0.000453, loss: 0.70 accuracy: 50.94\n",
      "count : 84 | epoch : 1 batch: 8000 lr : 0.000044 wd: 0.000453, loss: 0.68 accuracy: 51.04\n",
      "count : 84 | epoch : 1 batch: 10000 lr : 0.000044 wd: 0.000453, loss: 0.68 accuracy: 50.98\n",
      "count : 84 | epoch : 1 batch: 12000 lr : 0.000044 wd: 0.000453, loss: 0.69 accuracy: 51.01\n",
      "count : 84 | epoch : 2 batch: 2000 lr : 0.000044 wd: 0.000453, loss: 0.69 accuracy: 50.97\n",
      "count : 84 | epoch : 2 batch: 4000 lr : 0.000044 wd: 0.000453, loss: 0.68 accuracy: 51.11\n",
      "count : 84 | epoch : 2 batch: 6000 lr : 0.000044 wd: 0.000453, loss: 0.67 accuracy: 51.06\n",
      "count : 84 | epoch : 2 batch: 8000 lr : 0.000044 wd: 0.000453, loss: 0.69 accuracy: 50.82\n",
      "count : 84 | epoch : 2 batch: 10000 lr : 0.000044 wd: 0.000453, loss: 0.67 accuracy: 50.86\n",
      "count : 84 | epoch : 2 batch: 12000 lr : 0.000044 wd: 0.000453, loss: 0.68 accuracy: 51.02\n",
      "count : 85 | epoch : 1 batch: 2000 lr : 0.000176 wd: 0.000261, loss: 0.68 accuracy: 50.68\n",
      "count : 85 | epoch : 1 batch: 4000 lr : 0.000176 wd: 0.000261, loss: 0.69 accuracy: 50.78\n",
      "count : 85 | epoch : 1 batch: 6000 lr : 0.000176 wd: 0.000261, loss: 0.69 accuracy: 50.79\n",
      "count : 85 | epoch : 1 batch: 8000 lr : 0.000176 wd: 0.000261, loss: 0.70 accuracy: 51.26\n",
      "count : 85 | epoch : 1 batch: 10000 lr : 0.000176 wd: 0.000261, loss: 0.69 accuracy: 50.68\n",
      "count : 85 | epoch : 1 batch: 12000 lr : 0.000176 wd: 0.000261, loss: 0.71 accuracy: 50.98\n",
      "count : 85 | epoch : 2 batch: 2000 lr : 0.000176 wd: 0.000261, loss: 0.67 accuracy: 50.81\n",
      "count : 85 | epoch : 2 batch: 4000 lr : 0.000176 wd: 0.000261, loss: 0.69 accuracy: 51.18\n",
      "count : 85 | epoch : 2 batch: 6000 lr : 0.000176 wd: 0.000261, loss: 0.70 accuracy: 51.14\n",
      "count : 85 | epoch : 2 batch: 8000 lr : 0.000176 wd: 0.000261, loss: 0.69 accuracy: 51.05\n",
      "count : 85 | epoch : 2 batch: 10000 lr : 0.000176 wd: 0.000261, loss: 0.69 accuracy: 50.88\n",
      "count : 85 | epoch : 2 batch: 12000 lr : 0.000176 wd: 0.000261, loss: 0.70 accuracy: 50.64\n",
      "count : 86 | epoch : 1 batch: 2000 lr : 0.000064 wd: 0.000019, loss: 0.68 accuracy: 50.73\n",
      "count : 86 | epoch : 1 batch: 4000 lr : 0.000064 wd: 0.000019, loss: 0.68 accuracy: 50.95\n",
      "count : 86 | epoch : 1 batch: 6000 lr : 0.000064 wd: 0.000019, loss: 0.68 accuracy: 50.91\n",
      "count : 86 | epoch : 1 batch: 8000 lr : 0.000064 wd: 0.000019, loss: 0.67 accuracy: 50.93\n",
      "count : 86 | epoch : 1 batch: 10000 lr : 0.000064 wd: 0.000019, loss: 0.67 accuracy: 50.89\n",
      "count : 86 | epoch : 1 batch: 12000 lr : 0.000064 wd: 0.000019, loss: 0.68 accuracy: 50.99\n",
      "count : 86 | epoch : 2 batch: 2000 lr : 0.000064 wd: 0.000019, loss: 0.67 accuracy: 50.86\n",
      "count : 86 | epoch : 2 batch: 4000 lr : 0.000064 wd: 0.000019, loss: 0.67 accuracy: 50.81\n",
      "count : 86 | epoch : 2 batch: 6000 lr : 0.000064 wd: 0.000019, loss: 0.67 accuracy: 50.85\n",
      "count : 86 | epoch : 2 batch: 8000 lr : 0.000064 wd: 0.000019, loss: 0.68 accuracy: 50.85\n",
      "count : 86 | epoch : 2 batch: 10000 lr : 0.000064 wd: 0.000019, loss: 0.67 accuracy: 50.95\n",
      "count : 86 | epoch : 2 batch: 12000 lr : 0.000064 wd: 0.000019, loss: 0.69 accuracy: 50.85\n",
      "count : 87 | epoch : 1 batch: 2000 lr : 0.000814 wd: 0.000001, loss: 0.74 accuracy: 49.78\n",
      "count : 87 | epoch : 1 batch: 4000 lr : 0.000814 wd: 0.000001, loss: 0.75 accuracy: 50.55\n",
      "count : 87 | epoch : 1 batch: 6000 lr : 0.000814 wd: 0.000001, loss: 0.77 accuracy: 50.23\n",
      "count : 87 | epoch : 1 batch: 8000 lr : 0.000814 wd: 0.000001, loss: 0.78 accuracy: 49.89\n",
      "count : 87 | epoch : 1 batch: 10000 lr : 0.000814 wd: 0.000001, loss: 0.78 accuracy: 50.34\n",
      "count : 87 | epoch : 1 batch: 12000 lr : 0.000814 wd: 0.000001, loss: 0.79 accuracy: 50.14\n",
      "count : 87 | epoch : 2 batch: 2000 lr : 0.000814 wd: 0.000001, loss: 0.75 accuracy: 50.54\n",
      "count : 87 | epoch : 2 batch: 4000 lr : 0.000814 wd: 0.000001, loss: 0.76 accuracy: 50.14\n",
      "count : 87 | epoch : 2 batch: 6000 lr : 0.000814 wd: 0.000001, loss: 0.76 accuracy: 49.63\n",
      "count : 87 | epoch : 2 batch: 8000 lr : 0.000814 wd: 0.000001, loss: 0.78 accuracy: 50.10\n",
      "count : 87 | epoch : 2 batch: 10000 lr : 0.000814 wd: 0.000001, loss: 0.78 accuracy: 50.18\n",
      "count : 87 | epoch : 2 batch: 12000 lr : 0.000814 wd: 0.000001, loss: 0.77 accuracy: 50.15\n",
      "count : 88 | epoch : 1 batch: 2000 lr : 0.000169 wd: 0.000001, loss: 0.68 accuracy: 50.93\n",
      "count : 88 | epoch : 1 batch: 4000 lr : 0.000169 wd: 0.000001, loss: 0.67 accuracy: 50.80\n",
      "count : 88 | epoch : 1 batch: 6000 lr : 0.000169 wd: 0.000001, loss: 0.68 accuracy: 50.43\n",
      "count : 88 | epoch : 1 batch: 8000 lr : 0.000169 wd: 0.000001, loss: 0.68 accuracy: 50.80\n",
      "count : 88 | epoch : 1 batch: 10000 lr : 0.000169 wd: 0.000001, loss: 0.68 accuracy: 50.64\n",
      "count : 88 | epoch : 1 batch: 12000 lr : 0.000169 wd: 0.000001, loss: 0.67 accuracy: 50.70\n",
      "count : 88 | epoch : 2 batch: 2000 lr : 0.000169 wd: 0.000001, loss: 0.66 accuracy: 50.79\n",
      "count : 88 | epoch : 2 batch: 4000 lr : 0.000169 wd: 0.000001, loss: 0.66 accuracy: 50.78\n",
      "count : 88 | epoch : 2 batch: 6000 lr : 0.000169 wd: 0.000001, loss: 0.68 accuracy: 50.77\n",
      "count : 88 | epoch : 2 batch: 8000 lr : 0.000169 wd: 0.000001, loss: 0.67 accuracy: 50.87\n",
      "count : 88 | epoch : 2 batch: 10000 lr : 0.000169 wd: 0.000001, loss: 0.67 accuracy: 50.70\n",
      "count : 88 | epoch : 2 batch: 12000 lr : 0.000169 wd: 0.000001, loss: 0.67 accuracy: 50.80\n",
      "count : 89 | epoch : 1 batch: 2000 lr : 0.000099 wd: 0.000008, loss: 0.66 accuracy: 50.93\n",
      "count : 89 | epoch : 1 batch: 4000 lr : 0.000099 wd: 0.000008, loss: 0.66 accuracy: 50.94\n",
      "count : 89 | epoch : 1 batch: 6000 lr : 0.000099 wd: 0.000008, loss: 0.66 accuracy: 50.93\n",
      "count : 89 | epoch : 1 batch: 8000 lr : 0.000099 wd: 0.000008, loss: 0.65 accuracy: 50.80\n",
      "count : 89 | epoch : 1 batch: 10000 lr : 0.000099 wd: 0.000008, loss: 0.66 accuracy: 50.73\n",
      "count : 89 | epoch : 1 batch: 12000 lr : 0.000099 wd: 0.000008, loss: 0.67 accuracy: 50.90\n",
      "count : 89 | epoch : 2 batch: 2000 lr : 0.000099 wd: 0.000008, loss: 0.66 accuracy: 50.89\n",
      "count : 89 | epoch : 2 batch: 4000 lr : 0.000099 wd: 0.000008, loss: 0.65 accuracy: 50.90\n",
      "count : 89 | epoch : 2 batch: 6000 lr : 0.000099 wd: 0.000008, loss: 0.66 accuracy: 50.97\n",
      "count : 89 | epoch : 2 batch: 8000 lr : 0.000099 wd: 0.000008, loss: 0.65 accuracy: 50.60\n",
      "count : 89 | epoch : 2 batch: 10000 lr : 0.000099 wd: 0.000008, loss: 0.67 accuracy: 50.74\n",
      "count : 89 | epoch : 2 batch: 12000 lr : 0.000099 wd: 0.000008, loss: 0.66 accuracy: 50.87\n",
      "count : 90 | epoch : 1 batch: 2000 lr : 0.000133 wd: 0.000002, loss: 0.66 accuracy: 50.85\n",
      "count : 90 | epoch : 1 batch: 4000 lr : 0.000133 wd: 0.000002, loss: 0.65 accuracy: 50.60\n",
      "count : 90 | epoch : 1 batch: 6000 lr : 0.000133 wd: 0.000002, loss: 0.65 accuracy: 50.89\n",
      "count : 90 | epoch : 1 batch: 8000 lr : 0.000133 wd: 0.000002, loss: 0.67 accuracy: 50.92\n",
      "count : 90 | epoch : 1 batch: 10000 lr : 0.000133 wd: 0.000002, loss: 0.66 accuracy: 50.80\n",
      "count : 90 | epoch : 1 batch: 12000 lr : 0.000133 wd: 0.000002, loss: 0.66 accuracy: 50.48\n",
      "count : 90 | epoch : 2 batch: 2000 lr : 0.000133 wd: 0.000002, loss: 0.65 accuracy: 50.69\n",
      "count : 90 | epoch : 2 batch: 4000 lr : 0.000133 wd: 0.000002, loss: 0.67 accuracy: 50.89\n",
      "count : 90 | epoch : 2 batch: 6000 lr : 0.000133 wd: 0.000002, loss: 0.64 accuracy: 50.44\n",
      "count : 90 | epoch : 2 batch: 8000 lr : 0.000133 wd: 0.000002, loss: 0.66 accuracy: 50.68\n",
      "count : 90 | epoch : 2 batch: 10000 lr : 0.000133 wd: 0.000002, loss: 0.67 accuracy: 50.87\n",
      "count : 90 | epoch : 2 batch: 12000 lr : 0.000133 wd: 0.000002, loss: 0.66 accuracy: 50.89\n",
      "count : 91 | epoch : 1 batch: 2000 lr : 0.000013 wd: 0.000013, loss: 0.65 accuracy: 50.81\n"
     ]
    },
    {
     "name": "stdout",
     "output_type": "stream",
     "text": [
      "count : 91 | epoch : 1 batch: 4000 lr : 0.000013 wd: 0.000013, loss: 0.63 accuracy: 50.84\n",
      "count : 91 | epoch : 1 batch: 6000 lr : 0.000013 wd: 0.000013, loss: 0.66 accuracy: 50.84\n",
      "count : 91 | epoch : 1 batch: 8000 lr : 0.000013 wd: 0.000013, loss: 0.66 accuracy: 50.79\n",
      "count : 91 | epoch : 1 batch: 10000 lr : 0.000013 wd: 0.000013, loss: 0.64 accuracy: 50.93\n",
      "count : 91 | epoch : 1 batch: 12000 lr : 0.000013 wd: 0.000013, loss: 0.62 accuracy: 50.87\n",
      "count : 91 | epoch : 2 batch: 2000 lr : 0.000013 wd: 0.000013, loss: 0.63 accuracy: 50.86\n",
      "count : 91 | epoch : 2 batch: 4000 lr : 0.000013 wd: 0.000013, loss: 0.64 accuracy: 50.81\n",
      "count : 91 | epoch : 2 batch: 6000 lr : 0.000013 wd: 0.000013, loss: 0.64 accuracy: 50.88\n",
      "count : 91 | epoch : 2 batch: 8000 lr : 0.000013 wd: 0.000013, loss: 0.65 accuracy: 50.80\n",
      "count : 91 | epoch : 2 batch: 10000 lr : 0.000013 wd: 0.000013, loss: 0.64 accuracy: 50.96\n",
      "count : 91 | epoch : 2 batch: 12000 lr : 0.000013 wd: 0.000013, loss: 0.65 accuracy: 50.92\n",
      "count : 92 | epoch : 1 batch: 2000 lr : 0.000546 wd: 0.000049, loss: 0.67 accuracy: 50.29\n",
      "count : 92 | epoch : 1 batch: 4000 lr : 0.000546 wd: 0.000049, loss: 0.70 accuracy: 50.05\n",
      "count : 92 | epoch : 1 batch: 6000 lr : 0.000546 wd: 0.000049, loss: 0.71 accuracy: 50.07\n",
      "count : 92 | epoch : 1 batch: 8000 lr : 0.000546 wd: 0.000049, loss: 0.71 accuracy: 50.20\n",
      "count : 92 | epoch : 1 batch: 10000 lr : 0.000546 wd: 0.000049, loss: 0.72 accuracy: 50.60\n",
      "count : 92 | epoch : 1 batch: 12000 lr : 0.000546 wd: 0.000049, loss: 0.73 accuracy: 50.18\n",
      "count : 92 | epoch : 2 batch: 2000 lr : 0.000546 wd: 0.000049, loss: 0.66 accuracy: 50.52\n",
      "count : 92 | epoch : 2 batch: 4000 lr : 0.000546 wd: 0.000049, loss: 0.70 accuracy: 49.81\n",
      "count : 92 | epoch : 2 batch: 6000 lr : 0.000546 wd: 0.000049, loss: 0.69 accuracy: 50.89\n",
      "count : 92 | epoch : 2 batch: 8000 lr : 0.000546 wd: 0.000049, loss: 0.72 accuracy: 50.48\n",
      "count : 92 | epoch : 2 batch: 10000 lr : 0.000546 wd: 0.000049, loss: 0.72 accuracy: 50.06\n",
      "count : 92 | epoch : 2 batch: 12000 lr : 0.000546 wd: 0.000049, loss: 0.73 accuracy: 50.21\n",
      "count : 93 | epoch : 1 batch: 2000 lr : 0.000877 wd: 0.000010, loss: 0.71 accuracy: 49.78\n",
      "count : 93 | epoch : 1 batch: 4000 lr : 0.000877 wd: 0.000010, loss: 0.73 accuracy: 49.63\n",
      "count : 93 | epoch : 1 batch: 6000 lr : 0.000877 wd: 0.000010, loss: 0.75 accuracy: 50.43\n",
      "count : 93 | epoch : 1 batch: 8000 lr : 0.000877 wd: 0.000010, loss: 0.76 accuracy: 50.26\n",
      "count : 93 | epoch : 1 batch: 10000 lr : 0.000877 wd: 0.000010, loss: 0.77 accuracy: 50.56\n",
      "count : 93 | epoch : 1 batch: 12000 lr : 0.000877 wd: 0.000010, loss: 0.78 accuracy: 50.02\n",
      "count : 93 | epoch : 2 batch: 2000 lr : 0.000877 wd: 0.000010, loss: 0.72 accuracy: 49.13\n",
      "count : 93 | epoch : 2 batch: 4000 lr : 0.000877 wd: 0.000010, loss: 0.73 accuracy: 49.54\n",
      "count : 93 | epoch : 2 batch: 6000 lr : 0.000877 wd: 0.000010, loss: 0.75 accuracy: 49.90\n",
      "count : 93 | epoch : 2 batch: 8000 lr : 0.000877 wd: 0.000010, loss: 0.76 accuracy: 49.86\n",
      "count : 93 | epoch : 2 batch: 10000 lr : 0.000877 wd: 0.000010, loss: 0.75 accuracy: 50.30\n",
      "count : 93 | epoch : 2 batch: 12000 lr : 0.000877 wd: 0.000010, loss: 0.77 accuracy: 49.56\n",
      "count : 94 | epoch : 1 batch: 2000 lr : 0.000011 wd: 0.000010, loss: 0.68 accuracy: 50.01\n",
      "count : 94 | epoch : 1 batch: 4000 lr : 0.000011 wd: 0.000010, loss: 0.65 accuracy: 50.20\n",
      "count : 94 | epoch : 1 batch: 6000 lr : 0.000011 wd: 0.000010, loss: 0.66 accuracy: 50.22\n",
      "count : 94 | epoch : 1 batch: 8000 lr : 0.000011 wd: 0.000010, loss: 0.65 accuracy: 50.35\n",
      "count : 94 | epoch : 1 batch: 10000 lr : 0.000011 wd: 0.000010, loss: 0.67 accuracy: 50.49\n",
      "count : 94 | epoch : 1 batch: 12000 lr : 0.000011 wd: 0.000010, loss: 0.66 accuracy: 50.46\n",
      "count : 94 | epoch : 2 batch: 2000 lr : 0.000011 wd: 0.000010, loss: 0.64 accuracy: 50.45\n",
      "count : 94 | epoch : 2 batch: 4000 lr : 0.000011 wd: 0.000010, loss: 0.62 accuracy: 50.43\n",
      "count : 94 | epoch : 2 batch: 6000 lr : 0.000011 wd: 0.000010, loss: 0.68 accuracy: 50.42\n",
      "count : 94 | epoch : 2 batch: 8000 lr : 0.000011 wd: 0.000010, loss: 0.64 accuracy: 50.44\n",
      "count : 94 | epoch : 2 batch: 10000 lr : 0.000011 wd: 0.000010, loss: 0.64 accuracy: 50.36\n",
      "count : 94 | epoch : 2 batch: 12000 lr : 0.000011 wd: 0.000010, loss: 0.63 accuracy: 50.36\n",
      "count : 95 | epoch : 1 batch: 2000 lr : 0.000061 wd: 0.000595, loss: 0.63 accuracy: 50.59\n",
      "count : 95 | epoch : 1 batch: 4000 lr : 0.000061 wd: 0.000595, loss: 0.64 accuracy: 50.24\n",
      "count : 95 | epoch : 1 batch: 6000 lr : 0.000061 wd: 0.000595, loss: 0.61 accuracy: 50.45\n",
      "count : 95 | epoch : 1 batch: 8000 lr : 0.000061 wd: 0.000595, loss: 0.64 accuracy: 50.42\n",
      "count : 95 | epoch : 1 batch: 10000 lr : 0.000061 wd: 0.000595, loss: 0.64 accuracy: 50.52\n",
      "count : 95 | epoch : 1 batch: 12000 lr : 0.000061 wd: 0.000595, loss: 0.64 accuracy: 50.43\n",
      "count : 95 | epoch : 2 batch: 2000 lr : 0.000061 wd: 0.000595, loss: 0.62 accuracy: 50.47\n",
      "count : 95 | epoch : 2 batch: 4000 lr : 0.000061 wd: 0.000595, loss: 0.63 accuracy: 50.44\n",
      "count : 95 | epoch : 2 batch: 6000 lr : 0.000061 wd: 0.000595, loss: 0.63 accuracy: 50.52\n",
      "count : 95 | epoch : 2 batch: 8000 lr : 0.000061 wd: 0.000595, loss: 0.63 accuracy: 50.57\n",
      "count : 95 | epoch : 2 batch: 10000 lr : 0.000061 wd: 0.000595, loss: 0.62 accuracy: 50.55\n",
      "count : 95 | epoch : 2 batch: 12000 lr : 0.000061 wd: 0.000595, loss: 0.62 accuracy: 50.60\n",
      "count : 96 | epoch : 1 batch: 2000 lr : 0.000372 wd: 0.000103, loss: 0.64 accuracy: 50.59\n",
      "count : 96 | epoch : 1 batch: 4000 lr : 0.000372 wd: 0.000103, loss: 0.65 accuracy: 50.03\n",
      "count : 96 | epoch : 1 batch: 6000 lr : 0.000372 wd: 0.000103, loss: 0.67 accuracy: 50.66\n",
      "count : 96 | epoch : 1 batch: 8000 lr : 0.000372 wd: 0.000103, loss: 0.65 accuracy: 50.15\n",
      "count : 96 | epoch : 1 batch: 10000 lr : 0.000372 wd: 0.000103, loss: 0.67 accuracy: 50.37\n",
      "count : 96 | epoch : 1 batch: 12000 lr : 0.000372 wd: 0.000103, loss: 0.68 accuracy: 50.12\n",
      "count : 96 | epoch : 2 batch: 2000 lr : 0.000372 wd: 0.000103, loss: 0.65 accuracy: 50.34\n",
      "count : 96 | epoch : 2 batch: 4000 lr : 0.000372 wd: 0.000103, loss: 0.66 accuracy: 50.68\n",
      "count : 96 | epoch : 2 batch: 6000 lr : 0.000372 wd: 0.000103, loss: 0.66 accuracy: 50.32\n",
      "count : 96 | epoch : 2 batch: 8000 lr : 0.000372 wd: 0.000103, loss: 0.67 accuracy: 50.56\n",
      "count : 96 | epoch : 2 batch: 10000 lr : 0.000372 wd: 0.000103, loss: 0.64 accuracy: 50.63\n",
      "count : 96 | epoch : 2 batch: 12000 lr : 0.000372 wd: 0.000103, loss: 0.66 accuracy: 50.51\n",
      "count : 97 | epoch : 1 batch: 2000 lr : 0.000028 wd: 0.000024, loss: 0.62 accuracy: 50.42\n",
      "count : 97 | epoch : 1 batch: 4000 lr : 0.000028 wd: 0.000024, loss: 0.63 accuracy: 50.55\n",
      "count : 97 | epoch : 1 batch: 6000 lr : 0.000028 wd: 0.000024, loss: 0.60 accuracy: 50.53\n",
      "count : 97 | epoch : 1 batch: 8000 lr : 0.000028 wd: 0.000024, loss: 0.60 accuracy: 50.51\n",
      "count : 97 | epoch : 1 batch: 10000 lr : 0.000028 wd: 0.000024, loss: 0.63 accuracy: 50.56\n",
      "count : 97 | epoch : 1 batch: 12000 lr : 0.000028 wd: 0.000024, loss: 0.61 accuracy: 50.76\n",
      "count : 97 | epoch : 2 batch: 2000 lr : 0.000028 wd: 0.000024, loss: 0.60 accuracy: 50.55\n",
      "count : 97 | epoch : 2 batch: 4000 lr : 0.000028 wd: 0.000024, loss: 0.61 accuracy: 50.61\n",
      "count : 97 | epoch : 2 batch: 6000 lr : 0.000028 wd: 0.000024, loss: 0.61 accuracy: 50.70\n",
      "count : 97 | epoch : 2 batch: 8000 lr : 0.000028 wd: 0.000024, loss: 0.61 accuracy: 50.62\n",
      "count : 97 | epoch : 2 batch: 10000 lr : 0.000028 wd: 0.000024, loss: 0.61 accuracy: 50.75\n",
      "count : 97 | epoch : 2 batch: 12000 lr : 0.000028 wd: 0.000024, loss: 0.62 accuracy: 50.71\n",
      "count : 98 | epoch : 1 batch: 2000 lr : 0.000019 wd: 0.000005, loss: 0.63 accuracy: 50.63\n",
      "count : 98 | epoch : 1 batch: 4000 lr : 0.000019 wd: 0.000005, loss: 0.61 accuracy: 50.70\n",
      "count : 98 | epoch : 1 batch: 6000 lr : 0.000019 wd: 0.000005, loss: 0.60 accuracy: 50.70\n",
      "count : 98 | epoch : 1 batch: 8000 lr : 0.000019 wd: 0.000005, loss: 0.61 accuracy: 50.65\n",
      "count : 98 | epoch : 1 batch: 10000 lr : 0.000019 wd: 0.000005, loss: 0.60 accuracy: 50.59\n",
      "count : 98 | epoch : 1 batch: 12000 lr : 0.000019 wd: 0.000005, loss: 0.59 accuracy: 50.56\n",
      "count : 98 | epoch : 2 batch: 2000 lr : 0.000019 wd: 0.000005, loss: 0.61 accuracy: 50.81\n",
      "count : 98 | epoch : 2 batch: 4000 lr : 0.000019 wd: 0.000005, loss: 0.60 accuracy: 50.69\n",
      "count : 98 | epoch : 2 batch: 6000 lr : 0.000019 wd: 0.000005, loss: 0.61 accuracy: 50.59\n",
      "count : 98 | epoch : 2 batch: 8000 lr : 0.000019 wd: 0.000005, loss: 0.61 accuracy: 50.67\n",
      "count : 98 | epoch : 2 batch: 10000 lr : 0.000019 wd: 0.000005, loss: 0.62 accuracy: 50.69\n",
      "count : 98 | epoch : 2 batch: 12000 lr : 0.000019 wd: 0.000005, loss: 0.59 accuracy: 50.76\n",
      "count : 99 | epoch : 1 batch: 2000 lr : 0.000012 wd: 0.000001, loss: 0.60 accuracy: 50.62\n",
      "count : 99 | epoch : 1 batch: 4000 lr : 0.000012 wd: 0.000001, loss: 0.60 accuracy: 50.69\n",
      "count : 99 | epoch : 1 batch: 6000 lr : 0.000012 wd: 0.000001, loss: 0.61 accuracy: 50.68\n",
      "count : 99 | epoch : 1 batch: 8000 lr : 0.000012 wd: 0.000001, loss: 0.62 accuracy: 50.70\n",
      "count : 99 | epoch : 1 batch: 10000 lr : 0.000012 wd: 0.000001, loss: 0.60 accuracy: 50.61\n",
      "count : 99 | epoch : 1 batch: 12000 lr : 0.000012 wd: 0.000001, loss: 0.61 accuracy: 50.55\n",
      "count : 99 | epoch : 2 batch: 2000 lr : 0.000012 wd: 0.000001, loss: 0.60 accuracy: 50.69\n",
      "count : 99 | epoch : 2 batch: 4000 lr : 0.000012 wd: 0.000001, loss: 0.60 accuracy: 50.81\n",
      "count : 99 | epoch : 2 batch: 6000 lr : 0.000012 wd: 0.000001, loss: 0.60 accuracy: 50.78\n",
      "count : 99 | epoch : 2 batch: 8000 lr : 0.000012 wd: 0.000001, loss: 0.61 accuracy: 50.68\n",
      "count : 99 | epoch : 2 batch: 10000 lr : 0.000012 wd: 0.000001, loss: 0.61 accuracy: 50.73\n",
      "count : 99 | epoch : 2 batch: 12000 lr : 0.000012 wd: 0.000001, loss: 0.62 accuracy: 50.66\n",
      "count : 100 | epoch : 1 batch: 2000 lr : 0.000042 wd: 0.000008, loss: 0.60 accuracy: 50.64\n",
      "count : 100 | epoch : 1 batch: 4000 lr : 0.000042 wd: 0.000008, loss: 0.61 accuracy: 50.75\n",
      "count : 100 | epoch : 1 batch: 6000 lr : 0.000042 wd: 0.000008, loss: 0.61 accuracy: 50.66\n",
      "count : 100 | epoch : 1 batch: 8000 lr : 0.000042 wd: 0.000008, loss: 0.62 accuracy: 50.73\n",
      "count : 100 | epoch : 1 batch: 10000 lr : 0.000042 wd: 0.000008, loss: 0.62 accuracy: 50.61\n",
      "count : 100 | epoch : 1 batch: 12000 lr : 0.000042 wd: 0.000008, loss: 0.61 accuracy: 50.59\n",
      "count : 100 | epoch : 2 batch: 2000 lr : 0.000042 wd: 0.000008, loss: 0.60 accuracy: 50.67\n",
      "count : 100 | epoch : 2 batch: 4000 lr : 0.000042 wd: 0.000008, loss: 0.60 accuracy: 50.75\n",
      "count : 100 | epoch : 2 batch: 6000 lr : 0.000042 wd: 0.000008, loss: 0.61 accuracy: 50.60\n",
      "count : 100 | epoch : 2 batch: 8000 lr : 0.000042 wd: 0.000008, loss: 0.62 accuracy: 50.84\n",
      "count : 100 | epoch : 2 batch: 10000 lr : 0.000042 wd: 0.000008, loss: 0.61 accuracy: 50.74\n",
      "count : 100 | epoch : 2 batch: 12000 lr : 0.000042 wd: 0.000008, loss: 0.61 accuracy: 50.69\n",
      "Finished Training\n"
     ]
    }
   ],
   "source": [
    "max_count = 100 \n",
    "for count in range(max_count):\n",
    "    weight_decay = 10**np.random.uniform(-6,-3)\n",
    "    learning_rate = 10**np.random.uniform(-5,-3)\n",
    "    \n",
    "    for epoch in range(2): \n",
    "        optimizer = torch.optim.SGD(model.parameters(),lr=learning_rate,weight_decay=weight_decay)\n",
    "    \n",
    "        running_loss = 0.0\n",
    "        for i, data in enumerate(trainloader, 0):\n",
    "            inputs, labels = data\n",
    "            X = inputs.reshape(-1,32*32*3)\n",
    "            x = torch.tensor(X)\n",
    "            y_pred = model(x)\n",
    "            loss = criterion(y_pred,labels)\n",
    "    \n",
    "            loss.backward()\n",
    "    \n",
    "            optimizer.step()\n",
    "            optimizer.zero_grad()\n",
    "        \n",
    "            running_loss += loss.item()\n",
    "            if i % 2000 == 1999:    # print every 2000 mini-batches\n",
    "                correct = 0\n",
    "                total = 0\n",
    "                with torch.no_grad():\n",
    "                    for data in testloader:\n",
    "                        images, labels = data\n",
    "                        X = images.reshape(-1,32*32*3)\n",
    "                        outputs = model(X)\n",
    "                        _, predicted = torch.max(outputs.data, 1)\n",
    "                        total += labels.size(0)\n",
    "                        correct += (predicted == labels).sum().item()\n",
    "                print(f'count : {count+1} | epoch : {epoch+1} batch: {i+1} lr : {learning_rate:.6f} wd: {weight_decay:.6f}, loss: {running_loss/2000:.2f} accuracy: {100 * (correct / total):.2f}')\n",
    "                running_loss = 0.0\n",
    "\n",
    "print('Finished Training')\n",
    "    "
   ]
  },
  {
   "cell_type": "markdown",
   "metadata": {},
   "source": [
    "- count : 17 | epoch : 1 batch: 4000 lr : 0.000008 wd: 0.000640, loss: 1.07 accuracy: 54.21\n",
    "- count : 37 | epoch : 2 batch: 4000 lr : 0.000007 wd: 0.000441, loss: 1.06 accuracy: 54.21\n",
    "- count : 44 | epoch : 2 batch: 4000 lr : 0.000006 wd: 0.003821, loss: 1.08 accuracy: 54.22 \n",
    "- count : 47 | epoch : 2 batch: 4000 lr : 0.000007 wd: 0.000411, loss: 1.08 accuracy: 54.21\n",
    "- count : 63 | epoch : 1 batch: 10000 lr : 0.000003 wd: 0.000003, loss: 1.08 accuracy: 54.24\n",
    "- count : 64 | epoch : 1 batch: 2000 lr : 0.000003 wd: 0.000014, loss: 1.06 accuracy: 54.20\n",
    "- count : 67 | epoch : 1 batch: 10000 lr : 0.000009 wd: 0.000362, loss: 1.07 accuracy: 54.21\n",
    "- count : 68 | epoch : 2 batch: 8000 lr : 0.000004 wd: 0.000131, loss: 1.08 accuracy: 54.20\n",
    "- count : 76 | epoch : 1 batch: 4000 lr : 0.000004 wd: 0.000390, loss: 1.05 accuracy: 54.22\n",
    "- count : 80 | epoch : 2 batch: 12000 lr : 0.000004 wd: 0.000084, loss: 1.07 accuracy: 54.22\n",
    "- count : 82 | epoch : 1 batch: 4000 lr : 0.000006 wd: 0.000178, loss: 1.05 accuracy: 54.24\n",
    "- count : 82 | epoch : 2 batch: 8000 lr : 0.000006 wd: 0.000178, loss: 1.06 accuracy: 54.21\n",
    "- count : 87 | epoch : 2 batch: 10000 lr : 0.000003 wd: 0.000281, loss: 1.05 accuracy: 54.20\n",
    "- count : 88 | epoch : 2 batch: 2000 lr : 0.000006 wd: 0.000006, loss: 1.06 accuracy: 54.27\n",
    "- count : 89 | epoch : 1 batch: 8000 lr : 0.000004 wd: 0.000928, loss: 1.05 accuracy: 54.26\n",
    "- count : 90 | epoch : 1 batch: 6000 lr : 0.000002 wd: 0.001040, loss: 1.07 accuracy: 54.22\n",
    "- count : 91 | epoch : 1 batch: 4000 lr : 0.000001 wd: 0.000007, loss: 1.06 accuracy: 54.20\n",
    "- count : 92 | epoch : 2 batch: 6000 lr : 0.000010 wd: 0.000060, loss: 1.07 accuracy: 54.25\n",
    "- count : 93 | epoch : 1 batch: 10000 lr : 0.000002 wd: 0.000021, loss: 1.06 accuracy: 54.25\n",
    "- count : 94 | epoch : 1 batch: 8000 lr : 0.000006 wd: 0.004167, loss: 1.07 accuracy: 54.25\n",
    "- count : 95 | epoch : 1 batch: 8000 lr : 0.000001 wd: 0.000357, loss: 1.08 accuracy: 54.23"
   ]
  },
  {
   "cell_type": "markdown",
   "metadata": {},
   "source": [
    "within the range of previous coarse range of learning rate and weight decay, the result of hyperparameter optimization is pertaining low value in loss and promising accuracy.  "
   ]
  },
  {
   "cell_type": "code",
   "execution_count": 66,
   "metadata": {},
   "outputs": [
    {
     "name": "stderr",
     "output_type": "stream",
     "text": [
      "C:\\Users\\Rache\\Anaconda3\\lib\\site-packages\\ipykernel_launcher.py:9: UserWarning: To copy construct from a tensor, it is recommended to use sourceTensor.clone().detach() or sourceTensor.clone().detach().requires_grad_(True), rather than torch.tensor(sourceTensor).\n",
      "  if __name__ == '__main__':\n"
     ]
    },
    {
     "name": "stdout",
     "output_type": "stream",
     "text": [
      "[1,  2000] loss: 0.608\n",
      "[1,  4000] loss: 0.597\n",
      "[1,  6000] loss: 0.612\n",
      "[1,  8000] loss: 0.604\n",
      "[1, 10000] loss: 0.594\n",
      "[1, 12000] loss: 0.607\n",
      "[2,  2000] loss: 0.611\n",
      "[2,  4000] loss: 0.598\n",
      "[2,  6000] loss: 0.609\n",
      "[2,  8000] loss: 0.598\n",
      "[2, 10000] loss: 0.608\n",
      "[2, 12000] loss: 0.603\n",
      "Finished Training\n"
     ]
    }
   ],
   "source": [
    "for epoch in range(2): \n",
    "    learning_rate =6e-6\n",
    "    optimizer = torch.optim.SGD(model.parameters(),lr=learning_rate,weight_decay=0.004167)\n",
    "    \n",
    "    running_loss = 0.0\n",
    "    for i, data in enumerate(trainloader, 0):\n",
    "        inputs, labels = data\n",
    "        X = inputs.reshape(-1,32*32*3)\n",
    "        x = torch.tensor(X)\n",
    "        y_pred = model(x)\n",
    "        loss = criterion(y_pred,labels)\n",
    "    \n",
    "        loss.backward()\n",
    "    \n",
    "        optimizer.step()\n",
    "        optimizer.zero_grad()\n",
    "        \n",
    "        running_loss += loss.item()\n",
    "        if i % 2000 == 1999:    # print every 2000 mini-batches\n",
    "            print('[%d, %5d] loss: %.3f' %\n",
    "                  (epoch + 1, i + 1, running_loss / 2000))\n",
    "            running_loss = 0.0\n",
    "\n",
    "print('Finished Training')"
   ]
  },
  {
   "cell_type": "code",
   "execution_count": 67,
   "metadata": {},
   "outputs": [
    {
     "name": "stdout",
     "output_type": "stream",
     "text": [
      "Accuracy of the network on the 10000 test images: 50 %\n"
     ]
    }
   ],
   "source": [
    "correct = 0\n",
    "total = 0\n",
    "with torch.no_grad():\n",
    "    for data in testloader:\n",
    "        images, labels = data\n",
    "        X = images.reshape(-1,32*32*3)\n",
    "        outputs = model(X)\n",
    "        _, predicted = torch.max(outputs.data, 1)\n",
    "        total += labels.size(0)\n",
    "        correct += (predicted == labels).sum().item()\n",
    "\n",
    "print('Accuracy of the network on the 10000 test images: %d %%' % (\n",
    "    100 * correct / total))"
   ]
  },
  {
   "cell_type": "code",
   "execution_count": 68,
   "metadata": {},
   "outputs": [
    {
     "name": "stdout",
     "output_type": "stream",
     "text": [
      "Accuracy of plane : 56 %\n",
      "Accuracy of   car : 57 %\n",
      "Accuracy of  bird : 40 %\n",
      "Accuracy of   cat : 35 %\n",
      "Accuracy of  deer : 44 %\n",
      "Accuracy of   dog : 39 %\n",
      "Accuracy of  frog : 56 %\n",
      "Accuracy of horse : 55 %\n",
      "Accuracy of  ship : 66 %\n",
      "Accuracy of truck : 54 %\n"
     ]
    }
   ],
   "source": [
    "class_correct = list(0. for i in range(10))\n",
    "class_total = list(0. for i in range(10))\n",
    "with torch.no_grad():\n",
    "    for data in testloader:\n",
    "        images, labels = data\n",
    "        X = images.reshape(-1,32*32*3)\n",
    "        outputs = model(X)\n",
    "        _, predicted = torch.max(outputs, 1)\n",
    "        c = (predicted == labels).squeeze()\n",
    "        for i in range(4):\n",
    "            label = labels[i]\n",
    "            class_correct[label] += c[i].item()\n",
    "            class_total[label] += 1\n",
    "\n",
    "\n",
    "for i in range(10):\n",
    "    print('Accuracy of %5s : %2d %%' % (\n",
    "        classes[i], 100 * class_correct[i] / class_total[i]))"
   ]
  },
  {
   "cell_type": "markdown",
   "metadata": {},
   "source": [
    "learning_rate =1e-3 weight_decay = 1e-6"
   ]
  },
  {
   "cell_type": "code",
   "execution_count": 69,
   "metadata": {},
   "outputs": [
    {
     "name": "stderr",
     "output_type": "stream",
     "text": [
      "C:\\Users\\Rache\\Anaconda3\\lib\\site-packages\\ipykernel_launcher.py:9: UserWarning: To copy construct from a tensor, it is recommended to use sourceTensor.clone().detach() or sourceTensor.clone().detach().requires_grad_(True), rather than torch.tensor(sourceTensor).\n",
      "  if __name__ == '__main__':\n"
     ]
    },
    {
     "name": "stdout",
     "output_type": "stream",
     "text": [
      "[1,  2000] loss: 0.709\n",
      "[1,  4000] loss: 0.730\n",
      "[1,  6000] loss: 0.751\n",
      "[1,  8000] loss: 0.751\n",
      "[1, 10000] loss: 0.775\n",
      "[1, 12000] loss: 0.760\n",
      "[2,  2000] loss: 0.698\n",
      "[2,  4000] loss: 0.743\n",
      "[2,  6000] loss: 0.741\n",
      "[2,  8000] loss: 0.756\n",
      "[2, 10000] loss: 0.760\n",
      "[2, 12000] loss: 0.756\n",
      "Finished Training\n"
     ]
    }
   ],
   "source": [
    "for epoch in range(2): \n",
    "    learning_rate =1e-3\n",
    "    optimizer = torch.optim.SGD(model.parameters(),lr=learning_rate,weight_decay=1e-6)\n",
    "    \n",
    "    running_loss = 0.0\n",
    "    for i, data in enumerate(trainloader, 0):\n",
    "        inputs, labels = data\n",
    "        X = inputs.reshape(-1,32*32*3)\n",
    "        x = torch.tensor(X)\n",
    "        y_pred = model(x)\n",
    "        loss = criterion(y_pred,labels)\n",
    "    \n",
    "        loss.backward()\n",
    "    \n",
    "        optimizer.step()\n",
    "        optimizer.zero_grad()\n",
    "        \n",
    "        running_loss += loss.item()\n",
    "        if i % 2000 == 1999:    # print every 2000 mini-batches\n",
    "            print('[%d, %5d] loss: %.3f' %\n",
    "                  (epoch + 1, i + 1, running_loss / 2000))\n",
    "            running_loss = 0.0\n",
    "\n",
    "print('Finished Training')"
   ]
  },
  {
   "cell_type": "code",
   "execution_count": 70,
   "metadata": {},
   "outputs": [
    {
     "name": "stdout",
     "output_type": "stream",
     "text": [
      "Accuracy of the network on the 10000 test images: 49 %\n"
     ]
    }
   ],
   "source": [
    "correct = 0\n",
    "total = 0\n",
    "with torch.no_grad():\n",
    "    for data in testloader:\n",
    "        images, labels = data\n",
    "        X = images.reshape(-1,32*32*3)\n",
    "        outputs = model(X)\n",
    "        _, predicted = torch.max(outputs.data, 1)\n",
    "        total += labels.size(0)\n",
    "        correct += (predicted == labels).sum().item()\n",
    "\n",
    "print('Accuracy of the network on the 10000 test images: %d %%' % (\n",
    "    100 * correct / total))"
   ]
  },
  {
   "cell_type": "code",
   "execution_count": 71,
   "metadata": {},
   "outputs": [
    {
     "name": "stdout",
     "output_type": "stream",
     "text": [
      "Accuracy of plane : 52 %\n",
      "Accuracy of   car : 60 %\n",
      "Accuracy of  bird : 39 %\n",
      "Accuracy of   cat : 34 %\n",
      "Accuracy of  deer : 50 %\n",
      "Accuracy of   dog : 33 %\n",
      "Accuracy of  frog : 52 %\n",
      "Accuracy of horse : 54 %\n",
      "Accuracy of  ship : 64 %\n",
      "Accuracy of truck : 49 %\n"
     ]
    }
   ],
   "source": [
    "class_correct = list(0. for i in range(10))\n",
    "class_total = list(0. for i in range(10))\n",
    "with torch.no_grad():\n",
    "    for data in testloader:\n",
    "        images, labels = data\n",
    "        X = images.reshape(-1,32*32*3)\n",
    "        outputs = model(X)\n",
    "        _, predicted = torch.max(outputs, 1)\n",
    "        c = (predicted == labels).squeeze()\n",
    "        for i in range(4):\n",
    "            label = labels[i]\n",
    "            class_correct[label] += c[i].item()\n",
    "            class_total[label] += 1\n",
    "\n",
    "\n",
    "for i in range(10):\n",
    "    print('Accuracy of %5s : %2d %%' % (\n",
    "        classes[i], 100 * class_correct[i] / class_total[i]))"
   ]
  },
  {
   "cell_type": "markdown",
   "metadata": {},
   "source": [
    "### Face Data "
   ]
  },
  {
   "cell_type": "code",
   "execution_count": 4,
   "metadata": {},
   "outputs": [],
   "source": [
    "root_dir='./main_dir'"
   ]
  },
  {
   "cell_type": "code",
   "execution_count": 5,
   "metadata": {},
   "outputs": [],
   "source": [
    "from torchvision import transforms\n",
    "transforms = transforms.Compose([Resize((32,32)),\n",
    "                                 ToTensor(),\n",
    "                                 Normalize([0.485,0.456,0.406],[0.229,0.2245,0.225])])"
   ]
  },
  {
   "cell_type": "code",
   "execution_count": 6,
   "metadata": {},
   "outputs": [],
   "source": [
    "trainset = torchvision.datasets.ImageFolder(root=os.path.join(root_dir,'train_dir'),\n",
    "                                            transform=transforms)"
   ]
  },
  {
   "cell_type": "code",
   "execution_count": 7,
   "metadata": {},
   "outputs": [],
   "source": [
    "trainloader = torch.utils.data.DataLoader(trainset, batch_size=4,\n",
    "                                          shuffle=True, num_workers=2)"
   ]
  },
  {
   "cell_type": "code",
   "execution_count": 8,
   "metadata": {},
   "outputs": [],
   "source": [
    "testset = torchvision.datasets.ImageFolder(root=os.path.join(root_dir,'test_dir'), \n",
    "                                           transform=transforms)"
   ]
  },
  {
   "cell_type": "code",
   "execution_count": 9,
   "metadata": {},
   "outputs": [],
   "source": [
    "testloader = torch.utils.data.DataLoader(testset, batch_size=4,\n",
    "                                         shuffle=False, num_workers=2)"
   ]
  },
  {
   "cell_type": "code",
   "execution_count": 10,
   "metadata": {},
   "outputs": [],
   "source": [
    "classes = ('face','nonface')"
   ]
  },
  {
   "cell_type": "code",
   "execution_count": 11,
   "metadata": {},
   "outputs": [
    {
     "data": {
      "text/plain": [
       "Dataset ImageFolder\n",
       "    Number of datapoints: 2000\n",
       "    Root location: ./main_dir\\train_dir\n",
       "    StandardTransform\n",
       "Transform: Compose(\n",
       "               Resize(size=(32, 32), interpolation=PIL.Image.BILINEAR)\n",
       "               ToTensor()\n",
       "               Normalize(mean=[0.485, 0.456, 0.406], std=[0.229, 0.2245, 0.225])\n",
       "           )"
      ]
     },
     "execution_count": 11,
     "metadata": {},
     "output_type": "execute_result"
    }
   ],
   "source": [
    "trainset"
   ]
  },
  {
   "cell_type": "code",
   "execution_count": 12,
   "metadata": {},
   "outputs": [],
   "source": [
    "inputSize = 32*32*3\n",
    "outputSize = 2\n",
    "hiddenSize = 10"
   ]
  },
  {
   "cell_type": "code",
   "execution_count": 13,
   "metadata": {},
   "outputs": [
    {
     "name": "stdout",
     "output_type": "stream",
     "text": [
      "Sequential(\n",
      "  (0): Linear(in_features=3072, out_features=10, bias=True)\n",
      "  (1): ReLU()\n",
      "  (2): Linear(in_features=10, out_features=2, bias=True)\n",
      "  (3): LogSoftmax()\n",
      ")\n"
     ]
    }
   ],
   "source": [
    "from torch import nn\n",
    "model = torch.nn.Sequential(\n",
    "    torch.nn.Linear(inputSize,hiddenSize),\n",
    "    torch.nn.ReLU(),\n",
    "    torch.nn.Linear(hiddenSize,outputSize),\n",
    "    torch.nn.LogSoftmax(dim=1))\n",
    "print(model)"
   ]
  },
  {
   "cell_type": "markdown",
   "metadata": {},
   "source": [
    "model = torch.nn.Sequential(\n",
    "    torch.nn.Linear(inputSize,hiddenSize),\n",
    "    torch.nn.Sigmoid(),\n",
    "    torch.nn.Linear(hiddenSize,outputSize)) \n",
    "print(model)"
   ]
  },
  {
   "cell_type": "code",
   "execution_count": 14,
   "metadata": {},
   "outputs": [],
   "source": [
    "W1 = torch.randn(inputSize, hiddenSize, requires_grad=True)\n",
    "#W1.requires_grad_()\n",
    "W2 = torch.randn(hiddenSize,outputSize, requires_grad=True)\n",
    "#W2.requires_grad_()"
   ]
  },
  {
   "cell_type": "code",
   "execution_count": 15,
   "metadata": {},
   "outputs": [],
   "source": [
    "criterion = nn.CrossEntropyLoss()"
   ]
  },
  {
   "cell_type": "code",
   "execution_count": 16,
   "metadata": {},
   "outputs": [
    {
     "name": "stderr",
     "output_type": "stream",
     "text": [
      "Clipping input data to the valid range for imshow with RGB data ([0..1] for floats or [0..255] for integers).\n"
     ]
    },
    {
     "data": {
      "image/png": "[encoded data removed]",
      "text/plain": [
       "<Figure size 432x288 with 1 Axes>"
      ]
     },
     "metadata": {
      "needs_background": "light"
     },
     "output_type": "display_data"
    },
    {
     "name": "stdout",
     "output_type": "stream",
     "text": [
      "nonface  face nonface  face\n"
     ]
    }
   ],
   "source": [
    "import matplotlib.pyplot as plt\n",
    "import numpy as np\n",
    "\n",
    "# functions to show an image\n",
    "\n",
    "\n",
    "def imshow(img):\n",
    "    img = img / 2 + 0.5     # unnormalize\n",
    "    npimg = img.numpy()\n",
    "    plt.imshow(np.transpose(npimg, (1, 2, 0)))\n",
    "    plt.show()\n",
    "\n",
    "\n",
    "# get some random training images\n",
    "dataiter = iter(trainloader)\n",
    "images, labels = dataiter.next()\n",
    "\n",
    "# show images\n",
    "imshow(torchvision.utils.make_grid(images))\n",
    "# print labels\n",
    "print(' '.join('%5s' % classes[labels[j]] for j in range(4)))"
   ]
  },
  {
   "cell_type": "code",
   "execution_count": 18,
   "metadata": {},
   "outputs": [
    {
     "name": "stderr",
     "output_type": "stream",
     "text": [
      "C:\\Users\\Rache\\Anaconda3\\lib\\site-packages\\ipykernel_launcher.py:10: UserWarning: To copy construct from a tensor, it is recommended to use sourceTensor.clone().detach() or sourceTensor.clone().detach().requires_grad_(True), rather than torch.tensor(sourceTensor).\n",
      "  # Remove the CWD from sys.path while we load stuff.\n"
     ]
    },
    {
     "name": "stdout",
     "output_type": "stream",
     "text": [
      "[1,   200] loss: 0.063\n",
      "[1,   400] loss: 0.065\n",
      "[2,   200] loss: 0.061\n",
      "[2,   400] loss: 0.063\n",
      "[3,   200] loss: 0.056\n",
      "[3,   400] loss: 0.064\n",
      "[4,   200] loss: 0.057\n",
      "[4,   400] loss: 0.062\n",
      "[5,   200] loss: 0.057\n",
      "[5,   400] loss: 0.062\n",
      "Finished Training\n"
     ]
    }
   ],
   "source": [
    "for epoch in range(5): \n",
    "    learning_rate = 6e-6\n",
    "    weight_decay =0.004167\n",
    "    optimizer = torch.optim.SGD(model.parameters(),lr=learning_rate, weight_decay = weight_decay)\n",
    "    \n",
    "    running_loss = 0.0\n",
    "    for i, data in enumerate(trainloader, 0):\n",
    "        inputs, labels = data\n",
    "        X = inputs.reshape(-1,inputSize)\n",
    "        x = torch.tensor(X)\n",
    "        y_pred = model(x)\n",
    "        loss = criterion(y_pred,labels)\n",
    "    \n",
    "        loss.backward()\n",
    "    \n",
    "        optimizer.step()\n",
    "        optimizer.zero_grad()\n",
    "        \n",
    "        running_loss += loss.item()\n",
    "        if i % 200 == 199:    # print every 2000 mini-batches\n",
    "            print('[%d, %5d] loss: %.3f' %\n",
    "                  (epoch + 1, i + 1, running_loss / 200))\n",
    "            running_loss = 0.0\n",
    "\n",
    "print('Finished Training')"
   ]
  },
  {
   "cell_type": "code",
   "execution_count": 19,
   "metadata": {},
   "outputs": [
    {
     "name": "stdout",
     "output_type": "stream",
     "text": [
      "Accuracy of the network on the 10000 test images: 98 %\n"
     ]
    }
   ],
   "source": [
    "correct = 0\n",
    "total = 0\n",
    "with torch.no_grad():\n",
    "    for data in trainloader:\n",
    "        images, labels = data\n",
    "        X = images.reshape(-1,inputSize)\n",
    "        outputs = model(X)\n",
    "        _, predicted = torch.max(outputs.data, 1)\n",
    "        total += labels.size(0)\n",
    "        correct += (predicted == labels).sum().item()\n",
    "\n",
    "print('Accuracy of the network on the 10000 test images: %d %%' % (\n",
    "    100 * correct / total))"
   ]
  },
  {
   "cell_type": "code",
   "execution_count": 20,
   "metadata": {},
   "outputs": [
    {
     "name": "stdout",
     "output_type": "stream",
     "text": [
      "Accuracy : 97 %\n"
     ]
    }
   ],
   "source": [
    "correct = 0\n",
    "total = 0\n",
    "with torch.no_grad():\n",
    "    for data in testloader:\n",
    "        images, labels = data\n",
    "        X = images.reshape(-1,inputSize)\n",
    "        outputs = model(X)\n",
    "        _, predicted = torch.max(outputs.data, 1)\n",
    "        total += labels.size(0)\n",
    "        correct += (predicted == labels).sum().item()\n",
    "\n",
    "print('Accuracy : %d %%' % (100 * correct / total))"
   ]
  },
  {
   "cell_type": "code",
   "execution_count": 21,
   "metadata": {},
   "outputs": [
    {
     "name": "stdout",
     "output_type": "stream",
     "text": [
      "Accuracy of  face : 96 %\n",
      "Accuracy of nonface : 98 %\n"
     ]
    }
   ],
   "source": [
    "class_correct = list(0. for i in range(10))\n",
    "class_total = list(0. for i in range(10))\n",
    "with torch.no_grad():\n",
    "    for data in testloader:\n",
    "        images, labels = data\n",
    "        X = images.reshape(-1,inputSize)\n",
    "        outputs = model(X)\n",
    "        _, predicted = torch.max(outputs, 1)\n",
    "        c = (predicted == labels).squeeze()\n",
    "        for i in range(4):\n",
    "            label = labels[i]\n",
    "            class_correct[label] += c[i].item()\n",
    "            class_total[label] += 1\n",
    "\n",
    "for i in range(2):\n",
    "    print('Accuracy of %5s : %2d %%' % (\n",
    "        classes[i], 100 * class_correct[i] / class_total[i]))"
   ]
  },
  {
   "cell_type": "markdown",
   "metadata": {},
   "source": [
    "with regularization weight_rate"
   ]
  },
  {
   "cell_type": "markdown",
   "metadata": {},
   "source": [
    "### Data Augmentation \n",
    "\n",
    "- Data augmentation is a strategy that enables practitioners to significantly increase the diversity of data available for training models, without actually collecting new data.\n",
    "- Data augmentation techniques such as cropping, padding, and horizontal flipping are commonly used to train large neural networks. "
   ]
  },
  {
   "cell_type": "markdown",
   "metadata": {},
   "source": [
    "### Random Crops"
   ]
  },
  {
   "cell_type": "code",
   "execution_count": 22,
   "metadata": {},
   "outputs": [],
   "source": [
    "from torchvision import transforms\n",
    "from torchvision.transforms import RandomCrop\n",
    "transforms = transforms.Compose([RandomCrop(20,20),\n",
    "                                ToTensor(),\n",
    "                                Normalize([0.485,0.456,0.406],[0.229,0.2245,0.225])\n",
    "                               ])"
   ]
  },
  {
   "cell_type": "code",
   "execution_count": 23,
   "metadata": {},
   "outputs": [],
   "source": [
    "trainset = torchvision.datasets.ImageFolder(root=os.path.join(root_dir,'train_dir'),\n",
    "                                            transform=transforms)\n",
    "trainloader = torch.utils.data.DataLoader(trainset, batch_size=4,\n",
    "                                          shuffle=True, num_workers=2)"
   ]
  },
  {
   "cell_type": "code",
   "execution_count": 24,
   "metadata": {},
   "outputs": [
    {
     "data": {
      "text/plain": [
       "Dataset ImageFolder\n",
       "    Number of datapoints: 2000\n",
       "    Root location: ./main_dir\\train_dir\n",
       "    StandardTransform\n",
       "Transform: Compose(\n",
       "               RandomCrop(size=(20, 20), padding=20)\n",
       "               ToTensor()\n",
       "               Normalize(mean=[0.485, 0.456, 0.406], std=[0.229, 0.2245, 0.225])\n",
       "           )"
      ]
     },
     "execution_count": 24,
     "metadata": {},
     "output_type": "execute_result"
    }
   ],
   "source": [
    "trainset"
   ]
  },
  {
   "cell_type": "code",
   "execution_count": 25,
   "metadata": {},
   "outputs": [],
   "source": [
    "from torchvision import transforms\n",
    "transforms = transforms.Compose([Resize((20,20)),\n",
    "                                 ToTensor(),\n",
    "                                 Normalize([0.485,0.456,0.406],[0.229,0.2245,0.225])])"
   ]
  },
  {
   "cell_type": "code",
   "execution_count": 26,
   "metadata": {},
   "outputs": [],
   "source": [
    "testset = torchvision.datasets.ImageFolder(root=os.path.join(root_dir,'test_dir'), \n",
    "                                           transform=transforms)\n",
    "testloader = torch.utils.data.DataLoader(testset, batch_size=4,\n",
    "                                         shuffle=False, num_workers=2)"
   ]
  },
  {
   "cell_type": "code",
   "execution_count": 27,
   "metadata": {},
   "outputs": [],
   "source": [
    "classes = ('face','nonface')"
   ]
  },
  {
   "cell_type": "code",
   "execution_count": 28,
   "metadata": {},
   "outputs": [
    {
     "name": "stderr",
     "output_type": "stream",
     "text": [
      "Clipping input data to the valid range for imshow with RGB data ([0..1] for floats or [0..255] for integers).\n"
     ]
    },
    {
     "data": {
      "image/png": "[encoded data removed]",
      "text/plain": [
       "<Figure size 432x288 with 1 Axes>"
      ]
     },
     "metadata": {
      "needs_background": "light"
     },
     "output_type": "display_data"
    },
    {
     "name": "stdout",
     "output_type": "stream",
     "text": [
      " face nonface  face nonface\n"
     ]
    }
   ],
   "source": [
    "import matplotlib.pyplot as plt\n",
    "import numpy as np\n",
    "\n",
    "# functions to show an image\n",
    "def imshow(img):\n",
    "    img = img / 2 + 0.5     # unnormalize\n",
    "    npimg = img.numpy()\n",
    "    plt.imshow(np.transpose(npimg, (1, 2, 0)))\n",
    "    plt.show()\n",
    "\n",
    "\n",
    "# get some random training images\n",
    "dataiter = iter(trainloader)\n",
    "images, labels = dataiter.next()\n",
    "\n",
    "# show images\n",
    "imshow(torchvision.utils.make_grid(images))\n",
    "# print labels\n",
    "print(' '.join('%5s' % classes[labels[j]] for j in range(4)))"
   ]
  },
  {
   "cell_type": "code",
   "execution_count": 29,
   "metadata": {},
   "outputs": [
    {
     "name": "stderr",
     "output_type": "stream",
     "text": [
      "Clipping input data to the valid range for imshow with RGB data ([0..1] for floats or [0..255] for integers).\n"
     ]
    },
    {
     "data": {
      "image/png": "[encoded data removed]",
      "text/plain": [
       "<Figure size 432x288 with 1 Axes>"
      ]
     },
     "metadata": {
      "needs_background": "light"
     },
     "output_type": "display_data"
    },
    {
     "name": "stdout",
     "output_type": "stream",
     "text": [
      " face  face  face  face\n"
     ]
    }
   ],
   "source": [
    "# get some random training images\n",
    "dataiter = iter(testloader)\n",
    "images, labels = dataiter.next()\n",
    "\n",
    "# show images\n",
    "imshow(torchvision.utils.make_grid(images))\n",
    "# print labels\n",
    "print(' '.join('%5s' % classes[labels[j]] for j in range(4)))"
   ]
  },
  {
   "cell_type": "code",
   "execution_count": 30,
   "metadata": {},
   "outputs": [],
   "source": [
    "inputSize = 20*20*3\n",
    "outputSize = 2\n",
    "hiddenSize = 10"
   ]
  },
  {
   "cell_type": "code",
   "execution_count": 31,
   "metadata": {},
   "outputs": [
    {
     "name": "stdout",
     "output_type": "stream",
     "text": [
      "Sequential(\n",
      "  (0): Linear(in_features=1200, out_features=10, bias=True)\n",
      "  (1): ReLU()\n",
      "  (2): Linear(in_features=10, out_features=2, bias=True)\n",
      "  (3): LogSoftmax()\n",
      ")\n"
     ]
    }
   ],
   "source": [
    "from torch import nn\n",
    "model = torch.nn.Sequential(\n",
    "    torch.nn.Linear(inputSize,hiddenSize),\n",
    "    torch.nn.ReLU(),\n",
    "    torch.nn.Linear(hiddenSize,outputSize),\n",
    "    torch.nn.LogSoftmax(dim=1))\n",
    "print(model)"
   ]
  },
  {
   "cell_type": "code",
   "execution_count": 44,
   "metadata": {},
   "outputs": [
    {
     "name": "stderr",
     "output_type": "stream",
     "text": [
      "C:\\Users\\Rache\\Anaconda3\\lib\\site-packages\\ipykernel_launcher.py:10: UserWarning: To copy construct from a tensor, it is recommended to use sourceTensor.clone().detach() or sourceTensor.clone().detach().requires_grad_(True), rather than torch.tensor(sourceTensor).\n",
      "  # Remove the CWD from sys.path while we load stuff.\n"
     ]
    },
    {
     "name": "stdout",
     "output_type": "stream",
     "text": [
      "(epoch: 1, 0.74)\n",
      "(epoch: 1, 0.70)\n",
      "(epoch: 2, 0.71)\n",
      "(epoch: 2, 0.71)\n",
      "(epoch: 3, 0.69)\n",
      "(epoch: 3, 0.69)\n",
      "(epoch: 4, 0.69)\n",
      "(epoch: 4, 0.69)\n",
      "(epoch: 5, 0.69)\n",
      "(epoch: 5, 0.69)\n",
      "Finished Training\n"
     ]
    }
   ],
   "source": [
    "for epoch in range(5): \n",
    "    learning_rate = 1e-2\n",
    "    optimizer = torch.optim.SGD(model.parameters(),lr=learning_rate, weight_decay=0.01)\n",
    "    \n",
    "    running_loss = 0.0\n",
    "    #running_accuracy = 0.0\n",
    "    for i, data in enumerate(trainloader, 0):\n",
    "        inputs, labels = data\n",
    "        X = inputs.reshape(-1,inputSize)\n",
    "        x = torch.tensor(X)\n",
    "        y_pred = model(x)\n",
    "        loss = criterion(y_pred,labels)\n",
    "    \n",
    "        loss.backward()\n",
    "    \n",
    "        optimizer.step()\n",
    "        optimizer.zero_grad()\n",
    "        \n",
    "        running_loss += loss.item()\n",
    "        #running_accuracy +=acc.item()\n",
    "        if i % 200 == 199:    # print every 2000 mini-batches\n",
    "            print(f'(epoch: {epoch + 1}, {running_loss / 200:.2f})')\n",
    "            running_loss = 0.0\n",
    "\n",
    "print('Finished Training')"
   ]
  },
  {
   "cell_type": "code",
   "execution_count": 45,
   "metadata": {},
   "outputs": [
    {
     "name": "stdout",
     "output_type": "stream",
     "text": [
      "Accuracy : 57 %\n"
     ]
    }
   ],
   "source": [
    "correct = 0\n",
    "total = 0\n",
    "with torch.no_grad(): # we dont use back propagation during interference\n",
    "    for data in testloader:\n",
    "        images, labels = data\n",
    "        X = images.reshape(-1,inputSize)\n",
    "        outputs = model(X)\n",
    "        _, predicted = torch.max(outputs.data, 1)\n",
    "        total += labels.size(0)\n",
    "        correct += (predicted == labels).sum().item()\n",
    "\n",
    "print('Accuracy : %d %%' % (100 * correct / total))"
   ]
  },
  {
   "cell_type": "code",
   "execution_count": 46,
   "metadata": {},
   "outputs": [
    {
     "name": "stdout",
     "output_type": "stream",
     "text": [
      "Accuracy of  face : 86 %\n",
      "Accuracy of nonface : 28 %\n"
     ]
    }
   ],
   "source": [
    "class_correct = list(0. for i in range(2))\n",
    "class_total = list(0. for i in range(2))\n",
    "with torch.no_grad():\n",
    "    for data in testloader:\n",
    "        images, labels = data\n",
    "        X = images.reshape(-1,inputSize)\n",
    "        outputs = model(X)\n",
    "        _, predicted = torch.max(outputs, 1)\n",
    "        c = (predicted == labels).squeeze()\n",
    "        for i in range(4):\n",
    "            label = labels[i]\n",
    "            class_correct[label] += c[i].item()\n",
    "            class_total[label] += 1\n",
    "\n",
    "\n",
    "for i in range(2):\n",
    "    print('Accuracy of %5s : %2d %%' % (\n",
    "        classes[i], 100 * class_correct[i] / class_total[i]))"
   ]
  },
  {
   "cell_type": "markdown",
   "metadata": {},
   "source": [
    "### Horizontal Flip"
   ]
  },
  {
   "cell_type": "code",
   "execution_count": 47,
   "metadata": {},
   "outputs": [],
   "source": [
    "from torchvision import transforms\n",
    "transforms = transforms.Compose([Resize((32,32)),\n",
    "                                 transforms.RandomHorizontalFlip(),\n",
    "                                 ToTensor(),\n",
    "                                 Normalize([0.485,0.456,0.406],[0.229,0.2245,0.225])])"
   ]
  },
  {
   "cell_type": "code",
   "execution_count": 48,
   "metadata": {},
   "outputs": [],
   "source": [
    "trainset = torchvision.datasets.ImageFolder(root=os.path.join(root_dir,'train_dir'),\n",
    "                                            transform=transforms)\n",
    "trainloader = torch.utils.data.DataLoader(trainset, batch_size=4,\n",
    "                                          shuffle=True, num_workers=2)"
   ]
  },
  {
   "cell_type": "code",
   "execution_count": 49,
   "metadata": {},
   "outputs": [],
   "source": [
    "from torchvision import transforms\n",
    "transforms = transforms.Compose([Resize((32,32)),\n",
    "                                 ToTensor(),\n",
    "                                 Normalize([0.485,0.456,0.406],[0.229,0.2245,0.225])])"
   ]
  },
  {
   "cell_type": "code",
   "execution_count": 50,
   "metadata": {},
   "outputs": [],
   "source": [
    "testset = torchvision.datasets.ImageFolder(root=os.path.join(root_dir,'test_dir'), \n",
    "                                           transform=transforms)\n",
    "testloader = torch.utils.data.DataLoader(testset, batch_size=4,\n",
    "                                         shuffle=False, num_workers=2)"
   ]
  },
  {
   "cell_type": "code",
   "execution_count": 51,
   "metadata": {},
   "outputs": [],
   "source": [
    "classes = ('face','nonface')"
   ]
  },
  {
   "cell_type": "code",
   "execution_count": 52,
   "metadata": {},
   "outputs": [],
   "source": [
    "inputSize = 32*32*3\n",
    "outputSize = 2\n",
    "hiddenSize = 10"
   ]
  },
  {
   "cell_type": "code",
   "execution_count": 53,
   "metadata": {},
   "outputs": [
    {
     "name": "stdout",
     "output_type": "stream",
     "text": [
      "Sequential(\n",
      "  (0): Linear(in_features=3072, out_features=10, bias=True)\n",
      "  (1): ReLU()\n",
      "  (2): Linear(in_features=10, out_features=2, bias=True)\n",
      "  (3): LogSoftmax()\n",
      ")\n"
     ]
    }
   ],
   "source": [
    "from torch import nn\n",
    "model = torch.nn.Sequential(\n",
    "    torch.nn.Linear(inputSize,hiddenSize),\n",
    "    torch.nn.ReLU(),\n",
    "    torch.nn.Linear(hiddenSize,outputSize),\n",
    "    torch.nn.LogSoftmax(dim=1))\n",
    "print(model)"
   ]
  },
  {
   "cell_type": "code",
   "execution_count": 54,
   "metadata": {},
   "outputs": [
    {
     "name": "stderr",
     "output_type": "stream",
     "text": [
      "Clipping input data to the valid range for imshow with RGB data ([0..1] for floats or [0..255] for integers).\n"
     ]
    },
    {
     "data": {
      "image/png": "[encoded data removed]",
      "text/plain": [
       "<Figure size 432x288 with 1 Axes>"
      ]
     },
     "metadata": {
      "needs_background": "light"
     },
     "output_type": "display_data"
    },
    {
     "name": "stdout",
     "output_type": "stream",
     "text": [
      "nonface nonface nonface nonface\n"
     ]
    }
   ],
   "source": [
    "import matplotlib.pyplot as plt\n",
    "import numpy as np\n",
    "\n",
    "# functions to show an image\n",
    "def imshow(img):\n",
    "    img = img / 2 + 0.5     # unnormalize\n",
    "    npimg = img.numpy()\n",
    "    plt.imshow(np.transpose(npimg, (1, 2, 0)))\n",
    "    plt.show()\n",
    "\n",
    "# get some random training images\n",
    "dataiter = iter(trainloader)\n",
    "images, labels = dataiter.next()\n",
    "\n",
    "# show images\n",
    "imshow(torchvision.utils.make_grid(images))\n",
    "# print labels\n",
    "print(' '.join('%5s' % classes[labels[j]] for j in range(4)))"
   ]
  },
  {
   "cell_type": "code",
   "execution_count": 56,
   "metadata": {},
   "outputs": [
    {
     "name": "stderr",
     "output_type": "stream",
     "text": [
      "C:\\Users\\Rache\\Anaconda3\\lib\\site-packages\\ipykernel_launcher.py:10: UserWarning: To copy construct from a tensor, it is recommended to use sourceTensor.clone().detach() or sourceTensor.clone().detach().requires_grad_(True), rather than torch.tensor(sourceTensor).\n",
      "  # Remove the CWD from sys.path while we load stuff.\n"
     ]
    },
    {
     "name": "stdout",
     "output_type": "stream",
     "text": [
      "(epoch: 1, 0.08)\n",
      "(epoch: 1, 0.07)\n",
      "(epoch: 2, 0.09)\n",
      "(epoch: 2, 0.07)\n",
      "(epoch: 3, 0.09)\n",
      "(epoch: 3, 0.07)\n",
      "(epoch: 4, 0.08)\n",
      "(epoch: 4, 0.08)\n",
      "(epoch: 5, 0.07)\n",
      "(epoch: 5, 0.07)\n",
      "Finished Training\n"
     ]
    }
   ],
   "source": [
    "for epoch in range(5): \n",
    "    learning_rate = 6e-6\n",
    "    optimizer = torch.optim.SGD(model.parameters(),lr=learning_rate, weight_decay=0.004167)\n",
    "    \n",
    "    running_loss = 0.0\n",
    "    #running_accuracy = 0.0\n",
    "    for i, data in enumerate(trainloader, 0):\n",
    "        inputs, labels = data\n",
    "        X = inputs.reshape(-1,inputSize)\n",
    "        x = torch.tensor(X)\n",
    "        y_pred = model(x)\n",
    "        loss = criterion(y_pred,labels)\n",
    "    \n",
    "        loss.backward()\n",
    "    \n",
    "        optimizer.step()\n",
    "        optimizer.zero_grad()\n",
    "        \n",
    "        running_loss += loss.item()\n",
    "        #running_accuracy +=acc.item()\n",
    "        if i % 200 == 199:    # print every 2000 mini-batches\n",
    "            print(f'(epoch: {epoch + 1}, {running_loss / 200:.2f})')\n",
    "            running_loss = 0.0\n",
    "\n",
    "print('Finished Training')"
   ]
  },
  {
   "cell_type": "code",
   "execution_count": 57,
   "metadata": {},
   "outputs": [
    {
     "name": "stdout",
     "output_type": "stream",
     "text": [
      "Accuracy : 97 %\n"
     ]
    }
   ],
   "source": [
    "correct = 0\n",
    "total = 0\n",
    "with torch.no_grad(): # we dont use back propagation during interference\n",
    "    for data in testloader:\n",
    "        images, labels = data\n",
    "        X = images.reshape(-1,inputSize)\n",
    "        outputs = model(X)\n",
    "        _, predicted = torch.max(outputs.data, 1)\n",
    "        total += labels.size(0)\n",
    "        correct += (predicted == labels).sum().item()\n",
    "\n",
    "print('Accuracy : %d %%' % (100 * correct / total))"
   ]
  },
  {
   "cell_type": "code",
   "execution_count": 58,
   "metadata": {},
   "outputs": [
    {
     "name": "stdout",
     "output_type": "stream",
     "text": [
      "Accuracy of  face : 96 %\n",
      "Accuracy of nonface : 99 %\n"
     ]
    }
   ],
   "source": [
    "class_correct = list(0. for i in range(2))\n",
    "class_total = list(0. for i in range(2))\n",
    "with torch.no_grad():\n",
    "    for data in testloader:\n",
    "        images, labels = data\n",
    "        X = images.reshape(-1,inputSize)\n",
    "        outputs = model(X)\n",
    "        _, predicted = torch.max(outputs, 1)\n",
    "        c = (predicted == labels).squeeze()\n",
    "        for i in range(4):\n",
    "            label = labels[i]\n",
    "            class_correct[label] += c[i].item()\n",
    "            class_total[label] += 1\n",
    "\n",
    "\n",
    "for i in range(2):\n",
    "    print('Accuracy of %5s : %2d %%' % (\n",
    "        classes[i], 100 * class_correct[i] / class_total[i]))"
   ]
  },
  {
   "cell_type": "markdown",
   "metadata": {},
   "source": [
    "### Architecture Selection"
   ]
  },
  {
   "cell_type": "code",
   "execution_count": 59,
   "metadata": {},
   "outputs": [],
   "source": [
    "inputSize = 32*32*3\n",
    "hiddenSize_1 = 100\n",
    "hiddenSize_2 = 50 \n",
    "outputSize = 2"
   ]
  },
  {
   "cell_type": "code",
   "execution_count": 60,
   "metadata": {},
   "outputs": [
    {
     "name": "stdout",
     "output_type": "stream",
     "text": [
      "Sequential(\n",
      "  (0): Linear(in_features=3072, out_features=100, bias=True)\n",
      "  (1): ReLU()\n",
      "  (2): Linear(in_features=100, out_features=50, bias=True)\n",
      "  (3): ReLU()\n",
      "  (4): Linear(in_features=50, out_features=2, bias=True)\n",
      "  (5): LogSoftmax()\n",
      ")\n"
     ]
    }
   ],
   "source": [
    "from torch import nn\n",
    "model = torch.nn.Sequential(\n",
    "    torch.nn.Linear(inputSize,hiddenSize_1),\n",
    "    torch.nn.ReLU(),\n",
    "    torch.nn.Linear(hiddenSize_1,hiddenSize_2),\n",
    "    torch.nn.ReLU(),\n",
    "    torch.nn.Linear(hiddenSize_2,outputSize),\n",
    "    torch.nn.LogSoftmax(dim=1))\n",
    "print(model)"
   ]
  },
  {
   "cell_type": "code",
   "execution_count": 64,
   "metadata": {},
   "outputs": [
    {
     "name": "stderr",
     "output_type": "stream",
     "text": [
      "C:\\Users\\Rache\\Anaconda3\\lib\\site-packages\\ipykernel_launcher.py:10: UserWarning: To copy construct from a tensor, it is recommended to use sourceTensor.clone().detach() or sourceTensor.clone().detach().requires_grad_(True), rather than torch.tensor(sourceTensor).\n",
      "  # Remove the CWD from sys.path while we load stuff.\n"
     ]
    },
    {
     "name": "stdout",
     "output_type": "stream",
     "text": [
      "(epoch: 1, 0.09)\n",
      "(epoch: 1, 0.09)\n",
      "(epoch: 2, 0.09)\n",
      "(epoch: 2, 0.09)\n",
      "(epoch: 3, 0.09)\n",
      "(epoch: 3, 0.09)\n",
      "(epoch: 4, 0.09)\n",
      "(epoch: 4, 0.09)\n",
      "(epoch: 5, 0.08)\n",
      "(epoch: 5, 0.10)\n",
      "Finished Training\n"
     ]
    }
   ],
   "source": [
    "for epoch in range(5): \n",
    "    learning_rate = 6e-6\n",
    "    optimizer = torch.optim.SGD(model.parameters(),lr=learning_rate, weight_decay=0.004167)\n",
    "    \n",
    "    running_loss = 0.0\n",
    "    #running_accuracy = 0.0\n",
    "    for i, data in enumerate(trainloader, 0):\n",
    "        inputs, labels = data\n",
    "        X = inputs.reshape(-1,inputSize)\n",
    "        x = torch.tensor(X)\n",
    "        y_pred = model(x)\n",
    "        loss = criterion(y_pred,labels)\n",
    "    \n",
    "        loss.backward()\n",
    "    \n",
    "        optimizer.step()\n",
    "        optimizer.zero_grad()\n",
    "        \n",
    "        running_loss += loss.item()\n",
    "        #running_accuracy +=acc.item()\n",
    "        if i % 200 == 199:    # print every 2000 mini-batches\n",
    "            print(f'(epoch: {epoch + 1}, {running_loss / 200:.2f})')\n",
    "            running_loss = 0.0\n",
    "\n",
    "print('Finished Training')"
   ]
  },
  {
   "cell_type": "code",
   "execution_count": 65,
   "metadata": {},
   "outputs": [
    {
     "name": "stdout",
     "output_type": "stream",
     "text": [
      "Accuracy : 97 %\n"
     ]
    }
   ],
   "source": [
    "correct = 0\n",
    "total = 0\n",
    "with torch.no_grad(): # we dont use back propagation during interference\n",
    "    for data in testloader:\n",
    "        images, labels = data\n",
    "        X = images.reshape(-1,inputSize)\n",
    "        outputs = model(X)\n",
    "        _, predicted = torch.max(outputs.data, 1)\n",
    "        total += labels.size(0)\n",
    "        correct += (predicted == labels).sum().item()\n",
    "\n",
    "print('Accuracy : %d %%' % (100 * correct / total))"
   ]
  },
  {
   "cell_type": "code",
   "execution_count": 66,
   "metadata": {},
   "outputs": [
    {
     "name": "stdout",
     "output_type": "stream",
     "text": [
      "Accuracy of  face : 97 %\n",
      "Accuracy of nonface : 98 %\n"
     ]
    }
   ],
   "source": [
    "class_correct = list(0. for i in range(2))\n",
    "class_total = list(0. for i in range(2))\n",
    "with torch.no_grad():\n",
    "    for data in testloader:\n",
    "        images, labels = data\n",
    "        X = images.reshape(-1,inputSize)\n",
    "        outputs = model(X)\n",
    "        _, predicted = torch.max(outputs, 1)\n",
    "        c = (predicted == labels).squeeze()\n",
    "        for i in range(4):\n",
    "            label = labels[i]\n",
    "            class_correct[label] += c[i].item()\n",
    "            class_total[label] += 1\n",
    "\n",
    "\n",
    "for i in range(2):\n",
    "    print('Accuracy of %5s : %2d %%' % (\n",
    "        classes[i], 100 * class_correct[i] / class_total[i]))"
   ]
  },
  {
   "cell_type": "code",
   "execution_count": 69,
   "metadata": {},
   "outputs": [],
   "source": [
    "inputSize = 32*32*3\n",
    "hiddenSize_1 = 100\n",
    "hiddenSize_2 = 10 \n",
    "outputSize = 10"
   ]
  },
  {
   "cell_type": "code",
   "execution_count": 70,
   "metadata": {},
   "outputs": [
    {
     "name": "stdout",
     "output_type": "stream",
     "text": [
      "Sequential(\n",
      "  (0): Linear(in_features=3072, out_features=100, bias=True)\n",
      "  (1): ReLU()\n",
      "  (2): Linear(in_features=100, out_features=10, bias=True)\n",
      "  (3): ReLU()\n",
      "  (4): Linear(in_features=10, out_features=10, bias=True)\n",
      "  (5): LogSoftmax()\n",
      ")\n"
     ]
    }
   ],
   "source": [
    "from torch import nn\n",
    "model = torch.nn.Sequential(\n",
    "    torch.nn.Linear(inputSize,hiddenSize_1),\n",
    "    torch.nn.ReLU(),\n",
    "    torch.nn.Linear(hiddenSize_1,hiddenSize_2),\n",
    "    torch.nn.ReLU(),\n",
    "    torch.nn.Linear(hiddenSize_2,outputSize),\n",
    "    torch.nn.LogSoftmax(dim=1))\n",
    "print(model)"
   ]
  },
  {
   "cell_type": "code",
   "execution_count": 71,
   "metadata": {},
   "outputs": [
    {
     "name": "stdout",
     "output_type": "stream",
     "text": [
      "Files already downloaded and verified\n",
      "Files already downloaded and verified\n"
     ]
    }
   ],
   "source": [
    "import torchvision.transforms as transforms\n",
    "transform = transforms.Compose(\n",
    "    [transforms.ToTensor(),\n",
    "     transforms.Normalize((0.5, 0.5, 0.5), (0.5, 0.5, 0.5))])\n",
    "\n",
    "trainset = torchvision.datasets.CIFAR10(root='./data', train=True,\n",
    "                                        download=True, transform=transform)\n",
    "trainloader = torch.utils.data.DataLoader(trainset, batch_size=4,\n",
    "                                          shuffle=True, num_workers=2)\n",
    "\n",
    "testset = torchvision.datasets.CIFAR10(root='./data', train=False,\n",
    "                                       download=True, transform=transform)\n",
    "testloader = torch.utils.data.DataLoader(testset, batch_size=4,\n",
    "                                         shuffle=False, num_workers=2)\n",
    "\n",
    "classes = ('plane', 'car', 'bird', 'cat',\n",
    "           'deer', 'dog', 'frog', 'horse', 'ship', 'truck')"
   ]
  },
  {
   "cell_type": "code",
   "execution_count": 76,
   "metadata": {},
   "outputs": [
    {
     "name": "stderr",
     "output_type": "stream",
     "text": [
      "C:\\Users\\Rache\\Anaconda3\\lib\\site-packages\\ipykernel_launcher.py:10: UserWarning: To copy construct from a tensor, it is recommended to use sourceTensor.clone().detach() or sourceTensor.clone().detach().requires_grad_(True), rather than torch.tensor(sourceTensor).\n",
      "  # Remove the CWD from sys.path while we load stuff.\n"
     ]
    },
    {
     "name": "stdout",
     "output_type": "stream",
     "text": [
      "(epoch: 1, 1.73)\n",
      "(epoch: 1, 1.71)\n",
      "(epoch: 1, 1.71)\n",
      "(epoch: 1, 1.68)\n",
      "(epoch: 1, 1.65)\n",
      "(epoch: 1, 1.65)\n",
      "(epoch: 2, 1.65)\n",
      "(epoch: 2, 1.60)\n",
      "(epoch: 2, 1.59)\n",
      "(epoch: 2, 1.61)\n",
      "(epoch: 2, 1.57)\n",
      "(epoch: 2, 1.56)\n",
      "(epoch: 3, 1.55)\n",
      "(epoch: 3, 1.54)\n",
      "(epoch: 3, 1.54)\n",
      "(epoch: 3, 1.52)\n",
      "(epoch: 3, 1.53)\n",
      "(epoch: 3, 1.51)\n",
      "(epoch: 4, 1.49)\n",
      "(epoch: 4, 1.48)\n",
      "(epoch: 4, 1.48)\n",
      "(epoch: 4, 1.48)\n",
      "(epoch: 4, 1.48)\n",
      "(epoch: 4, 1.46)\n",
      "(epoch: 5, 1.44)\n",
      "(epoch: 5, 1.44)\n",
      "(epoch: 5, 1.46)\n",
      "(epoch: 5, 1.43)\n",
      "(epoch: 5, 1.43)\n",
      "(epoch: 5, 1.42)\n",
      "Finished Training\n"
     ]
    }
   ],
   "source": [
    "for epoch in range(5): \n",
    "    learning_rate = 6e-6\n",
    "    optimizer = torch.optim.SGD(model.parameters(),lr=learning_rate, weight_decay=0.004167)\n",
    "    \n",
    "    running_loss = 0.0\n",
    "    #running_accuracy = 0.0\n",
    "    for i, data in enumerate(trainloader, 0):\n",
    "        inputs, labels = data\n",
    "        X = inputs.reshape(-1,inputSize)\n",
    "        x = torch.tensor(X)\n",
    "        y_pred = model(x)\n",
    "        loss = criterion(y_pred,labels)\n",
    "    \n",
    "        loss.backward()\n",
    "    \n",
    "        optimizer.step()\n",
    "        optimizer.zero_grad()\n",
    "        \n",
    "        running_loss += loss.item()\n",
    "        #running_accuracy +=acc.item()\n",
    "        if i % 2000 == 1999:    # print every 2000 mini-batches\n",
    "            print(f'(epoch: {epoch + 1}, {running_loss / 2000:.2f})')\n",
    "            running_loss = 0.0\n",
    "\n",
    "print('Finished Training')"
   ]
  },
  {
   "cell_type": "code",
   "execution_count": 77,
   "metadata": {},
   "outputs": [
    {
     "name": "stdout",
     "output_type": "stream",
     "text": [
      "Accuracy : 48 %\n"
     ]
    }
   ],
   "source": [
    "correct = 0\n",
    "total = 0\n",
    "with torch.no_grad(): # we dont use back propagation during interference\n",
    "    for data in testloader:\n",
    "        images, labels = data\n",
    "        X = images.reshape(-1,inputSize)\n",
    "        outputs = model(X)\n",
    "        _, predicted = torch.max(outputs.data, 1)\n",
    "        total += labels.size(0)\n",
    "        correct += (predicted == labels).sum().item()\n",
    "\n",
    "print('Accuracy : %d %%' % (100 * correct / total))"
   ]
  },
  {
   "cell_type": "code",
   "execution_count": 78,
   "metadata": {},
   "outputs": [
    {
     "name": "stdout",
     "output_type": "stream",
     "text": [
      "Accuracy of plane : 56 %\n",
      "Accuracy of   car : 62 %\n",
      "Accuracy of  bird : 31 %\n",
      "Accuracy of   cat : 29 %\n",
      "Accuracy of  deer : 34 %\n",
      "Accuracy of   dog : 38 %\n",
      "Accuracy of  frog : 59 %\n",
      "Accuracy of horse : 56 %\n",
      "Accuracy of  ship : 64 %\n",
      "Accuracy of truck : 52 %\n"
     ]
    }
   ],
   "source": [
    "class_correct = list(0. for i in range(10))\n",
    "class_total = list(0. for i in range(10))\n",
    "with torch.no_grad():\n",
    "    for data in testloader:\n",
    "        images, labels = data\n",
    "        X = images.reshape(-1,inputSize)\n",
    "        outputs = model(X)\n",
    "        _, predicted = torch.max(outputs, 1)\n",
    "        c = (predicted == labels).squeeze()\n",
    "        for i in range(4):\n",
    "            label = labels[i]\n",
    "            class_correct[label] += c[i].item()\n",
    "            class_total[label] += 1\n",
    "\n",
    "\n",
    "for i in range(10):\n",
    "    print('Accuracy of %5s : %2d %%' % (\n",
    "        classes[i], 100 * class_correct[i] / class_total[i]))"
   ]
  },
  {
   "cell_type": "markdown",
   "metadata": {},
   "source": [
    "Different Model requires different learning rate and weight_decay "
   ]
  },
  {
   "cell_type": "code",
   "execution_count": 79,
   "metadata": {},
   "outputs": [
    {
     "name": "stderr",
     "output_type": "stream",
     "text": [
      "C:\\Users\\Rache\\Anaconda3\\lib\\site-packages\\ipykernel_launcher.py:10: UserWarning: To copy construct from a tensor, it is recommended to use sourceTensor.clone().detach() or sourceTensor.clone().detach().requires_grad_(True), rather than torch.tensor(sourceTensor).\n",
      "  # Remove the CWD from sys.path while we load stuff.\n"
     ]
    },
    {
     "name": "stdout",
     "output_type": "stream",
     "text": [
      "(epoch: 1, 1.62)\n",
      "(epoch: 1, 1.59)\n",
      "(epoch: 1, 1.55)\n",
      "(epoch: 1, 1.54)\n",
      "(epoch: 1, 1.54)\n",
      "(epoch: 1, 1.52)\n",
      "(epoch: 2, 1.45)\n",
      "(epoch: 2, 1.47)\n",
      "(epoch: 2, 1.44)\n",
      "(epoch: 2, 1.48)\n",
      "(epoch: 2, 1.44)\n",
      "(epoch: 2, 1.45)\n",
      "Finished Training\n"
     ]
    }
   ],
   "source": [
    "for epoch in range(2): \n",
    "    learning_rate = 1e-2\n",
    "    optimizer = torch.optim.SGD(model.parameters(),lr=learning_rate, weight_decay=1e-6)\n",
    "    \n",
    "    running_loss = 0.0\n",
    "    #running_accuracy = 0.0\n",
    "    for i, data in enumerate(trainloader, 0):\n",
    "        inputs, labels = data\n",
    "        X = inputs.reshape(-1,inputSize)\n",
    "        x = torch.tensor(X)\n",
    "        y_pred = model(x)\n",
    "        loss = criterion(y_pred,labels)\n",
    "    \n",
    "        loss.backward()\n",
    "    \n",
    "        optimizer.step()\n",
    "        optimizer.zero_grad()\n",
    "        \n",
    "        running_loss += loss.item()\n",
    "        #running_accuracy +=acc.item()\n",
    "        if i % 2000 == 1999:    # print every 2000 mini-batches\n",
    "            print(f'(epoch: {epoch + 1}, {running_loss / 2000:.2f})')\n",
    "            running_loss = 0.0\n",
    "\n",
    "print('Finished Training')"
   ]
  },
  {
   "cell_type": "code",
   "execution_count": 80,
   "metadata": {},
   "outputs": [
    {
     "name": "stdout",
     "output_type": "stream",
     "text": [
      "Accuracy : 47 %\n"
     ]
    }
   ],
   "source": [
    "correct = 0\n",
    "total = 0\n",
    "with torch.no_grad(): # we dont use back propagation during interference\n",
    "    for data in testloader:\n",
    "        images, labels = data\n",
    "        X = images.reshape(-1,inputSize)\n",
    "        outputs = model(X)\n",
    "        _, predicted = torch.max(outputs.data, 1)\n",
    "        total += labels.size(0)\n",
    "        correct += (predicted == labels).sum().item()\n",
    "\n",
    "print('Accuracy : %d %%' % (100 * correct / total))"
   ]
  },
  {
   "cell_type": "code",
   "execution_count": 81,
   "metadata": {},
   "outputs": [
    {
     "name": "stdout",
     "output_type": "stream",
     "text": [
      "Accuracy of plane : 47 %\n",
      "Accuracy of   car : 39 %\n",
      "Accuracy of  bird : 27 %\n",
      "Accuracy of   cat : 43 %\n",
      "Accuracy of  deer : 48 %\n",
      "Accuracy of   dog : 27 %\n",
      "Accuracy of  frog : 53 %\n",
      "Accuracy of horse : 51 %\n",
      "Accuracy of  ship : 67 %\n",
      "Accuracy of truck : 68 %\n"
     ]
    }
   ],
   "source": [
    "class_correct = list(0. for i in range(10))\n",
    "class_total = list(0. for i in range(10))\n",
    "with torch.no_grad():\n",
    "    for data in testloader:\n",
    "        images, labels = data\n",
    "        X = images.reshape(-1,inputSize)\n",
    "        outputs = model(X)\n",
    "        _, predicted = torch.max(outputs, 1)\n",
    "        c = (predicted == labels).squeeze()\n",
    "        for i in range(4):\n",
    "            label = labels[i]\n",
    "            class_correct[label] += c[i].item()\n",
    "            class_total[label] += 1\n",
    "\n",
    "\n",
    "for i in range(10):\n",
    "    print('Accuracy of %5s : %2d %%' % (\n",
    "        classes[i], 100 * class_correct[i] / class_total[i]))"
   ]
  }
 ],
 "metadata": {
  "kernelspec": {
   "display_name": "Python 3",
   "language": "python",
   "name": "python3"
  },
  "language_info": {
   "codemirror_mode": {
    "name": "ipython",
    "version": 3
   },
   "file_extension": ".py",
   "mimetype": "text/x-python",
   "name": "python",
   "nbconvert_exporter": "python",
   "pygments_lexer": "ipython3",
   "version": "3.7.4"
  }
 },
 "nbformat": 4,
 "nbformat_minor": 2
}
